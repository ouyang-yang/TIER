{
 "cells": [
  {
   "cell_type": "code",
   "execution_count": 17,
   "metadata": {},
   "outputs": [],
   "source": [
    "import os\n",
    "import sys\n",
    "import time  # 強制等待\n",
    "import requests\n",
    "import pandas as pd  # 載入 pandas\n",
    "from bs4 import BeautifulSoup\n",
    "\n",
    "from selenium import webdriver\n",
    "from webdriver_manager.chrome import ChromeDriverManager\n",
    "from selenium.webdriver.chrome.options import Options  # 設定 driver 的行為\n",
    "from selenium.webdriver.support.ui import Select  # 選擇＂下拉式選單＂\n",
    "from selenium.webdriver.common.keys import Keys  # 鍵盤操作\n",
    "from selenium.common.exceptions import NoSuchElementException, TimeoutException  # 載入常見錯誤\n",
    "from selenium.webdriver.common.desired_capabilities import DesiredCapabilities  # 更改載入策略\n",
    "from selenium.webdriver.support.ui import WebDriverWait  # 等待機制\n",
    "from selenium.webdriver.support import expected_conditions as EC  # 預期事件\n",
    "from selenium.webdriver.common.by import By  # 找尋元素的方法"
   ]
  },
  {
   "cell_type": "code",
   "execution_count": 18,
   "metadata": {},
   "outputs": [],
   "source": [
    "chrome_options = webdriver.ChromeOptions()\n",
    "chrome_options.binary_location = os.environ.get('GOOGLE_CHROME_BIN')\n",
    "chrome_options.add_argument('--incognito')\n",
    "chrome_options.add_argument('--headless')\n",
    "\n",
    "# chrome_options.add_argument('disable-dev-shm-usage')\n",
    "# chrome_options.add_argument('--no-sandbox')\n",
    "chrome_capabilities = DesiredCapabilities.CHROME\n",
    "chrome_capabilities['pageLoadStrategy'] = 'eager'  # 頁面加載策略：HTML 解析成 DOM\n",
    "def get_chrome():\n",
    "    return webdriver.Chrome(options=chrome_options,\n",
    "                            desired_capabilities=chrome_capabilities)"
   ]
  },
  {
   "cell_type": "code",
   "execution_count": 32,
   "metadata": {},
   "outputs": [],
   "source": [
    "\n",
    "def wait_for_element_clickable(driver, element_position, waiting_time=5, by=By.LINK_TEXT):\n",
    "    function = sys._getframe().f_code.co_name\n",
    "    alert_execution_report(function)\n",
    "    print_all_arguments(locals())\n",
    "    try:\n",
    "        node_off()\n",
    "        element = WebDriverWait(driver, waiting_time).until(EC.element_to_be_clickable((by, element_position)))\n",
    "    except Exception as e:\n",
    "        alert_exception_report(function, e)\n",
    "        return False\n",
    "    else:\n",
    "        return element\n",
    "\n",
    "def accurately_find_table_and_read_it(driver, table_position, table_index=0):\n",
    "    function = sys._getframe().f_code.co_name\n",
    "    alert_execution_report(function)\n",
    "    print_all_arguments(locals())\n",
    "    try:\n",
    "        node_off()\n",
    "        if not wait_for_element_present(driver, table_position):\n",
    "            alert_exception_report(function, 'not found table')\n",
    "            return\n",
    "        soup = BeautifulSoup(driver.page_source, 'html.parser')\n",
    "        table_innerHTML = soup.select(table_position)[table_index]\n",
    "        tgt = pd.read_html(str(table_innerHTML), encoding='utf-8')[0]\n",
    "        # tgt['圖書館'], tgt['連結'] = org, driver.current_url\n",
    "    except Exception as e:\n",
    "        alert_exception_report(function, e)\n",
    "        return\n",
    "    else:\n",
    "        return tgt\n",
    "\n",
    "def get_all_tgt_urls(driver, link_text):\n",
    "    function = sys._getframe().f_code.co_name\n",
    "    alert_execution_report(function)\n",
    "    print_all_arguments(locals())\n",
    "    \n",
    "    tgt_urls = []\n",
    "\n",
    "    anchors = driver.find_elements_by_link_text(link_text)\n",
    "    for anchor in anchors:\n",
    "        tgt_urls.append(anchor.get_attribute('href'))\n",
    "    \n",
    "    return tgt_urls"
   ]
  },
  {
   "cell_type": "code",
   "execution_count": 19,
   "metadata": {},
   "outputs": [],
   "source": [
    "def get_employee_data(driver):\n",
    "    # Wait for the pop-up to appear\n",
    "    WebDriverWait(driver, 5).until(EC.presence_of_elements_located((By.ID, \"tableName\")))\n",
    "    \n",
    "    # Get the HTML content of the pop-up\n",
    "    detail_html = driver.page_source\n",
    "    \n",
    "    # Parse the HTKL content with BeautifulSoup\n",
    "    detail_soup = BeautifulSoup(detail_html, \"html.parser\")\n",
    "    \n",
    "    # Find the table containing the data\n",
    "    table = detail_soup.find(\"table\", {\"class\": \"hasBorder\"})\n",
    "    \n",
    "    # Extract data from the table\n",
    "    data = []\n",
    "    for row in table.find_all(\"tr\"):\n",
    "        cells = row.find_all(\"td\")\n",
    "        if len(cells) > 1:\n",
    "            data.append([cell.text.strip() for cell in cells])\n",
    "    \n",
    "    return data"
   ]
  },
  {
   "cell_type": "code",
   "execution_count": 42,
   "metadata": {},
   "outputs": [
    {
     "ename": "AttributeError",
     "evalue": "module 'selenium.webdriver.support.expected_conditions' has no attribute 'presence_of_elements_located'",
     "output_type": "error",
     "traceback": [
      "\u001b[1;31m---------------------------------------------------------------------------\u001b[0m",
      "\u001b[1;31mAttributeError\u001b[0m                            Traceback (most recent call last)",
      "\u001b[1;32m<ipython-input-42-2bffa395242c>\u001b[0m in \u001b[0;36m<module>\u001b[1;34m\u001b[0m\n\u001b[0;32m     27\u001b[0m         \u001b[0mdetail_button\u001b[0m\u001b[1;33m.\u001b[0m\u001b[0mclick\u001b[0m\u001b[1;33m(\u001b[0m\u001b[1;33m)\u001b[0m\u001b[1;33m\u001b[0m\u001b[1;33m\u001b[0m\u001b[0m\n\u001b[0;32m     28\u001b[0m \u001b[1;33m\u001b[0m\u001b[0m\n\u001b[1;32m---> 29\u001b[1;33m         \u001b[0mdetail_data\u001b[0m \u001b[1;33m=\u001b[0m \u001b[0mget_employee_data\u001b[0m\u001b[1;33m(\u001b[0m\u001b[0mdriver\u001b[0m\u001b[1;33m)\u001b[0m\u001b[1;33m\u001b[0m\u001b[1;33m\u001b[0m\u001b[0m\n\u001b[0m\u001b[0;32m     30\u001b[0m \u001b[1;33m\u001b[0m\u001b[0m\n\u001b[0;32m     31\u001b[0m         \u001b[0mdata\u001b[0m\u001b[1;33m.\u001b[0m\u001b[0mappend\u001b[0m\u001b[1;33m(\u001b[0m\u001b[1;33m(\u001b[0m\u001b[0m代號\u001b[0m\u001b[1;33m,\u001b[0m \u001b[0mdetail_data\u001b[0m\u001b[1;33m)\u001b[0m\u001b[1;33m)\u001b[0m\u001b[1;33m\u001b[0m\u001b[1;33m\u001b[0m\u001b[0m\n",
      "\u001b[1;32m<ipython-input-19-3e99adf91f7a>\u001b[0m in \u001b[0;36mget_employee_data\u001b[1;34m(driver)\u001b[0m\n\u001b[0;32m      1\u001b[0m \u001b[1;32mdef\u001b[0m \u001b[0mget_employee_data\u001b[0m\u001b[1;33m(\u001b[0m\u001b[0mdriver\u001b[0m\u001b[1;33m)\u001b[0m\u001b[1;33m:\u001b[0m\u001b[1;33m\u001b[0m\u001b[1;33m\u001b[0m\u001b[0m\n\u001b[0;32m      2\u001b[0m     \u001b[1;31m# Wait for the pop-up to appear\u001b[0m\u001b[1;33m\u001b[0m\u001b[1;33m\u001b[0m\u001b[1;33m\u001b[0m\u001b[0m\n\u001b[1;32m----> 3\u001b[1;33m     \u001b[0mWebDriverWait\u001b[0m\u001b[1;33m(\u001b[0m\u001b[0mdriver\u001b[0m\u001b[1;33m,\u001b[0m \u001b[1;36m5\u001b[0m\u001b[1;33m)\u001b[0m\u001b[1;33m.\u001b[0m\u001b[0muntil\u001b[0m\u001b[1;33m(\u001b[0m\u001b[0mEC\u001b[0m\u001b[1;33m.\u001b[0m\u001b[0mpresence_of_elements_located\u001b[0m\u001b[1;33m(\u001b[0m\u001b[1;33m(\u001b[0m\u001b[0mBy\u001b[0m\u001b[1;33m.\u001b[0m\u001b[0mID\u001b[0m\u001b[1;33m,\u001b[0m \u001b[1;34m\"tableName\"\u001b[0m\u001b[1;33m)\u001b[0m\u001b[1;33m)\u001b[0m\u001b[1;33m)\u001b[0m\u001b[1;33m\u001b[0m\u001b[1;33m\u001b[0m\u001b[0m\n\u001b[0m\u001b[0;32m      4\u001b[0m \u001b[1;33m\u001b[0m\u001b[0m\n\u001b[0;32m      5\u001b[0m     \u001b[1;31m# Get the HTML content of the pop-up\u001b[0m\u001b[1;33m\u001b[0m\u001b[1;33m\u001b[0m\u001b[1;33m\u001b[0m\u001b[0m\n",
      "\u001b[1;31mAttributeError\u001b[0m: module 'selenium.webdriver.support.expected_conditions' has no attribute 'presence_of_elements_located'"
     ]
    }
   ],
   "source": [
    "# Set up Selenium WebDriver\n",
    "driver = webdriver.Chrome(ChromeDriverManager().install())\n",
    "url = 'https://mops.twse.com.tw/mops/web/t100sb13'\n",
    "\n",
    "driver.get(url)\n",
    "\n",
    "year_input = WebDriverWait(driver, 5).until(EC.presence_of_element_located((By.NAME, \"year\")))\n",
    "year_input.clear()\n",
    "year_input.send_keys(\"111\")\n",
    "\n",
    "search_button = WebDriverWait(driver, 5).until(EC.element_to_be_clickable((By.XPATH, \"/html/body/center/table/tbody/tr/td/div[4]/table/tbody/tr/td/div/table/tbody/tr/td[3]/div/div[3]/form/table/tbody/tr/td[4]/table/tbody/tr/td[2]/div/div/input\")))\n",
    "search_button.click()\n",
    "\n",
    "# Find the table containing the data\n",
    "table = WebDriverWait(driver, 5).until(EC.presence_of_element_located((By.XPATH, \"/html/body/center/table/tbody/tr/td/div[4]/table/tbody/tr/td/div/table/tbody/tr/td[3]/div/div[5]/div/form/center/table\")))\n",
    "\n",
    "# Extract data from the table\n",
    "data = []\n",
    "for row in table.find_elements(By.TAG_NAME, \"tr\"):\n",
    "    cells = row.find_elements(By.TAG_NAME, \"td\")\n",
    "    if len(cells) > 1:\n",
    "        # Extract '公司代號'\n",
    "        代號 = cells[0].text.strip()\n",
    "        \n",
    "        # Click on DETAIL button\n",
    "        detail_button = cells[-1].find_element(By.ID, \"DETAIL\")\n",
    "        detail_button.click()\n",
    "        \n",
    "        detail_data = get_employee_data(driver)\n",
    "        \n",
    "        data.append((代號, detail_data))\n",
    "        \n",
    "        close_button = WebDriverWait(driver, 5).until(EC.element_to_be_clickable(By.XPATH, \"//input[@value='關閉']\"))\n",
    "        close_button.click()\n",
    "        \n",
    "driver.quit()\n",
    "\n",
    "df = pd.DataFrame(data, columns=['代號', '詳細資料'])"
   ]
  },
  {
   "cell_type": "code",
   "execution_count": 41,
   "metadata": {},
   "outputs": [
    {
     "data": {
      "text/html": [
       "<div>\n",
       "<style scoped>\n",
       "    .dataframe tbody tr th:only-of-type {\n",
       "        vertical-align: middle;\n",
       "    }\n",
       "\n",
       "    .dataframe tbody tr th {\n",
       "        vertical-align: top;\n",
       "    }\n",
       "\n",
       "    .dataframe thead th {\n",
       "        text-align: right;\n",
       "    }\n",
       "</style>\n",
       "<table border=\"1\" class=\"dataframe\">\n",
       "  <thead>\n",
       "    <tr style=\"text-align: right;\">\n",
       "      <th></th>\n",
       "      <th>代號</th>\n",
       "      <th>詳細資料</th>\n",
       "    </tr>\n",
       "  </thead>\n",
       "  <tbody>\n",
       "  </tbody>\n",
       "</table>\n",
       "</div>"
      ],
      "text/plain": [
       "Empty DataFrame\n",
       "Columns: [代號, 詳細資料]\n",
       "Index: []"
      ]
     },
     "execution_count": 41,
     "metadata": {},
     "output_type": "execute_result"
    }
   ],
   "source": [
    "df"
   ]
  },
  {
   "cell_type": "code",
   "execution_count": null,
   "metadata": {},
   "outputs": [],
   "source": [
    "url = 'https://mops.twse.com.tw/mops/web/t100sb13'\n",
    "response = request.get(url)"
   ]
  }
 ],
 "metadata": {
  "kernelspec": {
   "display_name": "Python 3",
   "language": "python",
   "name": "python3"
  },
  "language_info": {
   "codemirror_mode": {
    "name": "ipython",
    "version": 3
   },
   "file_extension": ".py",
   "mimetype": "text/x-python",
   "name": "python",
   "nbconvert_exporter": "python",
   "pygments_lexer": "ipython3",
   "version": "3.9.2"
  }
 },
 "nbformat": 4,
 "nbformat_minor": 2
}
