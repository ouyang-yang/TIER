{
 "cells": [
  {
   "cell_type": "markdown",
   "metadata": {},
   "source": [
    "#### Packages & Load Data"
   ]
  },
  {
   "cell_type": "code",
   "execution_count": 25,
   "metadata": {},
   "outputs": [],
   "source": [
    "import matplotlib.pyplot as plt\n",
    "import statsmodels.api as sm\n",
    "import seaborn as sns\n",
    "import pandas as pd\n",
    "import numpy as np\n",
    "import plotly.express as px\n",
    "import plotly.graph_objects as go\n",
    "from plotly.subplots import make_subplots\n",
    "from sklearn.linear_model import LinearRegression\n",
    "from sklearn.cluster import KMeans, AgglomerativeClustering\n",
    "from sklearn.metrics import mutual_info_score\n",
    "from sklearn.preprocessing import StandardScaler\n",
    "from scipy import stats"
   ]
  },
  {
   "cell_type": "code",
   "execution_count": 26,
   "metadata": {},
   "outputs": [],
   "source": [
    "file = \"database/dfT_result.csv\"\n",
    "fileEX = \"database/上市公司內外銷資料.xlsx\"\n",
    "df = pd.read_csv(file, encoding='big5')\n",
    "dfEX = pd.read_excel(fileEX)"
   ]
  },
  {
   "cell_type": "code",
   "execution_count": 27,
   "metadata": {},
   "outputs": [
    {
     "name": "stdout",
     "output_type": "stream",
     "text": [
      "       代號  industry_id LEVEL_111   E1   E9  E10  E17   Q4   Q7  Q11  ...  \\\n",
      "0    1101           14        B+  2.0  2.0  4.0  3.0  4.0  4.0  1.0  ...   \n",
      "1    1102           14         A  4.0  3.0  1.0  4.0  3.0  4.0  2.0  ...   \n",
      "2    1103           14         B  2.0  4.0  1.0  4.0  2.0  2.0  1.0  ...   \n",
      "3    1104           14        B+  2.0  2.0  2.0  2.0  2.0  2.0  1.0  ...   \n",
      "4    1108           14         B  4.0  4.0  2.0  4.0  3.0  3.0  1.0  ...   \n",
      "..    ...          ...       ...  ...  ...  ...  ...  ...  ...  ...  ...   \n",
      "704  9938            3        B+  2.0  2.0  1.0  4.0  1.0  2.0  1.0  ...   \n",
      "705  9939           15        B+  4.0  2.0  1.0  4.0  1.0  1.0  1.0  ...   \n",
      "706  9942           22         B  4.0  2.0  1.0  4.0  1.0  1.0  1.0  ...   \n",
      "707  9944            3        B-  4.0  4.0  1.0  4.0  1.0  1.0  1.0  ...   \n",
      "708  9958           16         B  4.0  4.0  1.0  4.0  1.0  1.0  1.0  ...   \n",
      "\n",
      "     S3_topic_score S4_topic_score S5_topic_score  G1_topic_score  \\\n",
      "0               6.0            2.0       5.333333             7.0   \n",
      "1               4.0            2.0       5.333333             4.0   \n",
      "2               3.0            5.0       4.666667             4.0   \n",
      "3               7.0            5.0       5.333333             7.0   \n",
      "4               5.0            3.0       4.000000             4.0   \n",
      "..              ...            ...            ...             ...   \n",
      "704             1.0            1.0       2.666667             4.0   \n",
      "705             1.0            2.0       3.333333             4.0   \n",
      "706             1.0            4.0       2.666667             4.0   \n",
      "707             1.0            1.0       2.666667             4.0   \n",
      "708             1.0            1.0       3.333333             4.0   \n",
      "\n",
      "     G2_topic_score  G3_topic_score  G4_topic_score  ESG_rating      生產值(千元)  \\\n",
      "0               4.0             2.0             2.0           B  104840259.0   \n",
      "1               6.0             4.0             2.0          B+   43048960.0   \n",
      "2               8.0             2.0             2.0          B-    1080469.0   \n",
      "3               4.0             8.0             2.0           B    4533230.0   \n",
      "4               8.0             4.0             2.0           B    2601672.0   \n",
      "..              ...             ...             ...         ...          ...   \n",
      "704             8.0             2.0             0.0          C-   12761981.0   \n",
      "705             8.0             2.0             0.0          C-   20417601.0   \n",
      "706             6.0             8.0             0.0           C    2879472.0   \n",
      "707             6.0             2.0             0.0          C-    2105474.0   \n",
      "708             6.0             4.0             0.0          C-    8779554.0   \n",
      "\n",
      "     外銷比率％  \n",
      "0     6.97  \n",
      "1     1.93  \n",
      "2     0.00  \n",
      "3     0.38  \n",
      "4     0.00  \n",
      "..     ...  \n",
      "704  90.40  \n",
      "705   5.77  \n",
      "706  95.33  \n",
      "707  91.51  \n",
      "708   0.71  \n",
      "\n",
      "[709 rows x 50 columns]\n"
     ]
    }
   ],
   "source": [
    "desired_ex = ['代號', '生產值(千元)', '外銷比率％']\n",
    "dfEX = dfEX[desired_ex]\n",
    "\n",
    "df = df.merge(dfEX, on='代號', how='outer')\n",
    "df = df.dropna(subset=['industry_id'])\n",
    "df['industry_id'] = df['industry_id'].astype(int)\n",
    "print(df)"
   ]
  },
  {
   "cell_type": "code",
   "execution_count": 28,
   "metadata": {},
   "outputs": [
    {
     "data": {
      "text/plain": [
       "count    705.000000\n",
       "mean      63.067518\n",
       "std       34.519705\n",
       "min       -4.800000\n",
       "25%       33.950000\n",
       "50%       77.090000\n",
       "75%       92.470000\n",
       "max      100.000000\n",
       "Name: 外銷比率％, dtype: float64"
      ]
     },
     "execution_count": 28,
     "metadata": {},
     "output_type": "execute_result"
    }
   ],
   "source": [
    "df['外銷比率％'].describe()"
   ]
  },
  {
   "cell_type": "code",
   "execution_count": 29,
   "metadata": {},
   "outputs": [
    {
     "data": {
      "text/plain": [
       "外銷比重\n",
       "0%(無外銷)           31\n",
       "外銷比例超過0%~10%      73\n",
       "外銷比例超過10%~20%     24\n",
       "外銷比例超過20%~30%     35\n",
       "外銷比例超過30%~40%     26\n",
       "外銷比例超過40%~50%     37\n",
       "外銷比例超過50%        478\n",
       "Name: 外銷比重, dtype: int64"
      ]
     },
     "execution_count": 29,
     "metadata": {},
     "output_type": "execute_result"
    }
   ],
   "source": [
    "df['外銷比重'] = pd.cut(df['外銷比率％'], bins=[0, 0.0001, 10, 20, 30, 40, 50, 100], include_lowest=True, \n",
    "       labels = ['0%(無外銷)', '外銷比例超過0%~10%', '外銷比例超過10%~20%', '外銷比例超過20%~30%', '外銷比例超過30%~40%', '外銷比例超過40%~50%', '外銷比例超過50%'])\n",
    "df.groupby('外銷比重')['外銷比重'].count()"
   ]
  },
  {
   "cell_type": "code",
   "execution_count": 30,
   "metadata": {},
   "outputs": [
    {
     "data": {
      "text/plain": [
       "count    6.790000e+02\n",
       "mean     2.979282e+07\n",
       "std      1.709841e+08\n",
       "min      3.586000e+03\n",
       "25%      1.605310e+06\n",
       "50%      3.929906e+06\n",
       "75%      1.198619e+07\n",
       "max      3.721130e+09\n",
       "Name: 生產值(千元), dtype: float64"
      ]
     },
     "execution_count": 30,
     "metadata": {},
     "output_type": "execute_result"
    }
   ],
   "source": [
    "df['生產值(千元)'].describe()"
   ]
  },
  {
   "cell_type": "code",
   "execution_count": 31,
   "metadata": {},
   "outputs": [
    {
     "data": {
      "text/plain": [
       "生產值(元)\n",
       "1億以下           11\n",
       "1億~2億           7\n",
       "2億~5億          39\n",
       "5億~10億         48\n",
       "10億~20億       102\n",
       "20億~50億       166\n",
       "50億~100億      105\n",
       "100億~200億      86\n",
       "200億~500億      55\n",
       "500億~1000億     30\n",
       "大於1000億        30\n",
       "Name: 生產值(元), dtype: int64"
      ]
     },
     "execution_count": 31,
     "metadata": {},
     "output_type": "execute_result"
    }
   ],
   "source": [
    "df['生產值(元)'] = pd.cut(df['生產值(千元)'], bins=[0, 100000, 200000, 500000, 1000000, 2000000, 5000000, 10000000, 20000000, 50000000, 100000000, 4000000000], include_lowest=True, \n",
    "       labels = ['1億以下', '1億~2億', '2億~5億', '5億~10億', '10億~20億', '20億~50億', '50億~100億', '100億~200億', '200億~500億', '500億~1000億', '大於1000億'])\n",
    "df.groupby('生產值(元)')['生產值(元)'].count()"
   ]
  },
  {
   "cell_type": "markdown",
   "metadata": {},
   "source": [
    "##### 依產業別(industry_id)分析"
   ]
  },
  {
   "cell_type": "code",
   "execution_count": 32,
   "metadata": {},
   "outputs": [
    {
     "name": "stderr",
     "output_type": "stream",
     "text": [
      "c:\\Users\\mayda\\AppData\\Local\\Programs\\Python\\Python39\\lib\\site-packages\\sklearn\\cluster\\_kmeans.py:1416: FutureWarning: The default value of `n_init` will change from 10 to 'auto' in 1.4. Set the value of `n_init` explicitly to suppress the warning\n",
      "  super()._check_params_vs_input(X, default_n_init=10)\n"
     ]
    },
    {
     "data": {
      "image/png": "[encoded data removed]",
      "text/plain": [
       "<Figure size 720x432 with 1 Axes>"
      ]
     },
     "metadata": {
      "needs_background": "light"
     },
     "output_type": "display_data"
    },
    {
     "name": "stdout",
     "output_type": "stream",
     "text": [
      "[4.26329193 4.97837217 3.58884715]\n"
     ]
    }
   ],
   "source": [
    "df2 = df[['industry_id','ESG_score']].copy()\n",
    "\n",
    "numeric_df = df[['ESG_score']]  # Selecting only the ESG_score column for clustering\n",
    "\n",
    "# Perform K-means clustering\n",
    "kmeans = KMeans(n_clusters=3)  # Can adjust the number of clusters as needed\n",
    "kmeans.fit(numeric_df)\n",
    "labels = kmeans.labels_\n",
    "centroids = kmeans.cluster_centers_\n",
    "cluster_edges = [(centroids[0]+centroids[i+1])/2 for i in range(len(centroids)-1)]\n",
    "\n",
    "# Add cluster labels to the DataFrame\n",
    "df2['cluster'] = labels\n",
    "\n",
    "# Plotting\n",
    "plt.figure(figsize=(10, 6))\n",
    "\n",
    "for i, edge in enumerate(cluster_edges):\n",
    "    plt.axhline(y=edge[0], color='gray', linestyle='--')\n",
    "    plt.text(0.5, edge[0], f'{edge[0]:.2f}', ha='center', va='bottom')\n",
    "\n",
    "for cluster_label in df2['cluster'].unique():\n",
    "    cluster_data = df2[df2['cluster'] == cluster_label]\n",
    "    plt.scatter(cluster_data['industry_id'], cluster_data['ESG_score'], label=f'Cluster {cluster_label}')\n",
    "\n",
    "plt.xlabel('industry_id')\n",
    "plt.ylabel('ESG Score')\n",
    "plt.title('Clustering of industry_id based on ESG Score')\n",
    "plt.legend()\n",
    "plt.show()\n",
    "\n",
    "print(centroids[: ,0])"
   ]
  },
  {
   "cell_type": "code",
   "execution_count": 33,
   "metadata": {},
   "outputs": [
    {
     "name": "stdout",
     "output_type": "stream",
     "text": [
      "    industry_id  樣本數  E_score  S_score  G_score  ESG_score\n",
      "0             1   17   4.2627   5.2588   4.3382     4.5389\n",
      "1             2    5   4.7333   5.1067   5.3000     5.0307\n",
      "2             3   38   4.2035   3.9246   3.9474     4.0416\n",
      "3             4    8   4.2500   4.0083   3.7188     3.9983\n",
      "4             5    7   4.5905   4.2952   4.2857     4.4070\n",
      "5             7    7   4.4286   5.0000   4.3571     4.5457\n",
      "6             8    2   4.0333   2.2000   3.8750     3.5180\n",
      "7             9    1   4.5333   4.6000   4.5000     4.5380\n",
      "8            10   30   4.7022   4.7422   4.5917     4.6724\n",
      "9            11   16   4.5375   4.9208   4.5156     4.6255\n",
      "10           12   22   4.2333   4.2515   4.1250     4.1989\n",
      "11           13    7   4.4762   4.7524   4.8214     4.6695\n",
      "12           14   16   4.2875   4.2875   4.2500     4.2740\n",
      "13           15   13   4.1538   4.0974   4.2885     4.1882\n",
      "14           16   32   4.5146   4.5917   4.4609     4.5145\n",
      "15           17   19   4.2772   3.8456   4.1053     4.1074\n",
      "16           18  215   4.4850   4.1947   4.2698     4.3349\n",
      "17           19  105   4.3911   4.2832   4.2190     4.3022\n",
      "18           20   31   4.2839   4.0645   4.0726     4.1530\n",
      "19           21   40   4.2883   4.0000   4.0938     4.1462\n",
      "20           22   32   4.1479   3.9583   4.0234     4.0557\n",
      "21           23   14   4.4952   3.8571   4.1071     4.1960\n",
      "22           24    8   4.1167   3.1417   4.2812     3.9322\n",
      "23           25   24   4.6417   4.2222   3.9479     4.2871\n"
     ]
    }
   ],
   "source": [
    "# Calculate the count of factories in each industry\n",
    "industry_counts = df.groupby(['industry_id']).size().reset_index(name='樣本數')\n",
    "\n",
    "# Calculate the mean scores for each industry\n",
    "industry_scores = df.groupby(['industry_id']).agg({\n",
    "    'E_score': 'mean',\n",
    "    'S_score': 'mean',\n",
    "    'G_score': 'mean',\n",
    "    'ESG_score': 'mean'\n",
    "}).reset_index()\n",
    "\n",
    "# Merge counts and scores into a new DataFrame\n",
    "industry_summary = pd.merge(industry_counts, industry_scores, on='industry_id')\n",
    "industry_summary = industry_summary.round(4)\n",
    "\n",
    "print(industry_summary)"
   ]
  },
  {
   "cell_type": "markdown",
   "metadata": {},
   "source": [
    "##### 依規模別分析"
   ]
  },
  {
   "cell_type": "code",
   "execution_count": 34,
   "metadata": {},
   "outputs": [
    {
     "name": "stdout",
     "output_type": "stream",
     "text": [
      "        生產值(元)  樣本數  E_score  S_score  G_score  ESG_score\n",
      "0         1億以下   11   4.4667   4.2303   3.9773     4.2314\n",
      "1        1億~2億    7   4.1429   3.6000   3.2143     3.6729\n",
      "2        2億~5億   39   4.2222   4.0410   3.9808     4.0900\n",
      "3       5億~10億   48   4.1111   3.8125   3.8906     3.9571\n",
      "4      10億~20億  102   4.3510   4.2438   4.1569     4.2543\n",
      "5      20億~50億  166   4.4209   4.1827   4.0768     4.2375\n",
      "6     50億~100億  105   4.4781   4.0870   4.1429     4.2596\n",
      "7    100億~200億   86   4.3729   4.3984   4.5145     4.4303\n",
      "8    200億~500億   55   4.4848   4.6424   4.6727     4.5919\n",
      "9   500億~1000億   30   4.7867   4.7689   4.7083     4.7540\n",
      "10     大於1000億   30   4.8956   4.6267   4.8333     4.8059\n"
     ]
    }
   ],
   "source": [
    "# Calculate the count of factories in each size level\n",
    "size_counts = df.groupby(['生產值(元)']).size().reset_index(name='樣本數')\n",
    "\n",
    "# Calculate the mean scores for each company size\n",
    "size_scores = df.groupby(['生產值(元)']).agg({\n",
    "    'E_score': 'mean',\n",
    "    'S_score': 'mean',\n",
    "    'G_score': 'mean',\n",
    "    'ESG_score': 'mean'\n",
    "}).reset_index()\n",
    "\n",
    "# Merge counts and scores into a new DataFrame\n",
    "size_summary = pd.merge(size_counts, size_scores, on='生產值(元)')\n",
    "size_summary = size_summary.round(4)\n",
    "\n",
    "print(size_summary)"
   ]
  },
  {
   "cell_type": "markdown",
   "metadata": {},
   "source": [
    "##### 整體製造業"
   ]
  },
  {
   "cell_type": "code",
   "execution_count": 35,
   "metadata": {},
   "outputs": [],
   "source": [
    "mean_E = df['E_score'].mean() \n",
    "mean_S = df['S_score'].mean() \n",
    "mean_G = df['G_score'].mean() \n",
    "mean_ESG = df['ESG_score'].mean() "
   ]
  },
  {
   "cell_type": "code",
   "execution_count": 36,
   "metadata": {},
   "outputs": [
    {
     "name": "stdout",
     "output_type": "stream",
     "text": [
      "4.403008932769159 4.237799717912552 4.228490832157969 4.298880112834979\n"
     ]
    }
   ],
   "source": [
    "print(mean_E, mean_S, mean_G, mean_ESG)"
   ]
  }
 ],
 "metadata": {
  "kernelspec": {
   "display_name": "Python 3",
   "language": "python",
   "name": "python3"
  },
  "language_info": {
   "codemirror_mode": {
    "name": "ipython",
    "version": 3
   },
   "file_extension": ".py",
   "mimetype": "text/x-python",
   "name": "python",
   "nbconvert_exporter": "python",
   "pygments_lexer": "ipython3",
   "version": "3.9.2"
  }
 },
 "nbformat": 4,
 "nbformat_minor": 2
}
