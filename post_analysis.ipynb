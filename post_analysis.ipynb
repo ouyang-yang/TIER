{
 "cells": [
  {
   "cell_type": "markdown",
   "metadata": {},
   "source": [
    "#### Packages & Load Data"
   ]
  },
  {
   "cell_type": "code",
   "execution_count": 75,
   "metadata": {},
   "outputs": [],
   "source": [
    "import matplotlib.pyplot as plt\n",
    "import statsmodels.api as sm\n",
    "import seaborn as sns\n",
    "import pandas as pd\n",
    "import numpy as np\n",
    "import plotly.express as px\n",
    "import plotly.graph_objects as go\n",
    "from plotly.subplots import make_subplots\n",
    "from sklearn.linear_model import LinearRegression\n",
    "from sklearn.cluster import KMeans, AgglomerativeClustering\n",
    "from sklearn.metrics import mutual_info_score\n",
    "from sklearn.preprocessing import StandardScaler\n",
    "from scipy import stats"
   ]
  },
  {
   "cell_type": "code",
   "execution_count": 76,
   "metadata": {},
   "outputs": [],
   "source": [
    "file = \"database/dfT_result.csv\"\n",
    "fileEX = \"database/上市公司內外銷資料.xlsx\"\n",
    "df = pd.read_csv(file, encoding='big5')\n",
    "dfEX = pd.read_excel(fileEX)"
   ]
  },
  {
   "cell_type": "code",
   "execution_count": 77,
   "metadata": {},
   "outputs": [
    {
     "name": "stdout",
     "output_type": "stream",
     "text": [
      "       代號  industry_id LEVEL_111   E1   E9  E10  E17   Q4   Q7  Q11  ...  G19  \\\n",
      "0    1101           14        B+  2.0  2.0  4.0  3.0  4.0  4.0  1.0  ...  2.0   \n",
      "1    1102           14         A  4.0  3.0  1.0  4.0  3.0  4.0  2.0  ...  3.0   \n",
      "2    1103           14         B  2.0  4.0  1.0  4.0  2.0  2.0  1.0  ...  4.0   \n",
      "3    1104           14        B+  2.0  2.0  2.0  2.0  2.0  2.0  1.0  ...  2.0   \n",
      "4    1108           14         B  4.0  4.0  2.0  4.0  3.0  3.0  1.0  ...  4.0   \n",
      "..    ...          ...       ...  ...  ...  ...  ...  ...  ...  ...  ...  ...   \n",
      "704  9938            3        B+  2.0  2.0  1.0  4.0  1.0  2.0  1.0  ...  4.0   \n",
      "705  9939           15        B+  4.0  2.0  1.0  4.0  1.0  1.0  1.0  ...  4.0   \n",
      "706  9942           22         B  4.0  2.0  1.0  4.0  1.0  1.0  1.0  ...  3.0   \n",
      "707  9944            3        B-  4.0  4.0  1.0  4.0  1.0  1.0  1.0  ...  3.0   \n",
      "708  9958           16         B  4.0  4.0  1.0  4.0  1.0  1.0  1.0  ...  3.0   \n",
      "\n",
      "     Q34_2  Q35_2  E_score   S_score  G_score  ESG_score  ESG_rating  \\\n",
      "0      4.0    3.0    3.000  2.333333     2.50   2.653333           B   \n",
      "1      1.0    3.0    3.125  2.833333     2.25   2.737083          B+   \n",
      "2      1.0    3.0    2.250  2.833333     2.25   2.395833          B-   \n",
      "3      4.0    3.0    1.750  3.000000     3.25   2.602500           B   \n",
      "4      1.0    3.0    2.750  3.000000     2.50   2.722500          B+   \n",
      "..     ...    ...      ...       ...      ...        ...         ...   \n",
      "704    1.0    3.0    1.750  2.000000     2.25   1.992500          C-   \n",
      "705    1.0    3.0    1.875  2.333333     2.25   2.124583           C   \n",
      "706    1.0    3.0    1.875  2.166667     2.75   2.262917           C   \n",
      "707    1.0    3.0    2.125  2.166667     2.00   2.090417           C   \n",
      "708    1.0    3.0    2.125  1.500000     2.25   2.013750          C-   \n",
      "\n",
      "         生產值(千元)  外銷比率％  \n",
      "0    104840259.0   6.97  \n",
      "1     43048960.0   1.93  \n",
      "2      1080469.0   0.00  \n",
      "3      4533230.0   0.38  \n",
      "4      2601672.0   0.00  \n",
      "..           ...    ...  \n",
      "704   12761981.0  90.40  \n",
      "705   20417601.0   5.77  \n",
      "706    2879472.0  95.33  \n",
      "707    2105474.0  91.51  \n",
      "708    8779554.0   0.71  \n",
      "\n",
      "[709 rows x 28 columns]\n"
     ]
    }
   ],
   "source": [
    "desired_ex = ['代號', '生產值(千元)', '外銷比率％']\n",
    "dfEX = dfEX[desired_ex]\n",
    "\n",
    "df = df.merge(dfEX, on='代號', how='outer')\n",
    "df = df.dropna(subset=['industry_id'])\n",
    "df['industry_id'] = df['industry_id'].astype(int)\n",
    "print(df)"
   ]
  },
  {
   "cell_type": "code",
   "execution_count": 78,
   "metadata": {},
   "outputs": [
    {
     "data": {
      "text/plain": [
       "count    705.000000\n",
       "mean      63.067518\n",
       "std       34.519705\n",
       "min       -4.800000\n",
       "25%       33.950000\n",
       "50%       77.090000\n",
       "75%       92.470000\n",
       "max      100.000000\n",
       "Name: 外銷比率％, dtype: float64"
      ]
     },
     "execution_count": 78,
     "metadata": {},
     "output_type": "execute_result"
    }
   ],
   "source": [
    "df['外銷比率％'].describe()"
   ]
  },
  {
   "cell_type": "code",
   "execution_count": 79,
   "metadata": {},
   "outputs": [
    {
     "data": {
      "text/plain": [
       "外銷比重\n",
       "0%(無外銷)           31\n",
       "外銷比例超過0%~10%      73\n",
       "外銷比例超過10%~20%     24\n",
       "外銷比例超過20%~30%     35\n",
       "外銷比例超過30%~40%     26\n",
       "外銷比例超過40%~50%     37\n",
       "外銷比例超過50%        478\n",
       "Name: 外銷比重, dtype: int64"
      ]
     },
     "execution_count": 79,
     "metadata": {},
     "output_type": "execute_result"
    }
   ],
   "source": [
    "df['外銷比重'] = pd.cut(df['外銷比率％'], bins=[0, 0.0001, 10, 20, 30, 40, 50, 100], include_lowest=True, \n",
    "       labels = ['0%(無外銷)', '外銷比例超過0%~10%', '外銷比例超過10%~20%', '外銷比例超過20%~30%', '外銷比例超過30%~40%', '外銷比例超過40%~50%', '外銷比例超過50%'])\n",
    "df.groupby('外銷比重')['外銷比重'].count()"
   ]
  },
  {
   "cell_type": "code",
   "execution_count": 80,
   "metadata": {},
   "outputs": [
    {
     "data": {
      "text/plain": [
       "count    6.790000e+02\n",
       "mean     2.979282e+07\n",
       "std      1.709841e+08\n",
       "min      3.586000e+03\n",
       "25%      1.605310e+06\n",
       "50%      3.929906e+06\n",
       "75%      1.198619e+07\n",
       "max      3.721130e+09\n",
       "Name: 生產值(千元), dtype: float64"
      ]
     },
     "execution_count": 80,
     "metadata": {},
     "output_type": "execute_result"
    }
   ],
   "source": [
    "df['生產值(千元)'].describe()"
   ]
  },
  {
   "cell_type": "code",
   "execution_count": 81,
   "metadata": {},
   "outputs": [
    {
     "data": {
      "text/plain": [
       "生產值(元)\n",
       "1億以下           11\n",
       "1億~2億           7\n",
       "2億~5億          39\n",
       "5億~10億         48\n",
       "10億~20億       102\n",
       "20億~50億       166\n",
       "50億~100億      105\n",
       "100億~200億      86\n",
       "200億~500億      55\n",
       "500億~1000億     30\n",
       "大於1000億        30\n",
       "Name: 生產值(元), dtype: int64"
      ]
     },
     "execution_count": 81,
     "metadata": {},
     "output_type": "execute_result"
    }
   ],
   "source": [
    "df['生產值(元)'] = pd.cut(df['生產值(千元)'], bins=[0, 100000, 200000, 500000, 1000000, 2000000, 5000000, 10000000, 20000000, 50000000, 100000000, 4000000000], include_lowest=True, \n",
    "       labels = ['1億以下', '1億~2億', '2億~5億', '5億~10億', '10億~20億', '20億~50億', '50億~100億', '100億~200億', '200億~500億', '500億~1000億', '大於1000億'])\n",
    "df.groupby('生產值(元)')['生產值(元)'].count()"
   ]
  },
  {
   "cell_type": "markdown",
   "metadata": {},
   "source": [
    "##### 依產業別(industry_id)分析"
   ]
  },
  {
   "cell_type": "code",
   "execution_count": 82,
   "metadata": {},
   "outputs": [
    {
     "name": "stderr",
     "output_type": "stream",
     "text": [
      "c:\\Users\\mayda\\AppData\\Local\\Programs\\Python\\Python39\\lib\\site-packages\\sklearn\\cluster\\_kmeans.py:1416: FutureWarning: The default value of `n_init` will change from 10 to 'auto' in 1.4. Set the value of `n_init` explicitly to suppress the warning\n",
      "  super()._check_params_vs_input(X, default_n_init=10)\n"
     ]
    },
    {
     "data": {
      "image/png": "[encoded data removed]",
      "text/plain": [
       "<Figure size 720x432 with 1 Axes>"
      ]
     },
     "metadata": {
      "needs_background": "light"
     },
     "output_type": "display_data"
    },
    {
     "name": "stdout",
     "output_type": "stream",
     "text": [
      "[2.53716513 2.95894068 2.15595672]\n"
     ]
    }
   ],
   "source": [
    "df2 = df[['industry_id','ESG_score']].copy()\n",
    "\n",
    "numeric_df = df[['ESG_score']]  # Selecting only the ESG_score column for clustering\n",
    "\n",
    "# Perform K-means clustering\n",
    "kmeans = KMeans(n_clusters=3)  # Can adjust the number of clusters as needed\n",
    "kmeans.fit(numeric_df)\n",
    "labels = kmeans.labels_\n",
    "centroids = kmeans.cluster_centers_\n",
    "cluster_edges = [(centroids[0]+centroids[i+1])/2 for i in range(len(centroids)-1)]\n",
    "\n",
    "# Add cluster labels to the DataFrame\n",
    "df2['cluster'] = labels\n",
    "\n",
    "# Plotting\n",
    "plt.figure(figsize=(10, 6))\n",
    "\n",
    "for i, edge in enumerate(cluster_edges):\n",
    "    plt.axhline(y=edge[0], color='gray', linestyle='--')\n",
    "    plt.text(0.5, edge[0], f'{edge[0]:.2f}', ha='center', va='bottom')\n",
    "\n",
    "for cluster_label in df2['cluster'].unique():\n",
    "    cluster_data = df2[df2['cluster'] == cluster_label]\n",
    "    plt.scatter(cluster_data['industry_id'], cluster_data['ESG_score'], label=f'Cluster {cluster_label}')\n",
    "\n",
    "plt.xlabel('industry_id')\n",
    "plt.ylabel('ESG Score')\n",
    "plt.title('Clustering of industry_id based on ESG Score')\n",
    "plt.legend()\n",
    "plt.show()\n",
    "\n",
    "print(centroids[: ,0])"
   ]
  },
  {
   "cell_type": "code",
   "execution_count": 93,
   "metadata": {},
   "outputs": [
    {
     "name": "stdout",
     "output_type": "stream",
     "text": [
      "    industry_id  樣本數  E_score  S_score  G_score  ESG_score\n",
      "0             1   17   2.5882   3.3137   2.5441     2.7537\n",
      "1             2    5   2.7000   3.1000   2.9500     2.8900\n",
      "2             3   38   2.5329   2.2368   2.3421     2.3902\n",
      "3             4    8   2.5781   2.2292   2.2812     2.3840\n",
      "4             5    7   2.6250   2.5714   2.6071     2.6052\n",
      "5             7    7   2.6607   2.9286   2.5357     2.6827\n",
      "6             8    2   2.4375   2.0833   2.6250     2.4165\n",
      "7             9    1   2.6250   3.0000   2.5000     2.6738\n",
      "8            10   30   2.8333   2.8389   2.6833     2.7807\n",
      "9            11   16   2.6719   2.8542   2.5625     2.6781\n",
      "10           12   22   2.5114   2.6515   2.4545     2.5259\n",
      "11           13    7   2.6786   2.7857   2.7857     2.7439\n",
      "12           14   16   2.5469   2.5521   2.5781     2.5594\n",
      "13           15   13   2.4615   2.4744   2.5000     2.4786\n",
      "14           16   32   2.7305   2.6823   2.6250     2.6805\n",
      "15           17   19   2.5197   2.2281   2.5132     2.4445\n",
      "16           18  215   2.6390   2.3946   2.4965     2.5266\n",
      "17           19  105   2.5881   2.4000   2.4643     2.4965\n",
      "18           20   31   2.5323   2.4355   2.3871     2.4558\n",
      "19           21   40   2.4938   2.3792   2.4500     2.4494\n",
      "20           22   32   2.4258   2.3802   2.4062     2.4074\n",
      "21           23   14   2.6696   2.2976   2.4821     2.5091\n",
      "22           24    8   2.4219   2.3958   2.7500     2.5335\n",
      "23           25   24   2.7188   2.5000   2.3750     2.5403\n"
     ]
    }
   ],
   "source": [
    "# Calculate the count of factories in each industry\n",
    "industry_counts = df.groupby(['industry_id']).size().reset_index(name='樣本數')\n",
    "\n",
    "# Calculate the mean scores for each industry\n",
    "industry_scores = df.groupby(['industry_id']).agg({\n",
    "    'E_score': 'mean',\n",
    "    'S_score': 'mean',\n",
    "    'G_score': 'mean',\n",
    "    'ESG_score': 'mean'\n",
    "}).reset_index()\n",
    "\n",
    "# Merge counts and scores into a new DataFrame\n",
    "industry_summary = pd.merge(industry_counts, industry_scores, on='industry_id')\n",
    "industry_summary = industry_summary.round(4)\n",
    "\n",
    "print(industry_summary)"
   ]
  },
  {
   "cell_type": "code",
   "execution_count": null,
   "metadata": {},
   "outputs": [],
   "source": []
  }
 ],
 "metadata": {
  "kernelspec": {
   "display_name": "Python 3",
   "language": "python",
   "name": "python3"
  },
  "language_info": {
   "codemirror_mode": {
    "name": "ipython",
    "version": 3
   },
   "file_extension": ".py",
   "mimetype": "text/x-python",
   "name": "python",
   "nbconvert_exporter": "python",
   "pygments_lexer": "ipython3",
   "version": "3.9.2"
  }
 },
 "nbformat": 4,
 "nbformat_minor": 2
}
