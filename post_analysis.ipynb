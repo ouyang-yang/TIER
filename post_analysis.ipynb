{
 "cells": [
  {
   "cell_type": "markdown",
   "metadata": {},
   "source": [
    "#### Packages & Load Data"
   ]
  },
  {
   "cell_type": "code",
   "execution_count": 77,
   "metadata": {},
   "outputs": [],
   "source": [
    "import matplotlib.pyplot as plt\n",
    "import statsmodels.api as sm\n",
    "import seaborn as sns\n",
    "import pandas as pd\n",
    "import numpy as np\n",
    "import plotly.express as px\n",
    "import plotly.graph_objects as go\n",
    "from plotly.subplots import make_subplots\n",
    "from sklearn.linear_model import LinearRegression\n",
    "from sklearn.cluster import KMeans, AgglomerativeClustering\n",
    "from sklearn.metrics import mutual_info_score\n",
    "from sklearn.preprocessing import StandardScaler\n",
    "from scipy import stats"
   ]
  },
  {
   "cell_type": "code",
   "execution_count": 78,
   "metadata": {},
   "outputs": [],
   "source": [
    "file = \"database/dfT_result.csv\"\n",
    "fileEX = \"database/上市公司內外銷資料.xlsx\"\n",
    "df = pd.read_csv(file, encoding='big5')\n",
    "dfEX = pd.read_excel(fileEX)"
   ]
  },
  {
   "cell_type": "code",
   "execution_count": 79,
   "metadata": {},
   "outputs": [
    {
     "name": "stdout",
     "output_type": "stream",
     "text": [
      "       代號  industry_id LEVEL_111            E1   E9  E10  E17   Q4   Q7  Q11  \\\n",
      "0    1101           14        B+  1.000000e+00  2.0  0.0  2.0  2.0  2.0  0.0   \n",
      "1    1102           14         A  1.000000e+00  2.0  0.0  2.0  1.0  2.0  0.0   \n",
      "2    1103           14         B  1.000000e+00  1.0  2.0  2.0  0.0  0.0  0.0   \n",
      "3    1104           14        B+  1.000000e+00  0.0  0.0  2.0  0.0  0.0  0.0   \n",
      "4    1108           14         B  0.000000e+00  0.0  0.0  2.0  1.0  1.0  0.0   \n",
      "..    ...          ...       ...           ...  ...  ...  ...  ...  ...  ...   \n",
      "704  9938            3        B+  0.000000e+00  0.0  0.0  2.0  0.0  0.0  0.0   \n",
      "705  9939           15        B+  1.000000e+00  0.0  0.0  2.0  0.0  0.0  0.0   \n",
      "706  9942           22         B -2.147484e+09  0.0  0.0  2.0  0.0  0.0  0.0   \n",
      "707  9944            3        B- -2.147484e+09  2.0  0.0  2.0  0.0  0.0  0.0   \n",
      "708  9958           16         B -2.147484e+09  2.0  0.0  2.0  0.0  0.0  0.0   \n",
      "\n",
      "     ...  S3_topic_score S4_topic_score S5_topic_score  G1_topic_score  \\\n",
      "0    ...             5.0            3.0            3.0             5.0   \n",
      "1    ...             3.0            3.0            5.0             5.0   \n",
      "2    ...             3.0            3.0            3.0             5.0   \n",
      "3    ...             5.0            3.0            3.0             5.0   \n",
      "4    ...             5.0            3.0            3.0             5.0   \n",
      "..   ...             ...            ...            ...             ...   \n",
      "704  ...             0.0            0.0            1.0             5.0   \n",
      "705  ...             0.0            0.0            2.0             5.0   \n",
      "706  ...             0.0            4.0            1.0             5.0   \n",
      "707  ...             0.0            0.0            1.0             5.0   \n",
      "708  ...             0.0            0.0            2.0             5.0   \n",
      "\n",
      "     G2_topic_score  G3_topic_score  G4_topic_score  ESG_rating      生產值(千元)  \\\n",
      "0               4.0             0.0             4.0          B+  104840259.0   \n",
      "1               0.0             0.0             4.0           B   43048960.0   \n",
      "2               4.0             0.0             4.0           C    1080469.0   \n",
      "3               4.0             0.0             4.0           C    4533230.0   \n",
      "4               4.0             0.0             4.0           C    2601672.0   \n",
      "..              ...             ...             ...         ...          ...   \n",
      "704             5.0             0.0             0.0          C-   12761981.0   \n",
      "705             5.0             0.0             0.0          C-   20417601.0   \n",
      "706             4.0             5.0             0.0           C    2879472.0   \n",
      "707             4.0             0.0             0.0          C-    2105474.0   \n",
      "708             4.0             0.0             0.0          C-    8779554.0   \n",
      "\n",
      "     外銷比率％  \n",
      "0     6.97  \n",
      "1     1.93  \n",
      "2     0.00  \n",
      "3     0.38  \n",
      "4     0.00  \n",
      "..     ...  \n",
      "704  90.40  \n",
      "705   5.77  \n",
      "706  95.33  \n",
      "707  91.51  \n",
      "708   0.71  \n",
      "\n",
      "[709 rows x 51 columns]\n"
     ]
    }
   ],
   "source": [
    "desired_ex = ['代號', '生產值(千元)', '外銷比率％']\n",
    "dfEX = dfEX[desired_ex]\n",
    "\n",
    "df = df.merge(dfEX, on='代號', how='outer')\n",
    "df = df.dropna(subset=['industry_id'])\n",
    "df['industry_id'] = df['industry_id'].astype(int)\n",
    "print(df)"
   ]
  },
  {
   "cell_type": "code",
   "execution_count": 80,
   "metadata": {},
   "outputs": [
    {
     "data": {
      "text/plain": [
       "count    705.000000\n",
       "mean      63.067518\n",
       "std       34.519705\n",
       "min       -4.800000\n",
       "25%       33.950000\n",
       "50%       77.090000\n",
       "75%       92.470000\n",
       "max      100.000000\n",
       "Name: 外銷比率％, dtype: float64"
      ]
     },
     "execution_count": 80,
     "metadata": {},
     "output_type": "execute_result"
    }
   ],
   "source": [
    "df['外銷比率％'].describe()"
   ]
  },
  {
   "cell_type": "code",
   "execution_count": 81,
   "metadata": {},
   "outputs": [
    {
     "data": {
      "text/plain": [
       "外銷比重\n",
       "0%(無外銷)           31\n",
       "外銷比例超過0%~10%      73\n",
       "外銷比例超過10%~20%     24\n",
       "外銷比例超過20%~30%     35\n",
       "外銷比例超過30%~40%     26\n",
       "外銷比例超過40%~50%     37\n",
       "外銷比例超過50%        478\n",
       "Name: 外銷比重, dtype: int64"
      ]
     },
     "execution_count": 81,
     "metadata": {},
     "output_type": "execute_result"
    }
   ],
   "source": [
    "df['外銷比重'] = pd.cut(df['外銷比率％'], bins=[0, 0.0001, 10, 20, 30, 40, 50, 100], include_lowest=True, \n",
    "       labels = ['0%(無外銷)', '外銷比例超過0%~10%', '外銷比例超過10%~20%', '外銷比例超過20%~30%', '外銷比例超過30%~40%', '外銷比例超過40%~50%', '外銷比例超過50%'])\n",
    "df.groupby('外銷比重')['外銷比重'].count()"
   ]
  },
  {
   "cell_type": "code",
   "execution_count": 82,
   "metadata": {},
   "outputs": [
    {
     "data": {
      "text/plain": [
       "count    6.790000e+02\n",
       "mean     2.979282e+07\n",
       "std      1.709841e+08\n",
       "min      3.586000e+03\n",
       "25%      1.605310e+06\n",
       "50%      3.929906e+06\n",
       "75%      1.198619e+07\n",
       "max      3.721130e+09\n",
       "Name: 生產值(千元), dtype: float64"
      ]
     },
     "execution_count": 82,
     "metadata": {},
     "output_type": "execute_result"
    }
   ],
   "source": [
    "df['生產值(千元)'].describe()"
   ]
  },
  {
   "cell_type": "code",
   "execution_count": 83,
   "metadata": {},
   "outputs": [
    {
     "data": {
      "text/plain": [
       "生產值(元)\n",
       "1億以下           11\n",
       "1億~2億           7\n",
       "2億~5億          39\n",
       "5億~10億         48\n",
       "10億~20億       102\n",
       "20億~50億       166\n",
       "50億~100億      105\n",
       "100億~200億      86\n",
       "200億~500億      55\n",
       "500億~1000億     30\n",
       "大於1000億        30\n",
       "Name: 生產值(元), dtype: int64"
      ]
     },
     "execution_count": 83,
     "metadata": {},
     "output_type": "execute_result"
    }
   ],
   "source": [
    "df['生產值(元)'] = pd.cut(df['生產值(千元)'], bins=[0, 100000, 200000, 500000, 1000000, 2000000, 5000000, 10000000, 20000000, 50000000, 100000000, 4000000000], include_lowest=True, \n",
    "       labels = ['1億以下', '1億~2億', '2億~5億', '5億~10億', '10億~20億', '20億~50億', '50億~100億', '100億~200億', '200億~500億', '500億~1000億', '大於1000億'])\n",
    "df.groupby('生產值(元)')['生產值(元)'].count()"
   ]
  },
  {
   "cell_type": "markdown",
   "metadata": {},
   "source": [
    "##### 依產業別(industry_id)分析"
   ]
  },
  {
   "cell_type": "code",
   "execution_count": 84,
   "metadata": {},
   "outputs": [
    {
     "name": "stderr",
     "output_type": "stream",
     "text": [
      "c:\\Users\\mayda\\AppData\\Local\\Programs\\Python\\Python39\\lib\\site-packages\\sklearn\\cluster\\_kmeans.py:1416: FutureWarning: The default value of `n_init` will change from 10 to 'auto' in 1.4. Set the value of `n_init` explicitly to suppress the warning\n",
      "  super()._check_params_vs_input(X, default_n_init=10)\n"
     ]
    },
    {
     "data": {
      "image/png": "[encoded data removed]",
      "text/plain": [
       "<Figure size 720x432 with 1 Axes>"
      ]
     },
     "metadata": {},
     "output_type": "display_data"
    },
    {
     "name": "stdout",
     "output_type": "stream",
     "text": [
      "[3.48781095 2.09433824 2.84354301]\n"
     ]
    }
   ],
   "source": [
    "df2 = df[['industry_id','ESG_score']].copy()\n",
    "\n",
    "numeric_df = df[['ESG_score']]  # Selecting only the ESG_score column for clustering\n",
    "\n",
    "# Perform K-means clustering\n",
    "kmeans = KMeans(n_clusters=3)  # Can adjust the number of clusters as needed\n",
    "kmeans.fit(numeric_df)\n",
    "labels = kmeans.labels_\n",
    "centroids = kmeans.cluster_centers_\n",
    "cluster_edges = [(centroids[0]+centroids[i+1])/2 for i in range(len(centroids)-1)]\n",
    "\n",
    "# Add cluster labels to the DataFrame\n",
    "df2['cluster'] = labels\n",
    "\n",
    "# Plotting\n",
    "plt.figure(figsize=(10, 6))\n",
    "\n",
    "for i, edge in enumerate(cluster_edges):\n",
    "    plt.axhline(y=edge[0], color='gray', linestyle='--')\n",
    "    plt.text(0.5, edge[0], f'{edge[0]:.2f}', ha='center', va='bottom')\n",
    "\n",
    "for cluster_label in df2['cluster'].unique():\n",
    "    cluster_data = df2[df2['cluster'] == cluster_label]\n",
    "    plt.scatter(cluster_data['industry_id'], cluster_data['ESG_score'], label=f'Cluster {cluster_label}')\n",
    "\n",
    "plt.xlabel('industry_id')\n",
    "plt.ylabel('ESG Score')\n",
    "plt.title('Clustering of industry_id based on ESG Score')\n",
    "plt.legend()\n",
    "plt.show()\n",
    "\n",
    "print(centroids[: ,0])"
   ]
  },
  {
   "cell_type": "code",
   "execution_count": 85,
   "metadata": {},
   "outputs": [
    {
     "name": "stdout",
     "output_type": "stream",
     "text": [
      "    industry_id  樣本數  E_score  S_score  G_score  ESG_score\n",
      "0             1   17   2.2941   4.0353   2.7647     2.8988\n",
      "1             2    5   2.9600   4.0800   4.0000     3.6144\n",
      "2             3   38   1.8421   3.5211   3.2368     2.7639\n",
      "3             4    8   1.9000   3.4750   3.0000     2.6897\n",
      "4             5    7   2.2571   3.7714   3.1429     2.9546\n",
      "5             7    7   1.6857   3.7143   3.2500     2.7560\n",
      "6             8    2   2.0000   1.3000   2.5000     2.0050\n",
      "7             9    1   1.6000   4.2000   3.5000     2.9340\n",
      "8            10   30   2.6533   4.0600   2.9917     3.1268\n",
      "9            11   16   2.5750   3.6125   3.1875     3.0549\n",
      "10           12   22   1.9636   3.5727   2.7500     2.6490\n",
      "11           13    7   2.4000   3.8857   2.9286     2.9617\n",
      "12           14   16   2.1125   3.3625   2.7969     2.6714\n",
      "13           15   13   1.7692   2.8769   2.7692     2.4062\n",
      "14           16   32   2.2000   3.6938   3.1406     2.9121\n",
      "15           17   19   2.1474   3.2632   2.8816     2.6906\n",
      "16           18  215   2.1898   3.8130   3.2174     2.9655\n",
      "17           19  105   2.1505   3.7448   3.1881     2.9226\n",
      "18           20   31   2.0452   3.7613   3.0645     2.8412\n",
      "19           21   40   2.0500   3.5700   3.1438     2.8237\n",
      "20           22   32   2.0000   3.4063   2.7734     2.6300\n",
      "21           23   14   2.4000   3.6429   2.9821     2.9203\n",
      "22           24    8   1.8750   2.3250   2.9062     2.3588\n",
      "23           25   24   2.6083   3.7000   3.1042     3.0597\n"
     ]
    }
   ],
   "source": [
    "# Calculate the count of factories in each industry\n",
    "industry_counts = df.groupby(['industry_id']).size().reset_index(name='樣本數')\n",
    "\n",
    "# Calculate the mean scores for each industry\n",
    "industry_scores = df.groupby(['industry_id']).agg({\n",
    "    'E_score': 'mean',\n",
    "    'S_score': 'mean',\n",
    "    'G_score': 'mean',\n",
    "    'ESG_score': 'mean'\n",
    "}).reset_index()\n",
    "\n",
    "# Merge counts and scores into a new DataFrame\n",
    "industry_summary = pd.merge(industry_counts, industry_scores, on='industry_id')\n",
    "industry_summary = industry_summary.round(4)\n",
    "industry_summary.to_csv(\"上市公司依產業別.csv\", encoding='big5')\n",
    "print(industry_summary)"
   ]
  },
  {
   "cell_type": "markdown",
   "metadata": {},
   "source": [
    "##### 依規模別分析"
   ]
  },
  {
   "cell_type": "code",
   "execution_count": 86,
   "metadata": {},
   "outputs": [
    {
     "name": "stdout",
     "output_type": "stream",
     "text": [
      "        生產值(元)  樣本數  E_score  S_score  G_score  ESG_score\n",
      "0         1億以下   11   2.3273   3.8727   3.1136     2.9967\n",
      "1        1億~2億    7   2.0571   2.9429   2.5714     2.4637\n",
      "2        2億~5億   39   2.1744   3.7692   3.1218     2.9142\n",
      "3       5億~10億   48   1.9958   3.4000   3.0156     2.7140\n",
      "4      10億~20億  102   2.1784   3.6039   3.0539     2.8500\n",
      "5      20億~50億  166   2.1627   3.6867   3.0377     2.8587\n",
      "6     50億~100億  105   2.2267   3.5448   2.9786     2.8269\n",
      "7    100億~200億   86   2.0860   3.8349   3.2674     2.9486\n",
      "8    200億~500億   55   2.1418   3.8909   3.2409     2.9748\n",
      "9   500億~1000億   30   2.2800   3.9800   3.3833     3.1022\n",
      "10     大於1000億   30   2.6933   3.8933   3.3083     3.2147\n"
     ]
    }
   ],
   "source": [
    "# Calculate the count of factories in each size level\n",
    "size_counts = df.groupby(['生產值(元)']).size().reset_index(name='樣本數')\n",
    "\n",
    "# Calculate the mean scores for each company size\n",
    "size_scores = df.groupby(['生產值(元)']).agg({\n",
    "    'E_score': 'mean',\n",
    "    'S_score': 'mean',\n",
    "    'G_score': 'mean',\n",
    "    'ESG_score': 'mean'\n",
    "}).reset_index()\n",
    "\n",
    "# Merge counts and scores into a new DataFrame\n",
    "size_summary = pd.merge(size_counts, size_scores, on='生產值(元)')\n",
    "size_summary = size_summary.round(4)\n",
    "size_summary.to_csv(\"上市公司依規模.csv\", encoding='big5')\n",
    "print(size_summary)"
   ]
  },
  {
   "cell_type": "markdown",
   "metadata": {},
   "source": [
    "##### 依外銷比重"
   ]
  },
  {
   "cell_type": "code",
   "execution_count": 87,
   "metadata": {},
   "outputs": [
    {
     "name": "stdout",
     "output_type": "stream",
     "text": [
      "            外銷比重  樣本數  E_score  S_score  G_score  ESG_score\n",
      "0        0%(無外銷)   31   2.1419   3.5032   3.0000     2.7912\n",
      "1   外銷比例超過0%~10%   73   2.1671   3.8466   3.0822     2.9164\n",
      "2  外銷比例超過10%~20%   24   2.1833   3.5833   3.1875     2.8948\n",
      "3  外銷比例超過20%~30%   35   2.0057   3.4286   3.0000     2.7194\n",
      "4  外銷比例超過30%~40%   26   2.1462   3.8385   3.1538     2.9320\n",
      "5  外銷比例超過40%~50%   37   2.4865   3.9459   3.1486     3.0897\n",
      "6      外銷比例超過50%  478   2.1485   3.6628   3.1182     2.8762\n"
     ]
    }
   ],
   "source": [
    "# Calculate the count of factories in each export ratio\n",
    "export_counts = df.groupby(['外銷比重']).size().reset_index(name='樣本數')\n",
    "\n",
    "# Calculate the mean scores for each company export ratio\n",
    "export_scores = df.groupby(['外銷比重']).agg({\n",
    "    'E_score': 'mean',\n",
    "    'S_score': 'mean',\n",
    "    'G_score': 'mean',\n",
    "    'ESG_score': 'mean'\n",
    "}).reset_index()\n",
    "\n",
    "# Merge counts and scores into a new DataFrame\n",
    "export_summary = pd.merge(export_counts, export_scores, on='外銷比重')\n",
    "export_summary = export_summary.round(4)\n",
    "export_summary.to_csv(\"上市公司依外銷比重.csv\", encoding='big5')\n",
    "print(export_summary)"
   ]
  },
  {
   "cell_type": "code",
   "execution_count": 108,
   "metadata": {},
   "outputs": [
    {
     "name": "stdout",
     "output_type": "stream",
     "text": [
      "industry_id\n",
      "18    179\n",
      "19     93\n",
      "21     32\n",
      "22     24\n",
      "10     19\n",
      "3      18\n",
      "17     17\n",
      "25     14\n",
      "20     10\n",
      "23      9\n",
      "12      9\n",
      "15      8\n",
      "16      7\n",
      "11      7\n",
      "4       7\n",
      "24      7\n",
      "13      6\n",
      "5       5\n",
      "7       3\n",
      "1       2\n",
      "14      1\n",
      "8       1\n",
      "Name: 代號, dtype: int64\n"
     ]
    }
   ],
   "source": [
    "def count_company_exceeding_export_ratio(df, export_ratio='外銷比例超過50%', column_name='industry_id'):\n",
    "    # Filter the DataFrame to include only rows where the export ratio exceeds 50%\n",
    "    df_filtered = df[df['外銷比重'] == export_ratio]\n",
    "    \n",
    "    # Use the count_factory_by_industry function to count the number of companies in each industry\n",
    "    count_by_industry = count_factory_by_industry(df_filtered, column_name)\n",
    "    \n",
    "    return count_by_industry\n",
    "\n",
    "# Call the function to count the number of companies in each industry with export ratio exceeding 50%\n",
    "company_count_by_industry = count_company_exceeding_export_ratio(df)\n",
    "\n",
    "print(company_count_by_industry)\n"
   ]
  },
  {
   "cell_type": "markdown",
   "metadata": {},
   "source": [
    "##### 整體製造業"
   ]
  },
  {
   "cell_type": "code",
   "execution_count": 134,
   "metadata": {},
   "outputs": [],
   "source": [
    "mean_E = df['E_score'].mean() \n",
    "mean_S = df['S_score'].mean() \n",
    "mean_G = df['G_score'].mean() \n",
    "mean_ESG = df['ESG_score'].mean() "
   ]
  },
  {
   "cell_type": "code",
   "execution_count": 135,
   "metadata": {},
   "outputs": [
    {
     "name": "stdout",
     "output_type": "stream",
     "text": [
      "2.169534555712271 3.676163610719323 3.103667136812412 2.8824795486600845\n"
     ]
    }
   ],
   "source": [
    "print(mean_E, mean_S, mean_G, mean_ESG)"
   ]
  },
  {
   "cell_type": "code",
   "execution_count": 90,
   "metadata": {},
   "outputs": [
    {
     "data": {
      "text/plain": [
       "count    709.000000\n",
       "mean       2.882480\n",
       "std        0.530766\n",
       "min        1.090000\n",
       "25%        2.590000\n",
       "50%        2.902000\n",
       "75%        3.218000\n",
       "max        4.330000\n",
       "Name: ESG_score, dtype: float64"
      ]
     },
     "execution_count": 90,
     "metadata": {},
     "output_type": "execute_result"
    }
   ],
   "source": [
    "df['ESG_score'].describe()"
   ]
  },
  {
   "cell_type": "code",
   "execution_count": 91,
   "metadata": {},
   "outputs": [
    {
     "data": {
      "image/png": "[encoded data removed]",
      "text/plain": [
       "<Figure size 576x108 with 1 Axes>"
      ]
     },
     "metadata": {},
     "output_type": "display_data"
    }
   ],
   "source": [
    "# Set the style of the seaborn plots\n",
    "sns.set(style=\"whitegrid\")\n",
    "\n",
    "# Draw the box plot of ESG score\n",
    "plt.figure(figsize=(8, 1.5))\n",
    "sns.boxplot(x='G_score', data=df, palette=\"pastel\")\n",
    "plt.xticks(np.arange(0, 5.5, 0.5))\n",
    "plt.xlabel('G Score')\n",
    "plt.show()"
   ]
  },
  {
   "cell_type": "markdown",
   "metadata": {},
   "source": [
    "#### 各種分析"
   ]
  },
  {
   "cell_type": "code",
   "execution_count": 103,
   "metadata": {},
   "outputs": [],
   "source": [
    "def get_top_bottom_percentiles(df, column_name, top_pct=15, bottom_pct=25):\n",
    "\n",
    "    # Sort the DataFrame by ESG scores\n",
    "    df_sorted = df.sort_values(by='ESG_score', ascending=False)\n",
    "    num_factories = len(df_sorted)\n",
    "\n",
    "    # Select the top 10 and bottom 10 factories\n",
    "    top_n = int(num_factories * (top_pct /100))\n",
    "    bottom_n = int(num_factories * (bottom_pct /100))\n",
    "    total_rank = num_factories\n",
    "\n",
    "    df_sorted['Rank'] = df_sorted.index.map({\n",
    "        i: rank if i < top_n else total_rank - rank - 4\n",
    "        for i, rank in enumerate(range(1, top_n+1))\n",
    "    })\n",
    "\n",
    "    top_indices = df_sorted.index[:top_n]\n",
    "    bottom_indices = df_sorted.index[-bottom_n:]\n",
    "    return top_indices, bottom_indices\n",
    "\n",
    "def count_factory_by_industry(df, column_name='industry_id'):\n",
    "    count_factory = df.groupby(column_name)['代號'].count()\n",
    "    count_factory = count_factory.sort_values(ascending=False)\n",
    "    return count_factory\n",
    "\n",
    "def perc_factory_by_industry(df, df_specific, column_name='industry_id'):\n",
    "    all_factory = df.groupby(column_name)['代號'].count()\n",
    "    specific_factory = df_specific.groupby(column_name)['代號'].count()\n",
    "    perc_factory = (specific_factory / all_factory).sort_values(ascending=False)\n",
    "    return perc_factory\n",
    "\n",
    "def count_export_by_industry(df, column_name='industry_id'):\n",
    "    export_factory = df.groupby(column_name)['代號'].count()\n",
    "    export_factory = export_factory.sort_values(ascending=False)\n",
    "    return export_factory"
   ]
  },
  {
   "cell_type": "code",
   "execution_count": 104,
   "metadata": {},
   "outputs": [],
   "source": [
    "top_indices, bottom_indices = get_top_bottom_percentiles(df, 'ESG_score')\n",
    "top_factories = df.loc[top_indices]\n",
    "bottom_factories = df.loc[bottom_indices]\n",
    "\n",
    "top_factory_counts = count_factory_by_industry(top_factories)\n",
    "top_factory_df = pd.Series(perc_factory_by_industry(df, top_factories)).to_frame(name=\"Top Factories\")\n",
    "\n",
    "bottom_factory_counts = count_factory_by_industry(bottom_factories)\n",
    "bottom_factory_df = pd.Series(perc_factory_by_industry(df, bottom_factories)).to_frame(name=\"Top Factories\")"
   ]
  },
  {
   "cell_type": "markdown",
   "metadata": {},
   "source": [
    "##### CR4"
   ]
  },
  {
   "cell_type": "code",
   "execution_count": 126,
   "metadata": {},
   "outputs": [],
   "source": [
    "industry_market_value = {\n",
    "    1: (867075266),  # id=1, 食品製造業, 食品與飲料\n",
    "    2: (183844682),  # id=2, 飲料製造業/菸草製造業, 食品與飲料\n",
    "    3: (378790046),  # id=3, 紡織業, 消費品\n",
    "    4: (205922271),  # id=4, 成衣及服飾品製造業, 消費品\n",
    "    5: (148527616),  # id=5, 皮革、毛皮及其製品製造業, 消費品\n",
    "    6: (61113421),\n",
    "    7: (280872538),  # id=7, \n",
    "    8: (130740587),  # id=8, 印刷及資料儲存媒體複製業, 服務\n",
    "    9: (1556952298),  # id=9, 石油及煤製品製造業, 提煉與礦產加工\n",
    "    10: (2224246009),  # Industry 10 weights\n",
    "    11: (379056049),  # id=11, 其他化學製品製造業, 資源轉化\n",
    "    12: (148591221),  # id=12, 藥品及醫用化學製品製造業, 醫療保健\n",
    "    13: (153565112),  # Industry 13 weights\n",
    "    14: (594326636),  # Industry 14 weights\n",
    "    15: (480016392),  # Industry 15 weights\n",
    "    16: (1725018215),  # id=16, 基本金屬製造業, 提煉與礦產加工\n",
    "    17: (1678944610),  # id=17, 金屬製品製造業, 提煉與礦產加工\n",
    "    18: (7674242135),  # Industry 18 weights\n",
    "    19: (11259568717),  # Industry 19 weights\n",
    "    20: (1037115540),  # Industry 20 weights\n",
    "    21: (1322745941),  # id=21, 機械設備製造業, 資源轉化\n",
    "    22: (601288482),  # id=22, 汽車及其零件製造業, 運輸\n",
    "    23: (553461710),  # id=23, 其他運輸工具及其零件製造業, 運輸\n",
    "    24: (111858737),  # id=24, 家具製造業, 消費品\n",
    "    25: (377673747)   # id=25, 其他製造業, 醫療保健\n",
    "}"
   ]
  },
  {
   "cell_type": "code",
   "execution_count": 133,
   "metadata": {},
   "outputs": [
    {
     "name": "stdout",
     "output_type": "stream",
     "text": [
      "industry_id\n",
      "1     0.228015\n",
      "2     0.364355\n",
      "3     0.937659\n",
      "4     0.439118\n",
      "5     1.529677\n",
      "7     0.708794\n",
      "8     0.009568\n",
      "9     0.507046\n",
      "10    0.524564\n",
      "11    0.140617\n",
      "12    0.088510\n",
      "13    0.696052\n",
      "14    0.342445\n",
      "15    0.115109\n",
      "16    0.440211\n",
      "17    0.028292\n",
      "18    0.218717\n",
      "19    0.618448\n",
      "20    0.193971\n",
      "21    0.048864\n",
      "22    0.125748\n",
      "23    0.294493\n",
      "24    0.303049\n",
      "25    0.100808\n",
      "Name: market_share, dtype: float64\n"
     ]
    }
   ],
   "source": [
    "def calculate_market_concentration(industry_market_values, df, industry_column='industry_id', market_value_column='生產值(千元)', top_firms=4):\n",
    "    # Create a new DataFrame to hold the total market values for each industry\n",
    "    industry_market_df = pd.DataFrame.from_dict(industry_market_values, orient='index', columns=['total_market_value'])\n",
    "    industry_market_df.reset_index(inplace=True)\n",
    "    industry_market_df.rename(columns={'index': industry_column}, inplace=True)\n",
    "    \n",
    "    # Merge the total market values DataFrame with the original DataFrame on the industry column\n",
    "    merged_df = pd.merge(df, industry_market_df, on=industry_column)\n",
    "\n",
    "    # Calculate the market share of each company within its industry\n",
    "    merged_df['market_share'] = merged_df[market_value_column] / merged_df['total_market_value']\n",
    "\n",
    "    # Sort the companies within each industry based on their market share\n",
    "    sorted_df = merged_df.sort_values(by=[industry_column, 'market_share'], ascending=[True, False])\n",
    "    sorted_df.to_csv(\"cr4.csv\", encoding = 'big5')\n",
    "    # Group by industry and sum the market shares of the top firms\n",
    "    cr = sorted_df.groupby(industry_column)['market_share'].apply(lambda x: x.head(top_firms).sum())\n",
    "    \n",
    "    return cr\n",
    "\n",
    "# Calculate market concentration based on CR4 for each industry\n",
    "market_concentration = calculate_market_concentration(industry_market_value, df)\n",
    "\n",
    "print(market_concentration)\n"
   ]
  },
  {
   "cell_type": "code",
   "execution_count": null,
   "metadata": {},
   "outputs": [],
   "source": []
  }
 ],
 "metadata": {
  "kernelspec": {
   "display_name": "Python 3",
   "language": "python",
   "name": "python3"
  },
  "language_info": {
   "codemirror_mode": {
    "name": "ipython",
    "version": 3
   },
   "file_extension": ".py",
   "mimetype": "text/x-python",
   "name": "python",
   "nbconvert_exporter": "python",
   "pygments_lexer": "ipython3",
   "version": "3.9.2"
  }
 },
 "nbformat": 4,
 "nbformat_minor": 2
}
