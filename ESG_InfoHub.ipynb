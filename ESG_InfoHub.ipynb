{
 "cells": [
  {
   "cell_type": "markdown",
   "metadata": {},
   "source": [
    "##### Packages"
   ]
  },
  {
   "cell_type": "code",
   "execution_count": 1,
   "metadata": {},
   "outputs": [],
   "source": [
    "import matplotlib.pyplot as plt\n",
    "import statsmodels.api as sm\n",
    "import seaborn as sns\n",
    "import pandas as pd\n",
    "import numpy as np\n",
    "import plotly.express as px\n",
    "import plotly.graph_objects as go\n",
    "from plotly.subplots import make_subplots\n",
    "from sklearn.linear_model import LinearRegression\n",
    "from sklearn.cluster import KMeans, AgglomerativeClustering\n",
    "from sklearn.metrics import mutual_info_score\n",
    "from sklearn.preprocessing import StandardScaler\n",
    "from scipy import stats"
   ]
  },
  {
   "cell_type": "markdown",
   "metadata": {},
   "source": [
    "#### Load Data"
   ]
  },
  {
   "cell_type": "code",
   "execution_count": 2,
   "metadata": {},
   "outputs": [],
   "source": [
    "# # Define a function to check for 'ISO 14001' existence and assign values\n",
    "# def check_iso_existence(df110, df111, column_name='ISO14001'):\n",
    "#   \"\"\"Checks for 'ISO 14001' existence in DataFrames and assigns values to df_all.\n",
    "\n",
    "#   Args:\n",
    "#       df110 (pd.DataFrame): The DataFrame from the 'df110_' series.\n",
    "#       df111 (pd.DataFrame): The DataFrame from the 'df111_' series.\n",
    "#       column_name (str, optional): The name of the column containing 'ISO 14001' information (defaults to 'water_ISO').\n",
    "#   \"\"\"\n",
    "#   if column_name in df110 and column_name in df111:\n",
    "#     # Check for 'ISO 14001' (case-insensitive) in potentially comma-separated strings\n",
    "#     df110_has_iso = df110[column_name].str.contains('ISO 14001', case=False).any()\n",
    "#     df111_has_iso = df111[column_name].str.contains('ISO 14001', case=False).any()\n",
    "#     if df110_has_iso and df111_has_iso:\n",
    "#       df_all.loc[:, column_name] = 3  # Both have ISO 14001\n",
    "#     else:\n",
    "#       df_all.loc[:, column_name] = 1  # Neither have ISO 14001\n",
    "#   elif column_name in df111:\n",
    "#     df_all.loc[:, column_name] = 4  # Only df111_ has ISO 14001\n",
    "#   else:\n",
    "#     df_all.loc[:, column_name] = 1  # No ISO 14001 in either"
   ]
  },
  {
   "cell_type": "code",
   "execution_count": 3,
   "metadata": {},
   "outputs": [],
   "source": [
    "# 年增率(YoY) (percentage change)\n",
    "def calculate_YoY(df0, df1, column_name):\n",
    "    df1[f'{column_name}_YoY'] = (df1[column_name] - df0[column_name]) / df0[column_name] * 100"
   ]
  },
  {
   "cell_type": "code",
   "execution_count": 4,
   "metadata": {},
   "outputs": [],
   "source": [
    "fileINFO = \"database/上市公司基本資料.xlsx\"\n",
    "dfINFO = pd.read_excel(fileINFO)"
   ]
  },
  {
   "cell_type": "markdown",
   "metadata": {},
   "source": [
    "##### 上市_溫室氣體排放"
   ]
  },
  {
   "cell_type": "code",
   "execution_count": 5,
   "metadata": {},
   "outputs": [],
   "source": [
    "# Load data\n",
    "file110_gas = \"database/110_ESG資訊接露_上市_溫室氣體排放.csv\"\n",
    "file111_gas = \"database/111_ESG資訊接露_上市_溫室氣體排放.csv\"\n",
    "df110_gas = pd.read_csv(file110_gas)\n",
    "df111_gas = pd.read_csv(file111_gas)\n",
    "df110_gas.fillna(value=0, inplace=True)\n",
    "df111_gas.fillna(value=0, inplace=True)\n",
    "if not df111_gas.columns.all() == df110_gas.columns.all():\n",
    "    print(\"Error: 欄位名稱不完全相符\")\n",
    "    exit()\n",
    "\n",
    "df111_gas[['scope1_ton_CO2e', 'scope2_ton_CO2e', 'scope3_ton_CO2e']] = df111_gas[['scope1_ton_CO2e', 'scope2_ton_CO2e', 'scope3_ton_CO2e']].astype(int)\n",
    "df110_gas[['scope1_ton_CO2e', 'scope2_ton_CO2e', 'scope3_ton_CO2e']] = df110_gas[['scope1_ton_CO2e', 'scope2_ton_CO2e', 'scope3_ton_CO2e']].astype(int)\n",
    "\n",
    "# 計算範疇1,2,3排放量年增率(YoY) (percentage change)\n",
    "calculate_YoY(df110_gas, df111_gas, 'scope1_ton_CO2e')\n",
    "calculate_YoY(df110_gas, df111_gas, 'scope2_ton_CO2e')\n",
    "calculate_YoY(df110_gas, df111_gas, 'scope3_ton_CO2e')\n",
    "\n",
    "# 計算總排放量(範疇1+2)年增率(YoY) (percentage change)\n",
    "df111_gas[\"scope12_ton_CO2e_YoY\"] = (df111_gas[\"scope1_ton_CO2e\"] + df111_gas[\"scope2_ton_CO2e\"] - (df110_gas[\"scope1_ton_CO2e\"] + df110_gas[\"scope2_ton_CO2e\"])) / (df110_gas[\"scope1_ton_CO2e\"] + df110_gas[\"scope2_ton_CO2e\"]) * 100\n",
    "\n",
    "# Select desired columns for the new dataframe\n",
    "desired_columns = ['id', 'scope1_ton_CO2e_YoY', 'scope2_ton_CO2e_YoY', 'scope3_ton_CO2e_YoY', 'scope12_ton_CO2e_YoY']\n",
    "df_gas = df111_gas[desired_columns]\n",
    "\n",
    "df_all = df_gas.copy()"
   ]
  },
  {
   "cell_type": "markdown",
   "metadata": {},
   "source": [
    "##### 上市_能源管理"
   ]
  },
  {
   "cell_type": "code",
   "execution_count": 6,
   "metadata": {},
   "outputs": [],
   "source": [
    "# Load data\n",
    "file110_energy = \"database/110_ESG資訊接露_上市_能源管理.csv\"\n",
    "file111_energy = \"database/111_ESG資訊接露_上市_能源管理.csv\"\n",
    "df110_energy = pd.read_csv(file110_energy)\n",
    "df111_energy = pd.read_csv(file111_energy)\n",
    "df110_energy.fillna(value=0, inplace=True)\n",
    "df111_energy.fillna(value=0, inplace=True)\n",
    "if not df111_energy.columns.all() == df110_energy.columns.all():\n",
    "    print(\"Error: 欄位名稱不完全相符\")\n",
    "    exit()\n",
    "\n",
    "df111_energy[['reenergy_usage_rate']] = df111_energy[['reenergy_usage_rate']].astype(float)\n",
    "df110_energy[['reenergy_usage_rate']] = df110_energy[['reenergy_usage_rate']].astype(float)\n",
    "\n",
    "# 計算再生能源使用率年增率(YoY) (percentage change)\n",
    "calculate_YoY(df110_energy, df111_energy, 'reenergy_usage_rate')\n",
    "\n",
    "# Select desired columns for the new dataframe\n",
    "desired_columns = [\"id\", 'reenergy_usage_rate_YoY']\n",
    "df_energy = df111_energy[desired_columns]\n",
    "\n",
    "df_all = df_all.merge(df_energy, on='id', how='outer')"
   ]
  },
  {
   "cell_type": "markdown",
   "metadata": {},
   "source": [
    "##### 上市_水資源管理"
   ]
  },
  {
   "cell_type": "code",
   "execution_count": 7,
   "metadata": {},
   "outputs": [],
   "source": [
    "# Load data\n",
    "file110_water = \"database/110_ESG資訊接露_上市_水資源管理.csv\"\n",
    "file111_water = \"database/111_ESG資訊接露_上市_水資源管理.csv\"\n",
    "df110_water = pd.read_csv(file110_water)\n",
    "df111_water = pd.read_csv(file111_water)\n",
    "df110_water.fillna(value=0, inplace=True)\n",
    "df111_water.fillna(value=0, inplace=True)\n",
    "\n",
    "if not df111_water.columns.all() == df110_water.columns.all():\n",
    "    print(\"Error: 欄位名稱不完全相符\")\n",
    "    exit()\n",
    "\n",
    "df111_water[['water_usage_ton']] = df111_water[['water_usage_ton']].astype(float)\n",
    "df110_water[['water_usage_ton']] = df110_water[['water_usage_ton']].astype(float)\n",
    "\n",
    "# 計算用水量年增率(YoY) (percentage change)\n",
    "calculate_YoY(df110_water, df111_water, 'water_usage_ton')\n",
    "\n",
    "# Select desired columns for the new dataframe\n",
    "desired_columns = [\"id\", 'water_usage_ton_YoY']\n",
    "df_water = df111_water[desired_columns]\n",
    "\n",
    "df_all = df_all.merge(df_water, on='id', how='outer')"
   ]
  },
  {
   "cell_type": "markdown",
   "metadata": {},
   "source": [
    "##### 上市_廢棄物管理"
   ]
  },
  {
   "cell_type": "code",
   "execution_count": 8,
   "metadata": {},
   "outputs": [],
   "source": [
    "# Load data\n",
    "file110_trash = \"database/110_ESG資訊接露_上市_廢棄物管理.csv\"\n",
    "file111_trash = \"database/111_ESG資訊接露_上市_廢棄物管理.csv\"\n",
    "df110_trash = pd.read_csv(file110_trash)\n",
    "df111_trash = pd.read_csv(file111_trash)\n",
    "df110_trash.fillna(value=0, inplace=True)\n",
    "df111_trash.fillna(value=0, inplace=True)\n",
    "\n",
    "if not df111_trash.columns.all() == df110_trash.columns.all():\n",
    "    print(\"Error: 欄位名稱不完全相符\")\n",
    "    exit()\n",
    "\n",
    "df111_trash[['harmful_trash_ton', 'harmfless_trash_ton', 'trash_ton', 'intensity_trash']] = df111_trash[['harmful_trash_ton', 'harmless_trash_ton', 'trash_ton', 'intensity_trash']].astype(float)\n",
    "df110_trash[['harmful_trash_ton', 'harmless_trash_ton', 'trash_ton', 'intensity_trash']] = df110_trash[['harmful_trash_ton', 'harmless_trash_ton', 'trash_ton', 'intensity_trash']].astype(float)\n",
    "\n",
    "# 計算廢棄物年增率(YoY) (percentage change)\n",
    "calculate_YoY(df110_trash, df111_trash, 'harmful_trash_ton') # 有害廢棄物(噸)\n",
    "calculate_YoY(df110_trash, df111_trash, 'harmless_trash_ton') # 無害廢棄物(噸)\n",
    "calculate_YoY(df110_trash, df111_trash, 'trash_ton') # 有+無害廢棄物(噸)\n",
    "calculate_YoY(df110_trash, df111_trash, 'intensity_trash') # 廢棄物密集度\n",
    "\n",
    "# Select desired columns for the new dataframe\n",
    "desired_columns = [\"id\", 'harmful_trash_ton_YoY', 'harmless_trash_ton_YoY', 'trash_ton_YoY', 'intensity_trash_YoY']\n",
    "df_trash = df111_trash[desired_columns]\n",
    "\n",
    "df_all = df_all.merge(df_trash, on='id', how='outer')"
   ]
  },
  {
   "cell_type": "markdown",
   "metadata": {},
   "source": [
    "##### 上市_人力發展"
   ]
  },
  {
   "cell_type": "code",
   "execution_count": 9,
   "metadata": {},
   "outputs": [],
   "source": [
    "# Load data\n",
    "file110_human = \"database/110_ESG資訊接露_上市_人力發展.csv\"\n",
    "file111_human = \"database/111_ESG資訊接露_上市_人力發展.csv\"\n",
    "df110_human = pd.read_csv(file110_human)\n",
    "df111_human = pd.read_csv(file111_human)\n",
    "df110_human.fillna(value=0, inplace=True)\n",
    "df111_human.fillna(value=0, inplace=True)\n",
    "\n",
    "if not df111_human.columns.all() == df110_human.columns.all():\n",
    "    print(\"Error: 欄位名稱不完全相符\")\n",
    "    exit()\n",
    "# welfare_mean: 平均員工福利費用\n",
    "# ft_salary_mean: 非主管職之全時員工平均薪資\n",
    "# pt_fe_ratio: 主管職女性比例\n",
    "# oa_num: 職災人數\n",
    "# oa_ratio: 職災比例\n",
    "df111_human[['welfare_mean','salary_mean','ft_salary_mean','ft_salary_med','oa_num']] = df111_human[['welfare_mean','salary_mean','ft_salary_mean','ft_salary_med','oa_num']].astype(int)\n",
    "df110_human[['welfare_mean','salary_mean','ft_salary_mean','ft_salary_med','oa_num']] = df110_human[['welfare_mean','salary_mean','ft_salary_mean','ft_salary_med','oa_num']].astype(int)\n",
    "df111_human[['pt_fe_ratio','oa_ratio']] = df111_human[['pt_fe_ratio','oa_ratio']].astype(float)\n",
    "df110_human[['pt_fe_ratio','oa_ratio']] = df110_human[['pt_fe_ratio','oa_ratio']].astype(float)\n",
    "\n",
    "# 計算年增率(YoY) (percentage change)\n",
    "calculate_YoY(df110_human, df111_human, 'welfare_mean') # 平均員工福利費用\n",
    "calculate_YoY(df110_human, df111_human, 'salary_mean')\n",
    "calculate_YoY(df110_human, df111_human, 'ft_salary_mean') \n",
    "calculate_YoY(df110_human, df111_human, 'ft_salary_med')  \n",
    "calculate_YoY(df110_human, df111_human, 'pt_fe_ratio') # 主管職女性比例\n",
    "calculate_YoY(df110_human, df111_human, 'oa_num') # 職災人數\n",
    "calculate_YoY(df110_human, df111_human, 'oa_ratio') # 職災比例\n",
    "\n",
    "# Select desired columns for the new dataframe\n",
    "desired_columns = [\"id\", 'welfare_mean_YoY', 'salary_mean_YoY', 'ft_salary_mean_YoY', 'ft_salary_med_YoY', 'oa_num_YoY', 'oa_ratio_YoY', 'pt_fe_ratio_YoY']\n",
    "df_human = df111_human[desired_columns]\n",
    "\n",
    "df_all = df_all.merge(df_human, on='id', how='outer')"
   ]
  },
  {
   "cell_type": "markdown",
   "metadata": {},
   "source": [
    "##### 上市_董事會"
   ]
  },
  {
   "cell_type": "code",
   "execution_count": 10,
   "metadata": {},
   "outputs": [],
   "source": [
    "# Load data\n",
    "file110_bod = \"database/110_ESG資訊接露_上市_董事會.csv\"\n",
    "file111_bod = \"database/111_ESG資訊接露_上市_董事會.csv\"\n",
    "df110_bod = pd.read_csv(file110_bod)\n",
    "df111_bod = pd.read_csv(file111_bod)\n",
    "df110_bod.fillna(value=0, inplace=True)\n",
    "df111_bod.fillna(value=0, inplace=True)\n",
    "\n",
    "if not df111_bod.columns.all() == df110_bod.columns.all():\n",
    "    print(\"Error: 欄位名稱不完全相符\")\n",
    "    exit()\n",
    "\n",
    "# fe_d_ratio: Female Derictor 女性董事席次及比率-比率\n",
    "# da_rate: Director Attendance 董事出席董事會出席率\n",
    "# dfe_ratio: Derictor's Further Education 董監事進修時數符合進修要點比率\n",
    "\n",
    "df111_bod[['d_seats','id_seats','fe_d_seats']] = df111_bod[['d_seats','id_seats','fe_d_seats']].astype(int)\n",
    "df110_bod[['d_seats','id_seats','fe_d_seats']] = df110_bod[['d_seats','id_seats','fe_d_seats']].astype(int)\n",
    "df111_bod[['fe_d_ratio','da_rate','dfe_ratio']] = df111_bod[['fe_d_ratio','da_rate','dfe_ratio']].astype(float)\n",
    "df110_bod[['fe_d_ratio','da_rate','dfe_ratio']] = df110_bod[['fe_d_ratio','da_rate','dfe_ratio']].astype(float)\n",
    "df110_bod['id_ratio'] = (df110_bod['id_seats'] / df110_bod['d_seats']) * 100\n",
    "df111_bod['id_ratio'] = (df111_bod['id_seats'] / df111_bod['d_seats']) * 100\n",
    "\n",
    "# 計算年增率(YoY) (percentage change)\n",
    "calculate_YoY(df110_bod, df111_bod, 'd_seats') # 董事席次(含獨立董事)(席)\n",
    "calculate_YoY(df110_bod, df111_bod, 'id_seats') # 獨立董事席次(席)\n",
    "calculate_YoY(df110_bod, df111_bod, 'id_ratio') # 獨立董事比率\n",
    "calculate_YoY(df110_bod, df111_bod, 'fe_d_seats') # 女性董事席次及比率-比率\n",
    "calculate_YoY(df110_bod, df111_bod, 'da_rate') # 董事出席董事會出席率\n",
    "calculate_YoY(df110_bod, df111_bod, 'dfe_ratio') # 董監事進修時數符合進修要點比率\n",
    "\n",
    "# Select desired columns for the new dataframe\n",
    "desired_columns = [\"id\", 'd_seats_YoY', 'id_seats_YoY', 'id_ratio_YoY', 'fe_d_seats_YoY', 'da_rate_YoY', 'dfe_ratio_YoY']\n",
    "df_bod = df111_bod[desired_columns]\n",
    "\n",
    "df_all = df_all.merge(df_bod, on='id', how='outer')"
   ]
  },
  {
   "cell_type": "markdown",
   "metadata": {},
   "source": [
    "##### 上市_投資人溝通"
   ]
  },
  {
   "cell_type": "code",
   "execution_count": 11,
   "metadata": {},
   "outputs": [],
   "source": [
    "# Load data\n",
    "file110_investor = \"database/110_ESG資訊接露_上市_投資人溝通.csv\"\n",
    "file111_investor = \"database/111_ESG資訊接露_上市_投資人溝通.csv\"\n",
    "df110_investor = pd.read_csv(file110_investor)\n",
    "df111_investor = pd.read_csv(file111_investor)\n",
    "df110_investor.fillna(value=0, inplace=True)\n",
    "df111_investor.fillna(value=0, inplace=True)\n",
    "if not df111_investor.columns.all() == df110_investor.columns.all():\n",
    "    print(\"Error: 欄位名稱不完全相符\")\n",
    "    exit()\n",
    "\n",
    "# call_num: 公司年度召開法說會次數(次)\n",
    "df111_investor[['call_num']] = df111_investor[['call_num']].astype(int)\n",
    "df110_investor[['call_num']] = df110_investor[['call_num']].astype(int)\n",
    "\n",
    "# 計算召開法人說明會次數年增率(YoY) (percentage change)\n",
    "calculate_YoY(df110_investor, df111_investor, 'call_num')\n",
    "\n",
    "# Select desired columns for the new dataframe\n",
    "desired_columns = ['id', 'call_num_YoY']\n",
    "df_investor = df111_investor[desired_columns]\n",
    "\n",
    "df_all = df_all.merge(df_investor, on='id', how='outer')"
   ]
  },
  {
   "cell_type": "markdown",
   "metadata": {},
   "source": [
    "- ISO14001"
   ]
  },
  {
   "cell_type": "markdown",
   "metadata": {},
   "source": [
    "#### 可以拿來分析的資料檔"
   ]
  },
  {
   "cell_type": "markdown",
   "metadata": {},
   "source": [
    "##### 產業代碼對應"
   ]
  },
  {
   "cell_type": "code",
   "execution_count": 12,
   "metadata": {},
   "outputs": [],
   "source": [
    "df_all = df_all.rename(columns={\"id\": \"代號\"})\n",
    "\n",
    "id_columns = ['代號', '主計處產業名']\n",
    "dfINFO = dfINFO[id_columns]\n",
    "\n",
    "df = df_all.merge(dfINFO, on='代號', how='outer')\n",
    "df = df.dropna(subset=['主計處產業名'])"
   ]
  },
  {
   "cell_type": "code",
   "execution_count": 13,
   "metadata": {},
   "outputs": [],
   "source": [
    "df.loc[df[\"主計處產業名\"].str[0:2] == \"08\", \"主計處產業名\"] = 1\n",
    "df.loc[df[\"主計處產業名\"].str[0:2] == \"09\", \"主計處產業名\"] = 2\n",
    "df.loc[df[\"主計處產業名\"].str[0:2] == \"10\", \"主計處產業名\"] = 2\n",
    "df.loc[df[\"主計處產業名\"].str[0:2] == \"11\", \"主計處產業名\"] = 3\n",
    "df.loc[df[\"主計處產業名\"].str[0:2] == \"12\", \"主計處產業名\"] = 4\n",
    "df.loc[df[\"主計處產業名\"].str[0:2] == \"13\", \"主計處產業名\"] = 5\n",
    "df.loc[df[\"主計處產業名\"].str[0:2] == \"14\", \"主計處產業名\"] = 6\n",
    "df.loc[df[\"主計處產業名\"].str[0:2] == \"15\", \"主計處產業名\"] = 7\n",
    "df.loc[df[\"主計處產業名\"].str[0:2] == \"16\", \"主計處產業名\"] = 8\n",
    "df.loc[df[\"主計處產業名\"].str[0:2] == \"17\", \"主計處產業名\"] = 9\n",
    "df.loc[df[\"主計處產業名\"].str[0:2] == \"18\", \"主計處產業名\"] = 10\n",
    "df.loc[df[\"主計處產業名\"].str[0:2] == \"19\", \"主計處產業名\"] = 11\n",
    "df.loc[df[\"主計處產業名\"].str[0:2] == \"20\", \"主計處產業名\"] = 12\n",
    "df.loc[df[\"主計處產業名\"].str[0:2] == \"21\", \"主計處產業名\"] = 13\n",
    "df.loc[df[\"主計處產業名\"].str[0:2] == \"22\", \"主計處產業名\"] = 15\n",
    "df.loc[df[\"主計處產業名\"].str[0:2] == \"23\", \"主計處產業名\"] = 14\n",
    "df.loc[df[\"主計處產業名\"].str[0:2] == \"24\", \"主計處產業名\"] = 16\n",
    "df.loc[df[\"主計處產業名\"].str[0:2] == \"25\", \"主計處產業名\"] = 17\n",
    "df.loc[df[\"主計處產業名\"].str[0:2] == \"26\", \"主計處產業名\"] = 18\n",
    "df.loc[df[\"主計處產業名\"].str[0:2] == \"27\", \"主計處產業名\"] = 19\n",
    "df.loc[df[\"主計處產業名\"].str[0:2] == \"28\", \"主計處產業名\"] = 20\n",
    "df.loc[df[\"主計處產業名\"].str[0:2] == \"29\", \"主計處產業名\"] = 21\n",
    "df.loc[df[\"主計處產業名\"].str[0:2] == \"30\", \"主計處產業名\"] = 22\n",
    "df.loc[df[\"主計處產業名\"].str[0:2] == \"31\", \"主計處產業名\"] = 23\n",
    "df.loc[df[\"主計處產業名\"].str[0:2] == \"32\", \"主計處產業名\"] = 24\n",
    "df.loc[df[\"主計處產業名\"].str[0:2] == \"33\", \"主計處產業名\"] = 25\n",
    "df.loc[df[\"主計處產業名\"].str[0:2] == \"34\", \"主計處產業名\"] = 26\n",
    "\n",
    "df.rename(columns={'主計處產業名': 'industry_id'}, inplace=True)\n",
    "\n",
    "mask = df['industry_id'].str.len() >= 3\n",
    "df = df[~mask]"
   ]
  },
  {
   "cell_type": "code",
   "execution_count": 14,
   "metadata": {},
   "outputs": [],
   "source": [
    "# 變成excel檔\n",
    "df.to_csv(\"database/ESGinfo_TimeSeries.csv\", index=False, encoding='big5')"
   ]
  }
 ],
 "metadata": {
  "kernelspec": {
   "display_name": "Python 3",
   "language": "python",
   "name": "python3"
  },
  "language_info": {
   "codemirror_mode": {
    "name": "ipython",
    "version": 3
   },
   "file_extension": ".py",
   "mimetype": "text/x-python",
   "name": "python",
   "nbconvert_exporter": "python",
   "pygments_lexer": "ipython3",
   "version": "3.9.2"
  }
 },
 "nbformat": 4,
 "nbformat_minor": 2
}
