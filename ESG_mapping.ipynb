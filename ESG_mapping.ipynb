{
 "cells": [
  {
   "cell_type": "markdown",
   "metadata": {},
   "source": [
    "##### Packages"
   ]
  },
  {
   "cell_type": "code",
   "execution_count": 192,
   "metadata": {},
   "outputs": [],
   "source": [
    "import matplotlib.pyplot as plt\n",
    "import statsmodels.api as sm\n",
    "import seaborn as sns\n",
    "import pandas as pd\n",
    "import numpy as np\n",
    "import plotly.express as px\n",
    "import plotly.graph_objects as go\n",
    "from plotly.subplots import make_subplots\n",
    "from sklearn.linear_model import LinearRegression\n",
    "from sklearn.cluster import KMeans, AgglomerativeClustering\n",
    "from sklearn.metrics import mutual_info_score\n",
    "from sklearn.preprocessing import StandardScaler\n",
    "from scipy import stats"
   ]
  },
  {
   "cell_type": "code",
   "execution_count": 193,
   "metadata": {},
   "outputs": [],
   "source": [
    "# Load data\n",
    "fileLtd = \"database/ESGinfo_TimeSeries.csv\"\n",
    "fileTESG = \"database/ESG_TESG.csv\"\n",
    "fileTESGscore = \"database/111_TESG永續發展指標主表.xlsx\"\n",
    "df_Ltd = pd.read_csv(fileLtd, encoding='big5')\n",
    "df_TESG = pd.read_csv(fileTESG)\n",
    "df_TESGscore = pd.read_excel(fileTESGscore)"
   ]
  },
  {
   "cell_type": "markdown",
   "metadata": {},
   "source": [
    "#### Mapping | 公開資訊觀測站"
   ]
  },
  {
   "cell_type": "code",
   "execution_count": 194,
   "metadata": {},
   "outputs": [],
   "source": [
    "df = pd.DataFrame()\n",
    "new_company = [2432, 3715, 6854, 6830, 6834, 6835, 6658, 6916, 911622, 9103, 9105, 6805, 6933, 6807, 9110, 6937, 4771, 9136, 6861, 2645, 6742, 4569, 3168, 4588, 910322, 911868, 6526]\n",
    "if not df_Ltd[['industry_id']].empty:\n",
    "    df = df_Ltd[~df_Ltd['代號'].isin(new_company)]\n",
    "    df = df[['代號', 'industry_id']].dropna(subset=['industry_id']).copy().astype(int)\n",
    "    df_Ltd = df_Ltd.drop(df_Ltd[df_Ltd['代號'].isin(new_company)].index)"
   ]
  },
  {
   "cell_type": "markdown",
   "metadata": {},
   "source": [
    "##### E"
   ]
  },
  {
   "cell_type": "code",
   "execution_count": 195,
   "metadata": {},
   "outputs": [
    {
     "name": "stdout",
     "output_type": "stream",
     "text": [
      "       代號  industry_id  Q4\n",
      "0    1101           14   2\n",
      "1    1102           14   1\n",
      "2    1103           14   0\n",
      "3    1104           14   0\n",
      "4    1108           14   1\n",
      "..    ...          ...  ..\n",
      "711  9938            3   0\n",
      "712  9939           15   0\n",
      "713  9942           22   0\n",
      "714  9944            3   0\n",
      "715  9958           16   0\n",
      "\n",
      "[709 rows x 3 columns]\n"
     ]
    }
   ],
   "source": [
    "# (Q4)請問，貴公司針對辦公室或廠區，是否有降低溫室氣體排放量？ \n",
    "# (Q5)請問，貴公司是否有設定目標減少產品製程溫室氣體排放？ \n",
    "# (Q6)請問，貴公司是否有設定目標減少交通工具溫室氣體排放？\n",
    "# 都是範疇一的溫室氣體排放\n",
    "def assign_q4(df_Ltd, df):\n",
    "    \"\"\"Assigns values to the 'Q4' column of df based on conditions in df_Ltd['scope1_ton_CO2e_YoY'].\n",
    "\n",
    "    Args:\n",
    "        df_Ltd (pd.DataFrame): The DataFrame containing the 'scope1_ton_CO2e_YoY' column.\n",
    "        df (pd.DataFrame): The DataFrame where the 'Q4' column will be assigned values.\n",
    "    \"\"\"\n",
    "\n",
    "    # Use numpy.where for conditional assignment based on multiple conditions\n",
    "    conditions = [df_Ltd['scope1_ton_CO2e_YoY'] < -10, \n",
    "                df_Ltd['scope1_ton_CO2e_YoY'] > 10,\n",
    "                (-10 <= df_Ltd['scope1_ton_CO2e_YoY']) & (df_Ltd['scope1_ton_CO2e_YoY'] <= 10),\n",
    "                df_Ltd['scope1_ton_CO2e_YoY'].isna()]\n",
    "    values = np.array([2, 0.5, 1, 0])\n",
    "\n",
    "    if not df.empty:\n",
    "        df['Q4'] = np.select(conditions, values, np.nan).astype(int)\n",
    "    else:\n",
    "        pass\n",
    "    return df\n",
    "\n",
    "df = assign_q4(df_Ltd.dropna(subset=['industry_id']).copy(), df)\n",
    "print(df)\n"
   ]
  },
  {
   "cell_type": "code",
   "execution_count": 196,
   "metadata": {},
   "outputs": [
    {
     "name": "stdout",
     "output_type": "stream",
     "text": [
      "       代號  industry_id  Q4  Q7\n",
      "0    1101           14   2   2\n",
      "1    1102           14   1   2\n",
      "2    1103           14   0   0\n",
      "3    1104           14   0   0\n",
      "4    1108           14   1   1\n",
      "..    ...          ...  ..  ..\n",
      "711  9938            3   0   0\n",
      "712  9939           15   0   0\n",
      "713  9942           22   0   0\n",
      "714  9944            3   0   0\n",
      "715  9958           16   0   0\n",
      "\n",
      "[709 rows x 4 columns]\n"
     ]
    }
   ],
   "source": [
    "# 請問，貴公司針對辦公室或廠區，是否有降低總用水量？\n",
    "\n",
    "def assign_q7(df_Ltd, df):\n",
    "    \"\"\"Assigns values to the 'Q7' column of df based on conditions in df_Ltd['water_usage_ton_YoY'].\n",
    "\n",
    "    Args:\n",
    "        df_Ltd (pd.DataFrame): The DataFrame containing the 'water_usage_ton_YoY' column.\n",
    "        df (pd.DataFrame): The DataFrame where the 'Q7' column will be assigned values.\n",
    "    \"\"\"\n",
    "\n",
    "    # Use numpy.where for conditional assignment based on multiple conditions\n",
    "    conditions = [df_Ltd['water_usage_ton_YoY'] < -3, \n",
    "                df_Ltd['water_usage_ton_YoY'] > 3,\n",
    "                (-3 <= df_Ltd['water_usage_ton_YoY']) & (df_Ltd['water_usage_ton_YoY'] <= 3),\n",
    "                df_Ltd['water_usage_ton_YoY'].isna()]\n",
    "    values = np.array([2, 0.5, 1, 0])\n",
    "\n",
    "    if not df.empty:\n",
    "        df['Q7'] = np.select(conditions, values, np.nan).astype(int)\n",
    "    else:\n",
    "        pass\n",
    "    return df\n",
    "\n",
    "df = assign_q7(df_Ltd.dropna(subset=['industry_id']).copy(), df)\n",
    "print(df)\n"
   ]
  },
  {
   "cell_type": "code",
   "execution_count": 197,
   "metadata": {},
   "outputs": [
    {
     "name": "stderr",
     "output_type": "stream",
     "text": [
      "c:\\Users\\mayda\\AppData\\Local\\Programs\\Python\\Python39\\lib\\site-packages\\numpy\\lib\\function_base.py:4655: RuntimeWarning: invalid value encountered in subtract\n",
      "  diff_b_a = subtract(b, a)\n"
     ]
    },
    {
     "data": {
      "text/plain": [
       "count    416.000000\n",
       "mean            inf\n",
       "std             NaN\n",
       "min     -100.000000\n",
       "25%      -92.448513\n",
       "50%       25.126263\n",
       "75%             NaN\n",
       "max             inf\n",
       "Name: intensity_trash_YoY, dtype: float64"
      ]
     },
     "execution_count": 197,
     "metadata": {},
     "output_type": "execute_result"
    }
   ],
   "source": [
    "df_Ltd['intensity_trash_YoY'].describe()"
   ]
  },
  {
   "cell_type": "code",
   "execution_count": 198,
   "metadata": {},
   "outputs": [
    {
     "name": "stdout",
     "output_type": "stream",
     "text": [
      "       代號  industry_id  Q4  Q7  Q11\n",
      "0    1101           14   2   2    0\n",
      "1    1102           14   1   2    0\n",
      "2    1103           14   0   0    0\n",
      "3    1104           14   0   0    0\n",
      "4    1108           14   1   1    0\n",
      "..    ...          ...  ..  ..  ...\n",
      "711  9938            3   0   0    0\n",
      "712  9939           15   0   0    0\n",
      "713  9942           22   0   0    0\n",
      "714  9944            3   0   0    0\n",
      "715  9958           16   0   0    0\n",
      "\n",
      "[709 rows x 5 columns]\n"
     ]
    }
   ],
   "source": [
    "# 請問，貴公司針對辦公室或廠區，是否有提升可回收或降低不可回收廢棄物製造量？\n",
    "\n",
    "def assign_q11(df_Ltd, df):\n",
    "    \"\"\"Assigns values to the 'Q11' column of df based on conditions in df_Ltd['intensity_trash_YoY'].\n",
    "\n",
    "    Args:\n",
    "        df_Ltd (pd.DataFrame): The DataFrame containing the 'intensity_trash_YoY' column.\n",
    "        df (pd.DataFrame): The DataFrame where the 'Q11' column will be assigned values.\n",
    "    \"\"\"\n",
    "\n",
    "    # Use numpy.where for conditional assignment based on multiple conditions\n",
    "    conditions = [df_Ltd['intensity_trash_YoY'] < -5, \n",
    "                df_Ltd['intensity_trash_YoY'] > 5,\n",
    "                (-5 <= df_Ltd['intensity_trash_YoY']) & (df_Ltd['intensity_trash_YoY'] <= 5),\n",
    "                df_Ltd['intensity_trash_YoY'].isna()]\n",
    "    values = np.array([2, 0.5, 1, 0])\n",
    "\n",
    "    if not df.empty:\n",
    "        df['Q11'] = np.select(conditions, values, np.nan).astype(int)\n",
    "    else:\n",
    "        pass\n",
    "    return df\n",
    "\n",
    "df = assign_q11(df_Ltd.dropna(subset=['industry_id']).copy(), df)\n",
    "print(df)\n"
   ]
  },
  {
   "cell_type": "code",
   "execution_count": 199,
   "metadata": {},
   "outputs": [
    {
     "name": "stdout",
     "output_type": "stream",
     "text": [
      "       代號  industry_id  Q4  Q7  Q11  Q15\n",
      "0    1101           14   2   2    0    2\n",
      "1    1102           14   1   2    0    2\n",
      "2    1103           14   0   0    0    0\n",
      "3    1104           14   0   0    0    0\n",
      "4    1108           14   1   1    0    0\n",
      "..    ...          ...  ..  ..  ...  ...\n",
      "711  9938            3   0   0    0    0\n",
      "712  9939           15   0   0    0    0\n",
      "713  9942           22   0   0    0    0\n",
      "714  9944            3   0   0    0    0\n",
      "715  9958           16   0   0    0    0\n",
      "\n",
      "[709 rows x 6 columns]\n"
     ]
    }
   ],
   "source": [
    "# (Q15)請問，貴公司針對供應鏈廠商之總溫室氣體排放，是否有進行管理或要求其減少？\n",
    "# (Q16)請問，貴公司針對供應鏈廠商之總能源消耗，是否有進行管理或要求其減少？\n",
    "\n",
    "def assign_q15(df_Ltd, df):\n",
    "    \"\"\"Assigns values to the 'Q15' column of df based on conditions in df_Ltd['scope3_ton_CO2e_YoY'].\n",
    "\n",
    "    Args:\n",
    "        df_Ltd (pd.DataFrame): The DataFrame containing the 'scope3_ton_CO2e_YoY' column.\n",
    "        df (pd.DataFrame): The DataFrame where the 'Q15' column will be assigned values.\n",
    "    \"\"\"\n",
    "\n",
    "    # Use numpy.where for conditional assignment based on multiple conditions\n",
    "    conditions = [df_Ltd['scope3_ton_CO2e_YoY'] < -5 | df_Ltd['scope3_ton_CO2e_YoY'].isin([np.inf, -np.inf]), \n",
    "                df_Ltd['scope3_ton_CO2e_YoY'] > 5 & df_Ltd['scope3_ton_CO2e_YoY'].isin([50000, 5]),\n",
    "                (-5 <= df_Ltd['scope3_ton_CO2e_YoY']),\n",
    "                df_Ltd['scope3_ton_CO2e_YoY'].isna()]\n",
    "    values = np.array([2, 0.5, 1, 0])\n",
    "\n",
    "    if not df.empty:\n",
    "        df['Q15'] = np.select(conditions, values, np.nan).astype(int)\n",
    "    else:\n",
    "        pass\n",
    "    return df\n",
    "\n",
    "df = assign_q15(df_Ltd.dropna(subset=['industry_id']).copy(), df)\n",
    "print(df)\n"
   ]
  },
  {
   "cell_type": "markdown",
   "metadata": {},
   "source": [
    "##### S"
   ]
  },
  {
   "cell_type": "code",
   "execution_count": 200,
   "metadata": {},
   "outputs": [
    {
     "name": "stdout",
     "output_type": "stream",
     "text": [
      "       代號  industry_id  Q4  Q7  Q11  Q15  Q20\n",
      "0    1101           14   2   2    0    2    0\n",
      "1    1102           14   1   2    0    2    0\n",
      "2    1103           14   0   0    0    0    0\n",
      "3    1104           14   0   0    0    0    0\n",
      "4    1108           14   1   1    0    0    1\n",
      "..    ...          ...  ..  ..  ...  ...  ...\n",
      "711  9938            3   0   0    0    0    0\n",
      "712  9939           15   0   0    0    0    0\n",
      "713  9942           22   0   0    0    0    0\n",
      "714  9944            3   0   0    0    0    0\n",
      "715  9958           16   0   0    0    0    0\n",
      "\n",
      "[709 rows x 7 columns]\n"
     ]
    }
   ],
   "source": [
    "# 請問，貴公司是否有採取相關措施，以預防失誤事件(如人為造成的工安事故、廠房公共安全、災害造成的人員傷亡等)發生？   \n",
    "\n",
    "def assign_q20(df_Ltd, df):\n",
    "    \"\"\"Assigns values to the 'Q20' column of df based on conditions in df_Ltd['oa_num_YoY'].\n",
    "\n",
    "    Args:\n",
    "        df_Ltd (pd.DataFrame): The DataFrame containing the 'oa_num_YoY' column.\n",
    "        df (pd.DataFrame): The DataFrame where the 'Q20' column will be assigned values.\n",
    "    \"\"\"\n",
    "\n",
    "    # Use numpy.where for conditional assignment based on multiple conditions\n",
    "    conditions = [df_Ltd['oa_num_YoY'] < -50, \n",
    "                df_Ltd['oa_num_YoY'] > 50,\n",
    "                (-50 <= df_Ltd['oa_num_YoY']) & (df_Ltd['oa_num_YoY'] <= 50),\n",
    "                df_Ltd['oa_num_YoY'].isna()]\n",
    "    values = np.array([2, 0.5, 1, 0])\n",
    "\n",
    "    if not df.empty:\n",
    "        df['Q20'] = np.select(conditions, values, np.nan).astype(int)\n",
    "    else:\n",
    "        pass\n",
    "    return df\n",
    "\n",
    "df = assign_q20(df_Ltd.dropna(subset=['industry_id']).copy(), df)\n",
    "print(df)\n"
   ]
  },
  {
   "cell_type": "markdown",
   "metadata": {},
   "source": [
    "##### G"
   ]
  },
  {
   "cell_type": "code",
   "execution_count": 201,
   "metadata": {},
   "outputs": [
    {
     "name": "stdout",
     "output_type": "stream",
     "text": [
      "       代號  industry_id  Q4  Q7  Q11  Q15  Q20  Q34_2\n",
      "0    1101           14   2   2    0    2    0      4\n",
      "1    1102           14   1   2    0    2    0      1\n",
      "2    1103           14   0   0    0    0    0      1\n",
      "3    1104           14   0   0    0    0    0      4\n",
      "4    1108           14   1   1    0    0    1      1\n",
      "..    ...          ...  ..  ..  ...  ...  ...    ...\n",
      "711  9938            3   0   0    0    0    0      1\n",
      "712  9939           15   0   0    0    0    0      1\n",
      "713  9942           22   0   0    0    0    0      1\n",
      "714  9944            3   0   0    0    0    0      1\n",
      "715  9958           16   0   0    0    0    0      1\n",
      "\n",
      "[709 rows x 8 columns]\n"
     ]
    }
   ],
   "source": [
    "# 請問，貴公司董事會結構的獨立董事比率是否有提高？  \n",
    "\n",
    "def assign_q34_2(df_Ltd, df):\n",
    "    \"\"\"Assigns values to the 'Qq34_2' column of df based on conditions in df_Ltd['id_ratio_YoY'].\n",
    "\n",
    "    Args:\n",
    "        df_Ltd (pd.DataFrame): The DataFrame containing the 'oa_num_YoY' column.\n",
    "        df (pd.DataFrame): The DataFrame where the 'Q20' column will be assigned values.\n",
    "    \"\"\"\n",
    "\n",
    "    # Use numpy.where for conditional assignment based on multiple conditions\n",
    "    conditions = [df_Ltd['oa_num_YoY'] < 0, \n",
    "                df_Ltd['oa_num_YoY'] > 10,\n",
    "                (0 <= df_Ltd['oa_num_YoY']) & (df_Ltd['oa_num_YoY'] <= 10),\n",
    "                df_Ltd['oa_num_YoY'].isna()]\n",
    "    values = np.array([1, 4, 3, 1])\n",
    "\n",
    "    if not df.empty:\n",
    "        df['Q34_2'] = np.select(conditions, values, np.nan).astype(int)\n",
    "    else:\n",
    "        pass\n",
    "    return df\n",
    "\n",
    "df = assign_q34_2(df_Ltd.dropna(subset=['industry_id']).copy(), df)\n",
    "print(df)\n"
   ]
  },
  {
   "cell_type": "markdown",
   "metadata": {},
   "source": [
    "#### Mapping | TESG"
   ]
  },
  {
   "cell_type": "code",
   "execution_count": 202,
   "metadata": {},
   "outputs": [],
   "source": [
    "dfT = pd.DataFrame()\n",
    "nodata_company = [3168, 6658, 6805, 6742, 6916, 911622, 9103, 9105, 6805, 6933, 6807, 9110, 6937, 4771, 9136, 6861, 2645, 6742, 4569, 3168, 4588, 910322, 911868, 6526] # 沒有在公開資訊觀測站上\n",
    "if not df_TESG[['industry_id']].empty:\n",
    "    dfT = df_TESG[~df_TESG['代號'].isin(nodata_company)]\n",
    "    dfT = dfT[['代號', 'industry_id', 'LEVEL_111']].dropna(subset=['industry_id']).copy()\n",
    "    dfT[['industry_id']].astype(int)\n",
    "    df_TESG = df_TESG.drop(df_TESG[df_TESG['代號'].isin(nodata_company)].index)\n"
   ]
  },
  {
   "cell_type": "markdown",
   "metadata": {},
   "source": [
    "##### 確定Ltd和TESG有共同的上市公司"
   ]
  },
  {
   "cell_type": "code",
   "execution_count": 203,
   "metadata": {},
   "outputs": [
    {
     "name": "stdout",
     "output_type": "stream",
     "text": [
      "Missing company IDs: set()\n"
     ]
    }
   ],
   "source": [
    "# Assuming industry_id is unique across DataFrames\n",
    "unique_ids_Ltd = set(df['代號'])\n",
    "unique_ids_TESG = set(dfT['代號'])\n",
    "\n",
    "missing_ids = unique_ids_Ltd.difference(unique_ids_TESG)\n",
    "\n",
    "# missing_ids will contain the IDs of the 2 missing companies\n",
    "print(f\"Missing company IDs: {missing_ids}\")"
   ]
  },
  {
   "cell_type": "markdown",
   "metadata": {},
   "source": [
    "##### E"
   ]
  },
  {
   "cell_type": "code",
   "execution_count": 204,
   "metadata": {},
   "outputs": [
    {
     "data": {
      "text/plain": [
       "count     709.000000\n",
       "mean        8.475750\n",
       "std       110.022731\n",
       "min        -0.999705\n",
       "25%        -0.767586\n",
       "50%        -0.240803\n",
       "75%         0.667092\n",
       "max      2857.450000\n",
       "Name: E1_YoY, dtype: float64"
      ]
     },
     "execution_count": 204,
     "metadata": {},
     "output_type": "execute_result"
    }
   ],
   "source": [
    "df_TESG['E1_YoY'].describe()"
   ]
  },
  {
   "cell_type": "code",
   "execution_count": 205,
   "metadata": {},
   "outputs": [
    {
     "data": {
      "text/plain": [
       "count     706.000000\n",
       "mean       22.161429\n",
       "std       159.257987\n",
       "min        -0.999468\n",
       "25%        -0.687142\n",
       "50%        -0.073064\n",
       "75%         1.326652\n",
       "max      2946.328571\n",
       "Name: E1_base_YoY, dtype: float64"
      ]
     },
     "execution_count": 205,
     "metadata": {},
     "output_type": "execute_result"
    }
   ],
   "source": [
    "df_TESG['E1_base_YoY'].describe()"
   ]
  },
  {
   "cell_type": "code",
   "execution_count": 206,
   "metadata": {},
   "outputs": [
    {
     "name": "stdout",
     "output_type": "stream",
     "text": [
      "       代號  industry_id LEVEL_111          E1\n",
      "0    1101           14        B+           1\n",
      "1    1102           14         A           1\n",
      "2    1103           14         B           1\n",
      "3    1104           14        B+           1\n",
      "4    1108           14         B           0\n",
      "..    ...          ...       ...         ...\n",
      "708  9938            3        B+           0\n",
      "709  9939           15        B+           1\n",
      "710  9942           22         B -2147483648\n",
      "711  9944            3        B- -2147483648\n",
      "712  9958           16         B -2147483648\n",
      "\n",
      "[709 rows x 4 columns]\n"
     ]
    },
    {
     "name": "stderr",
     "output_type": "stream",
     "text": [
      "<ipython-input-206-462b55309cc4>:19: RuntimeWarning: invalid value encountered in cast\n",
      "  dfT['E1'] = np.select(conditions, values, np.nan).astype(int)\n"
     ]
    }
   ],
   "source": [
    "# E1_每佰萬單位營收碳排放(噸)\n",
    "\n",
    "def assign_E1(df_TESG, dfT):\n",
    "    \"\"\"Assigns values to the 'E1' column of df based on conditions in df_TESG['E1_YoY'].\n",
    "\n",
    "    Args:\n",
    "        df_TESG (pd.DataFrame): The DataFrame containing the 'E1_YoY', 'E1_base_YoY'column.\n",
    "        dfT (pd.DataFrame): The DataFrame where the 'E1' column will be assigned values.\n",
    "    \"\"\"\n",
    "\n",
    "    # Use numpy.where for conditional assignment based on multiple conditions\n",
    "    conditions = [(df_TESG['E1_YoY'] < df_TESG['E1_base_YoY']) & (df_TESG['E1_YoY'] - df_TESG['E1_base_YoY'] > 1), # 排放量增加幅度變小\n",
    "                  (df_TESG['E1_YoY'] > df_TESG['E1_base_YoY']) & (df_TESG['E1_YoY'] - df_TESG['E1_base_YoY'] > 1),\n",
    "                  ((df_TESG['E1_YoY'] > df_TESG['E1_base_YoY']) & (df_TESG['E1_YoY'] - df_TESG['E1_base_YoY']<= 1)) | (df_TESG['E1_YoY'] < df_TESG['E1_base_YoY']) & (df_TESG['E1_YoY'] - df_TESG['E1_base_YoY'] <= 1),\n",
    "                  df_TESG['E1_YoY'].isna()]\n",
    "    values = np.array([2, 0.5, 1, 0])\n",
    "\n",
    "    if not df.empty:\n",
    "        dfT['E1'] = np.select(conditions, values, np.nan).astype(int)      \n",
    "    else:\n",
    "        pass\n",
    "    return dfT\n",
    "\n",
    "dfT = assign_E1(df_TESG.dropna(subset=['industry_id']).copy(), dfT)\n",
    "print(dfT)\n"
   ]
  },
  {
   "cell_type": "code",
   "execution_count": 207,
   "metadata": {},
   "outputs": [
    {
     "name": "stdout",
     "output_type": "stream",
     "text": [
      "       代號  industry_id LEVEL_111          E1  E9\n",
      "0    1101           14        B+           1   2\n",
      "1    1102           14         A           1   2\n",
      "2    1103           14         B           1   1\n",
      "3    1104           14        B+           1   0\n",
      "4    1108           14         B           0   0\n",
      "..    ...          ...       ...         ...  ..\n",
      "708  9938            3        B+           0   0\n",
      "709  9939           15        B+           1   0\n",
      "710  9942           22         B -2147483648   0\n",
      "711  9944            3        B- -2147483648   2\n",
      "712  9958           16         B -2147483648   2\n",
      "\n",
      "[709 rows x 5 columns]\n"
     ]
    }
   ],
   "source": [
    "# E9_每佰萬單位營收用水量(噸)\n",
    "\n",
    "def assign_E9(df_TESG, dfT):\n",
    "    \"\"\"Assigns values to the 'E1' column of df based on conditions in df_TESG['E9_YoY'].\n",
    "\n",
    "    Args:\n",
    "        df_TESG (pd.DataFrame): The DataFrame containing the 'E9_YoY' column.\n",
    "        dfT (pd.DataFrame): The DataFrame where the 'E9' column will be assigned values.\n",
    "    \"\"\"\n",
    "\n",
    "    # Use numpy.where for conditional assignment based on multiple conditions\n",
    "    conditions = [df_TESG['E9_YoY'] < -0.12, \n",
    "                df_TESG['E9_YoY'] > 0.12,\n",
    "                (-0.12 <= df_TESG['E9_YoY']) & (df_TESG['E9_YoY'] <= 0.12),\n",
    "                df_TESG['E9_YoY'].isna()]\n",
    "    values = np.array([2, 0.5, 1, 0])\n",
    "\n",
    "    if not dfT.empty:\n",
    "        dfT['E9'] = np.select(conditions, values, np.nan).astype(int)\n",
    "    else:\n",
    "        pass\n",
    "    return dfT\n",
    "\n",
    "dfT = assign_E9(df_TESG.dropna(subset=['industry_id']).copy(), dfT)\n",
    "print(dfT)\n"
   ]
  },
  {
   "cell_type": "code",
   "execution_count": 208,
   "metadata": {},
   "outputs": [
    {
     "name": "stderr",
     "output_type": "stream",
     "text": [
      "c:\\Users\\mayda\\AppData\\Local\\Programs\\Python\\Python39\\lib\\site-packages\\numpy\\lib\\function_base.py:4655: RuntimeWarning: invalid value encountered in subtract\n",
      "  diff_b_a = subtract(b, a)\n"
     ]
    },
    {
     "data": {
      "text/plain": [
       "count    99.000000\n",
       "mean           inf\n",
       "std            NaN\n",
       "min      -1.000000\n",
       "25%      -1.000000\n",
       "50%      -0.947995\n",
       "75%            NaN\n",
       "max            inf\n",
       "Name: E10_YoY, dtype: float64"
      ]
     },
     "execution_count": 208,
     "metadata": {},
     "output_type": "execute_result"
    }
   ],
   "source": [
    "df_TESG['E10_YoY'].describe()"
   ]
  },
  {
   "cell_type": "code",
   "execution_count": 209,
   "metadata": {},
   "outputs": [
    {
     "name": "stdout",
     "output_type": "stream",
     "text": [
      "       代號  industry_id LEVEL_111          E1  E9  E10\n",
      "0    1101           14        B+           1   2    0\n",
      "1    1102           14         A           1   2    0\n",
      "2    1103           14         B           1   1    2\n",
      "3    1104           14        B+           1   0    0\n",
      "4    1108           14         B           0   0    0\n",
      "..    ...          ...       ...         ...  ..  ...\n",
      "708  9938            3        B+           0   0    0\n",
      "709  9939           15        B+           1   0    0\n",
      "710  9942           22         B -2147483648   0    0\n",
      "711  9944            3        B- -2147483648   2    0\n",
      "712  9958           16         B -2147483648   2    0\n",
      "\n",
      "[709 rows x 6 columns]\n"
     ]
    }
   ],
   "source": [
    "# E10_用水回收率%\t\n",
    "\n",
    "def assign_E10(df_TESG, dfT):\n",
    "    \"\"\"Assigns values to the 'E10' column of df based on conditions in df_TESG['E10_YoY'].\n",
    "\n",
    "    Args:\n",
    "        df_TESG (pd.DataFrame): The DataFrame containing the 'E10_YoY' column.\n",
    "        dfT (pd.DataFrame): The DataFrame where the 'E10' column will be assigned values.\n",
    "    \"\"\"\n",
    "\n",
    "    # Use numpy.where for conditional assignment based on multiple conditions\n",
    "    conditions = [df_TESG['E10_YoY'] > 0, \n",
    "                df_TESG['E10_YoY'] < -0.5,\n",
    "                (-0.5 <= df_TESG['E10_YoY']) & (df_TESG['E10_YoY'] <= 0),\n",
    "                df_TESG['E10_YoY'].isna()]\n",
    "    values = np.array([2, 0.5, 1, 0])\n",
    "\n",
    "    if not dfT.empty:\n",
    "        dfT['E10'] = np.select(conditions, values, np.nan).astype(int)\n",
    "    else:\n",
    "        pass\n",
    "    return dfT\n",
    "\n",
    "dfT = assign_E10(df_TESG.dropna(subset=['industry_id']).copy(), dfT)\n",
    "print(dfT)\n"
   ]
  },
  {
   "cell_type": "code",
   "execution_count": 210,
   "metadata": {},
   "outputs": [
    {
     "name": "stdout",
     "output_type": "stream",
     "text": [
      "       代號  industry_id LEVEL_111          E1  E9  E10  E17\n",
      "0    1101           14        B+           1   2    0    2\n",
      "1    1102           14         A           1   2    0    2\n",
      "2    1103           14         B           1   1    2    2\n",
      "3    1104           14        B+           1   0    0    2\n",
      "4    1108           14         B           0   0    0    2\n",
      "..    ...          ...       ...         ...  ..  ...  ...\n",
      "708  9938            3        B+           0   0    0    2\n",
      "709  9939           15        B+           1   0    0    2\n",
      "710  9942           22         B -2147483648   0    0    2\n",
      "711  9944            3        B- -2147483648   2    0    2\n",
      "712  9958           16         B -2147483648   2    0    2\n",
      "\n",
      "[709 rows x 7 columns]\n"
     ]
    }
   ],
   "source": [
    "# E17_負面新聞約當則次(近三年平均)\n",
    "\n",
    "def assign_E17(df_TESG, dfT):\n",
    "    \"\"\"Assigns values to the 'E17' column of df based on conditions in df_TESG['E17_YoY'].\n",
    "\n",
    "    Args:\n",
    "        df_TESG (pd.DataFrame): The DataFrame containing the 'E17_YoY' column.\n",
    "        dfT (pd.DataFrame): The DataFrame where the 'E17' column will be assigned values.\n",
    "    \"\"\"\n",
    "\n",
    "    # Use numpy.where for conditional assignment based on multiple conditions\n",
    "    conditions = [df_TESG['E17_YoY'] < -0.1, \n",
    "                df_TESG['E17_YoY'] > 0,\n",
    "                (-0.1 <= df_TESG['E17_YoY']) & (df_TESG['E17_YoY'] <= 0),\n",
    "                df_TESG['E17_YoY'].isna()]\n",
    "    values = np.array([2, 0.5, 1, 2])\n",
    "\n",
    "    if not dfT.empty:\n",
    "        dfT['E17'] = np.select(conditions, values, np.nan).astype(int)\n",
    "    else:\n",
    "        pass\n",
    "    return dfT\n",
    "\n",
    "dfT = assign_E17(df_TESG.dropna(subset=['industry_id']).copy(), dfT)\n",
    "print(dfT)\n"
   ]
  },
  {
   "cell_type": "code",
   "execution_count": 211,
   "metadata": {},
   "outputs": [],
   "source": [
    "dfT = dfT.merge(df[['代號', 'Q4']], how='outer', on='代號')\n",
    "dfT = dfT.merge(df[['代號', 'Q7']], how='outer', on='代號')\n",
    "dfT = dfT.merge(df[['代號', 'Q11']], how='outer', on='代號')\n",
    "dfT = dfT.merge(df[['代號', 'Q15']], how='outer', on='代號')\n",
    "\n",
    "df_Ltd.rename(columns = {'ISO50001': 'Q3'}, inplace=True)\n",
    "df['Q3'] = df_Ltd['Q3'].copy()\n",
    "dfT = dfT.merge(df[['代號', 'Q3']], how='outer', on='代號')\n",
    "\n",
    "df_Ltd.rename(columns = {'ISO14001': 'Q13'}, inplace=True)\n",
    "df['Q13'] = df_Ltd['Q13'].copy()\n",
    "dfT = dfT.merge(df[['代號', 'Q13']], how='outer', on='代號')\n",
    "\n",
    "df_Ltd.rename(columns = {'conservation': 'Q17'}, inplace=True)\n",
    "df['Q17'] = df_Ltd['Q17'].copy()\n",
    "dfT = dfT.merge(df[['代號', 'Q17']], how='outer', on='代號')"
   ]
  },
  {
   "cell_type": "markdown",
   "metadata": {},
   "source": [
    "##### S"
   ]
  },
  {
   "cell_type": "code",
   "execution_count": 212,
   "metadata": {},
   "outputs": [
    {
     "data": {
      "text/plain": [
       "count    709.000000\n",
       "mean       0.762838\n",
       "std        3.199964\n",
       "min       -0.995394\n",
       "25%       -0.489806\n",
       "50%       -0.071782\n",
       "75%        0.764115\n",
       "max       41.958333\n",
       "Name: S12_YoY, dtype: float64"
      ]
     },
     "execution_count": 212,
     "metadata": {},
     "output_type": "execute_result"
    }
   ],
   "source": [
    "df_TESG['S12_YoY'].describe()"
   ]
  },
  {
   "cell_type": "code",
   "execution_count": 213,
   "metadata": {},
   "outputs": [
    {
     "name": "stdout",
     "output_type": "stream",
     "text": [
      "       代號  industry_id LEVEL_111          E1  E9  E10  E17  Q4  Q7  Q11  Q15  \\\n",
      "0    1101           14        B+           1   2    0    2   2   2    0    2   \n",
      "1    1102           14         A           1   2    0    2   1   2    0    2   \n",
      "2    1103           14         B           1   1    2    2   0   0    0    0   \n",
      "3    1104           14        B+           1   0    0    2   0   0    0    0   \n",
      "4    1108           14         B           0   0    0    2   1   1    0    0   \n",
      "..    ...          ...       ...         ...  ..  ...  ...  ..  ..  ...  ...   \n",
      "704  9938            3        B+           0   0    0    2   0   0    0    0   \n",
      "705  9939           15        B+           1   0    0    2   0   0    0    0   \n",
      "706  9942           22         B -2147483648   0    0    2   0   0    0    0   \n",
      "707  9944            3        B- -2147483648   2    0    2   0   0    0    0   \n",
      "708  9958           16         B -2147483648   2    0    2   0   0    0    0   \n",
      "\n",
      "        Q3    Q13  S12  \n",
      "0        3      2    2  \n",
      "1        3      3    2  \n",
      "2        3      1    1  \n",
      "3        1      1    0  \n",
      "4        1      1    2  \n",
      "..     ...    ...  ...  \n",
      "704   True  False    2  \n",
      "705  False   True    2  \n",
      "706  False  False    2  \n",
      "707  False  False    2  \n",
      "708   True   True    0  \n",
      "\n",
      "[709 rows x 14 columns]\n"
     ]
    }
   ],
   "source": [
    "# S12_員工流動率%(近三年平均)\t\n",
    "\n",
    "def assign_S12(df_TESG, dfT):\n",
    "    \"\"\"Assigns values to the 'S12' column of df based on conditions in df_TESG['S12_YoY'].\n",
    "\n",
    "    Args:\n",
    "        df_TESG (pd.DataFrame): The DataFrame containing the 'S12_YoY' column.\n",
    "        dfT (pd.DataFrame): The DataFrame where the 'S12' column will be assigned values.\n",
    "    \"\"\"\n",
    "\n",
    "    # Use numpy.where for conditional assignment based on multiple conditions\n",
    "    conditions = [df_TESG['S12_YoY'] < 0, \n",
    "                df_TESG['S12_YoY'] > 0.8,\n",
    "                (0 <= df_TESG['S12_YoY']) & (df_TESG['S12_YoY'] <= 0.8),\n",
    "                df_TESG['S12_YoY'].isna()]\n",
    "    values = np.array([2, 0.5, 1, 0])\n",
    "\n",
    "    if not dfT.empty:\n",
    "        dfT['S12'] = np.select(conditions, values, np.nan).astype(int)\n",
    "    else:\n",
    "        pass\n",
    "    return dfT\n",
    "\n",
    "dfT = assign_S12(df_TESG.dropna(subset=['industry_id']).copy(), dfT)\n",
    "print(dfT)\n"
   ]
  },
  {
   "cell_type": "code",
   "execution_count": 214,
   "metadata": {},
   "outputs": [
    {
     "name": "stdout",
     "output_type": "stream",
     "text": [
      "       代號  industry_id LEVEL_111          E1  E9  E10  E17  Q4  Q7  Q11  Q15  \\\n",
      "0    1101           14        B+           1   2    0    2   2   2    0    2   \n",
      "1    1102           14         A           1   2    0    2   1   2    0    2   \n",
      "2    1103           14         B           1   1    2    2   0   0    0    0   \n",
      "3    1104           14        B+           1   0    0    2   0   0    0    0   \n",
      "4    1108           14         B           0   0    0    2   1   1    0    0   \n",
      "..    ...          ...       ...         ...  ..  ...  ...  ..  ..  ...  ...   \n",
      "704  9938            3        B+           0   0    0    2   0   0    0    0   \n",
      "705  9939           15        B+           1   0    0    2   0   0    0    0   \n",
      "706  9942           22         B -2147483648   0    0    2   0   0    0    0   \n",
      "707  9944            3        B- -2147483648   2    0    2   0   0    0    0   \n",
      "708  9958           16         B -2147483648   2    0    2   0   0    0    0   \n",
      "\n",
      "        Q3    Q13  S12  S2  \n",
      "0        3      2    2   0  \n",
      "1        3      3    2   0  \n",
      "2        3      1    1   0  \n",
      "3        1      1    0   0  \n",
      "4        1      1    2   0  \n",
      "..     ...    ...  ...  ..  \n",
      "704   True  False    2   0  \n",
      "705  False   True    2   0  \n",
      "706  False  False    2   0  \n",
      "707  False  False    2   0  \n",
      "708   True   True    0   0  \n",
      "\n",
      "[709 rows x 15 columns]\n"
     ]
    }
   ],
   "source": [
    "# S2_GRI_人權及社區關係揭露度\t\n",
    "\n",
    "def assign_S2(df_TESG, dfT):\n",
    "    \"\"\"Assigns values to the 'S2' column of df based on conditions in df_TESG['S2_YoY'].\n",
    "\n",
    "    Args:\n",
    "        df_TESG (pd.DataFrame): The DataFrame containing the 'S2_YoY' column.\n",
    "        dfT (pd.DataFrame): The DataFrame where the 'S2' column will be assigned values.\n",
    "    \"\"\"\n",
    "\n",
    "    # Use numpy.where for conditional assignment based on multiple conditions\n",
    "    conditions = [df_TESG['S2_YoY'] > 0, \n",
    "                df_TESG['S2_YoY'] < -0.5,\n",
    "                (-0.5 <= df_TESG['S2_YoY']) & (df_TESG['S2_YoY'] <= 0),\n",
    "                df_TESG['S2_YoY'].isna()]\n",
    "    values = np.array([2, 0.5, 1, 0])\n",
    "\n",
    "    if not dfT.empty:\n",
    "        dfT['S2'] = np.select(conditions, values, np.nan).astype(int)\n",
    "    else:\n",
    "        pass\n",
    "    return dfT\n",
    "\n",
    "dfT = assign_S2(df_TESG.dropna(subset=['industry_id']).copy(), dfT)\n",
    "print(dfT)\n"
   ]
  },
  {
   "cell_type": "code",
   "execution_count": 215,
   "metadata": {},
   "outputs": [
    {
     "name": "stdout",
     "output_type": "stream",
     "text": [
      "       代號  industry_id LEVEL_111          E1  E9  E10  E17  Q4  Q7  Q11  Q15  \\\n",
      "0    1101           14        B+           1   2    0    2   2   2    0    2   \n",
      "1    1102           14         A           1   2    0    2   1   2    0    2   \n",
      "2    1103           14         B           1   1    2    2   0   0    0    0   \n",
      "3    1104           14        B+           1   0    0    2   0   0    0    0   \n",
      "4    1108           14         B           0   0    0    2   1   1    0    0   \n",
      "..    ...          ...       ...         ...  ..  ...  ...  ..  ..  ...  ...   \n",
      "704  9938            3        B+           0   0    0    2   0   0    0    0   \n",
      "705  9939           15        B+           1   0    0    2   0   0    0    0   \n",
      "706  9942           22         B -2147483648   0    0    2   0   0    0    0   \n",
      "707  9944            3        B- -2147483648   2    0    2   0   0    0    0   \n",
      "708  9958           16         B -2147483648   2    0    2   0   0    0    0   \n",
      "\n",
      "        Q3    Q13  S12  S2  S9  \n",
      "0        3      2    2   0   0  \n",
      "1        3      3    2   0   0  \n",
      "2        3      1    1   0   0  \n",
      "3        1      1    0   0   0  \n",
      "4        1      1    2   0   0  \n",
      "..     ...    ...  ...  ..  ..  \n",
      "704   True  False    2   0   0  \n",
      "705  False   True    2   0   0  \n",
      "706  False  False    2   0   2  \n",
      "707  False  False    2   0   0  \n",
      "708   True   True    0   0   0  \n",
      "\n",
      "[709 rows x 16 columns]\n"
     ]
    }
   ],
   "source": [
    "# S9_GRI_產品品質及安全揭露度\n",
    "\n",
    "def assign_S9(df_TESG, dfT):\n",
    "    \"\"\"Assigns values to the 'S9' column of df based on conditions in df_TESG['S9_YoY'].\n",
    "\n",
    "    Args:\n",
    "        df_TESG (pd.DataFrame): The DataFrame containing the 'S9_YoY' column.\n",
    "        dfT (pd.DataFrame): The DataFrame where the 'S9' column will be assigned values.\n",
    "    \"\"\"\n",
    "\n",
    "    # Use numpy.where for conditional assignment based on multiple conditions\n",
    "    conditions = [df_TESG['S9_YoY'] > 0, \n",
    "                df_TESG['S9_YoY'] < -0.5,\n",
    "                (-0.5 <= df_TESG['S9_YoY']) & (df_TESG['S9_YoY'] <= 0),\n",
    "                df_TESG['S9_YoY'].isna()]\n",
    "    values = np.array([2, 0.5, 1, 0])\n",
    "\n",
    "    if not dfT.empty:\n",
    "        dfT['S9'] = np.select(conditions, values, np.nan).astype(int)\n",
    "    else:\n",
    "        pass\n",
    "    return dfT\n",
    "\n",
    "dfT = assign_S9(df_TESG.dropna(subset=['industry_id']).copy(), dfT)\n",
    "print(dfT)\n"
   ]
  },
  {
   "cell_type": "code",
   "execution_count": 216,
   "metadata": {},
   "outputs": [
    {
     "name": "stdout",
     "output_type": "stream",
     "text": [
      "       代號  industry_id LEVEL_111          E1  E9  E10  E17  Q4  Q7  Q11  Q15  \\\n",
      "0    1101           14        B+           1   2    0    2   2   2    0    2   \n",
      "1    1102           14         A           1   2    0    2   1   2    0    2   \n",
      "2    1103           14         B           1   1    2    2   0   0    0    0   \n",
      "3    1104           14        B+           1   0    0    2   0   0    0    0   \n",
      "4    1108           14         B           0   0    0    2   1   1    0    0   \n",
      "..    ...          ...       ...         ...  ..  ...  ...  ..  ..  ...  ...   \n",
      "704  9938            3        B+           0   0    0    2   0   0    0    0   \n",
      "705  9939           15        B+           1   0    0    2   0   0    0    0   \n",
      "706  9942           22         B -2147483648   0    0    2   0   0    0    0   \n",
      "707  9944            3        B- -2147483648   2    0    2   0   0    0    0   \n",
      "708  9958           16         B -2147483648   2    0    2   0   0    0    0   \n",
      "\n",
      "        Q3    Q13  S12  S2  S9         S21  \n",
      "0        3      2    2   0   0           0  \n",
      "1        3      3    2   0   0           0  \n",
      "2        3      1    1   0   0           0  \n",
      "3        1      1    0   0   0           0  \n",
      "4        1      1    2   0   0 -2147483648  \n",
      "..     ...    ...  ...  ..  ..         ...  \n",
      "704   True  False    2   0   0           0  \n",
      "705  False   True    2   0   0           0  \n",
      "706  False  False    2   0   2 -2147483648  \n",
      "707  False  False    2   0   0           1  \n",
      "708   True   True    0   0   0 -2147483648  \n",
      "\n",
      "[709 rows x 17 columns]\n"
     ]
    },
    {
     "name": "stderr",
     "output_type": "stream",
     "text": [
      "<ipython-input-216-8d6f3672df4a>:19: RuntimeWarning: invalid value encountered in cast\n",
      "  dfT['S21'] = np.select(conditions, values, np.nan).astype(int)\n"
     ]
    }
   ],
   "source": [
    "# S21_失能風險(三年平均)\t\n",
    "\n",
    "def assign_S21(df_TESG, dfT):\n",
    "    \"\"\"Assigns values to the 'S21' column of df based on conditions in df_TESG['S21_YoY'].\n",
    "\n",
    "    Args:\n",
    "        df_TESG (pd.DataFrame): The DataFrame containing the 'S21_YoY' column.\n",
    "        dfT (pd.DataFrame): The DataFrame where the 'S21' column will be assigned values.\n",
    "    \"\"\"\n",
    "\n",
    "    # Use numpy.where for conditional assignment based on multiple conditions\n",
    "    conditions = [(df_TESG['S21_YoY'] < -0.05) & (df_TESG['S21_YoY'] < df_TESG['S21_base_YoY']), \n",
    "                df_TESG['S21_YoY'] > df_TESG['S21_base_YoY'],\n",
    "                ((0 > df_TESG['S21_YoY']) & (df_TESG['S21_YoY'] < -0.05)) | ((df_TESG['S21_YoY'] < -0.05) & (df_TESG['S21_YoY'] >= df_TESG['S21_base_YoY'])),\n",
    "                df_TESG['S21_YoY'].isna()]\n",
    "    values = np.array([2, 0.5, 1, 0])\n",
    "\n",
    "    if not dfT.empty:\n",
    "        dfT['S21'] = np.select(conditions, values, np.nan).astype(int)\n",
    "    else:\n",
    "        pass\n",
    "    return dfT\n",
    "\n",
    "dfT = assign_S21(df_TESG.dropna(subset=['industry_id']).copy(), dfT)\n",
    "print(dfT)\n"
   ]
  },
  {
   "cell_type": "code",
   "execution_count": 217,
   "metadata": {},
   "outputs": [
    {
     "name": "stdout",
     "output_type": "stream",
     "text": [
      "       代號  industry_id LEVEL_111          E1  E9  E10  E17  Q4  Q7  Q11  Q15  \\\n",
      "0    1101           14        B+           1   2    0    2   2   2    0    2   \n",
      "1    1102           14         A           1   2    0    2   1   2    0    2   \n",
      "2    1103           14         B           1   1    2    2   0   0    0    0   \n",
      "3    1104           14        B+           1   0    0    2   0   0    0    0   \n",
      "4    1108           14         B           0   0    0    2   1   1    0    0   \n",
      "..    ...          ...       ...         ...  ..  ...  ...  ..  ..  ...  ...   \n",
      "704  9938            3        B+           0   0    0    2   0   0    0    0   \n",
      "705  9939           15        B+           1   0    0    2   0   0    0    0   \n",
      "706  9942           22         B -2147483648   0    0    2   0   0    0    0   \n",
      "707  9944            3        B- -2147483648   2    0    2   0   0    0    0   \n",
      "708  9958           16         B -2147483648   2    0    2   0   0    0    0   \n",
      "\n",
      "        Q3    Q13  S12  S2  S9         S21  esg_out  \n",
      "0        3      2    2   0   0           0        2  \n",
      "1        3      3    2   0   0           0        2  \n",
      "2        3      1    1   0   0           0        2  \n",
      "3        1      1    0   0   0           0        1  \n",
      "4        1      1    2   0   0 -2147483648        1  \n",
      "..     ...    ...  ...  ..  ..         ...      ...  \n",
      "704   True  False    2   0   0           0        1  \n",
      "705  False   True    2   0   0           0        2  \n",
      "706  False  False    2   0   2 -2147483648        1  \n",
      "707  False  False    2   0   0           1        1  \n",
      "708   True   True    0   0   0 -2147483648        2  \n",
      "\n",
      "[709 rows x 18 columns]\n"
     ]
    }
   ],
   "source": [
    "# 請問，貴公司是否支持ESG產品及進行ESG揭露?\n",
    "\n",
    "def assign_esg_disclosure(df_TESG, dfT):\n",
    "    # Use numpy.where for conditional assignment based on multiple conditions\n",
    "    conditions = [(df_TESG['採用永續報告書年度'] != \"\") & (df_TESG['採用永續報告書是否驗證'] == 1), \n",
    "                  (df_TESG['採用永續報告書年度'] != \"\") & (df_TESG['採用永續報告書是否驗證'] == 0),\n",
    "                  (df_TESG['採用永續報告書年度'] == \"\")]\n",
    "    values = np.array([2, 1, 0.5])\n",
    "\n",
    "    if not dfT.empty:\n",
    "        dfT['esg_out'] = np.select(conditions, values, np.nan).astype(int)\n",
    "    else:\n",
    "        pass\n",
    "    return dfT\n",
    "\n",
    "dfT = assign_esg_disclosure(df_TESG.dropna(subset=['industry_id']).copy(), dfT)\n",
    "print(dfT)"
   ]
  },
  {
   "cell_type": "code",
   "execution_count": 218,
   "metadata": {},
   "outputs": [],
   "source": [
    "dfT = dfT.merge(df[['代號', 'Q20']], how='outer', on='代號')\n",
    "\n",
    "df_Ltd.rename(columns = {'occupation_health_score':'Q18'}, inplace=True)\n",
    "df['Q18'] = df_Ltd['Q18'].copy()\n",
    "dfT = dfT.merge(df[['代號', 'Q18']], how='outer', on='代號')\n",
    "\n",
    "df_Ltd.rename(columns = {'staff_train_score':'Q23'}, inplace=True)\n",
    "df['Q23'] = df_Ltd['Q23'].copy()\n",
    "dfT = dfT.merge(df[['代號', 'Q23']], how='outer', on='代號')\n",
    "\n",
    "df_Ltd.rename(columns = {'free_speech_score':'Q24'}, inplace=True)\n",
    "df['Q24'] = df_Ltd['Q24'].copy()\n",
    "dfT = dfT.merge(df[['代號', 'Q24']], how='outer', on='代號')\n",
    "\n",
    "df_Ltd.rename(columns = {'consumer_neg_score':'Q27'}, inplace=True)\n",
    "df['Q27'] = df_Ltd['Q27'].copy()\n",
    "dfT = dfT.merge(df[['代號', 'Q27']], how='outer', on='代號')\n",
    "\n",
    "df_Ltd.rename(columns = {'social_score':'Q29'}, inplace=True)\n",
    "df['Q29'] = df_Ltd['Q29'].copy()\n",
    "dfT = dfT.merge(df[['代號', 'Q29']], how='outer', on='代號')\n",
    "\n",
    "df_Ltd.rename(columns = {'supplier_esg_score':'Q31'}, inplace=True)\n",
    "df['Q31'] = df_Ltd['Q31'].copy()\n",
    "dfT = dfT.merge(df[['代號', 'Q31']], how='outer', on='代號')"
   ]
  },
  {
   "cell_type": "markdown",
   "metadata": {},
   "source": [
    "##### G"
   ]
  },
  {
   "cell_type": "code",
   "execution_count": 219,
   "metadata": {},
   "outputs": [
    {
     "name": "stdout",
     "output_type": "stream",
     "text": [
      "       代號  industry_id LEVEL_111          E1  E9  E10  E17  Q4  Q7  Q11  ...  \\\n",
      "0    1101           14        B+           1   2    0    2   2   2    0  ...   \n",
      "1    1102           14         A           1   2    0    2   1   2    0  ...   \n",
      "2    1103           14         B           1   1    2    2   0   0    0  ...   \n",
      "3    1104           14        B+           1   0    0    2   0   0    0  ...   \n",
      "4    1108           14         B           0   0    0    2   1   1    0  ...   \n",
      "..    ...          ...       ...         ...  ..  ...  ...  ..  ..  ...  ...   \n",
      "704  9938            3        B+           0   0    0    2   0   0    0  ...   \n",
      "705  9939           15        B+           1   0    0    2   0   0    0  ...   \n",
      "706  9942           22         B -2147483648   0    0    2   0   0    0  ...   \n",
      "707  9944            3        B- -2147483648   2    0    2   0   0    0  ...   \n",
      "708  9958           16         B -2147483648   2    0    2   0   0    0  ...   \n",
      "\n",
      "            S21 esg_out Q20  Q18  Q23  Q24  Q27  Q29  Q31  G6  \n",
      "0             0       2   0  1.0  3.0  3.0  1.0  1.0  1.0   0  \n",
      "1             0       2   0  1.0  3.0  1.0  1.0  3.0  1.0   0  \n",
      "2             0       2   0  1.0  3.0  1.0  1.0  1.0  1.0   0  \n",
      "3             0       1   0  1.0  3.0  3.0  1.0  1.0  1.0   0  \n",
      "4   -2147483648       1   1  3.0  3.0  3.0  1.0  1.0  1.0   0  \n",
      "..          ...     ...  ..  ...  ...  ...  ...  ...  ...  ..  \n",
      "704           0       1   0  NaN  NaN  NaN  NaN  NaN  NaN   0  \n",
      "705           0       2   0  NaN  NaN  NaN  NaN  NaN  NaN   0  \n",
      "706 -2147483648       1   0  NaN  NaN  NaN  NaN  NaN  NaN   2  \n",
      "707           1       1   0  NaN  NaN  NaN  NaN  NaN  NaN   0  \n",
      "708 -2147483648       2   0  NaN  NaN  NaN  NaN  NaN  NaN   0  \n",
      "\n",
      "[709 rows x 26 columns]\n"
     ]
    }
   ],
   "source": [
    "# G6_GRI_關鍵事件風險管理揭露度\t\n",
    "\n",
    "def assign_G6(df_TESG, dfT):\n",
    "    \"\"\"Assigns values to the 'G6' column of df based on conditions in df_TESG['G6_YoY'].\n",
    "\n",
    "    Args:\n",
    "        df_TESG (pd.DataFrame): The DataFrame containing the 'G6_YoY' column.\n",
    "        dfT (pd.DataFrame): The DataFrame where the 'G6' column will be assigned values.\n",
    "    \"\"\"\n",
    "\n",
    "    # Use numpy.where for conditional assignment based on multiple conditions\n",
    "    conditions = [df_TESG['G6_YoY'] > 0, \n",
    "                df_TESG['G6_YoY'] < 0,\n",
    "                (0 == df_TESG['G6_YoY']),\n",
    "                df_TESG['G6_YoY'].isna()]\n",
    "    values = np.array([2, 0.5, 1, 0])\n",
    "\n",
    "    if not dfT.empty:\n",
    "        dfT['G6'] = np.select(conditions, values, np.nan).astype(int)\n",
    "    else:\n",
    "        pass\n",
    "    return dfT\n",
    "\n",
    "dfT = assign_G6(df_TESG.dropna(subset=['industry_id']).copy(), dfT)\n",
    "print(dfT)\n"
   ]
  },
  {
   "cell_type": "code",
   "execution_count": 220,
   "metadata": {},
   "outputs": [
    {
     "name": "stdout",
     "output_type": "stream",
     "text": [
      "       代號  industry_id LEVEL_111          E1  E9  E10  E17  Q4  Q7  Q11  ...  \\\n",
      "0    1101           14        B+           1   2    0    2   2   2    0  ...   \n",
      "1    1102           14         A           1   2    0    2   1   2    0  ...   \n",
      "2    1103           14         B           1   1    2    2   0   0    0  ...   \n",
      "3    1104           14        B+           1   0    0    2   0   0    0  ...   \n",
      "4    1108           14         B           0   0    0    2   1   1    0  ...   \n",
      "..    ...          ...       ...         ...  ..  ...  ...  ..  ..  ...  ...   \n",
      "704  9938            3        B+           0   0    0    2   0   0    0  ...   \n",
      "705  9939           15        B+           1   0    0    2   0   0    0  ...   \n",
      "706  9942           22         B -2147483648   0    0    2   0   0    0  ...   \n",
      "707  9944            3        B- -2147483648   2    0    2   0   0    0  ...   \n",
      "708  9958           16         B -2147483648   2    0    2   0   0    0  ...   \n",
      "\n",
      "     esg_out Q20  Q18  Q23  Q24  Q27  Q29  Q31  G6  G19  \n",
      "0          2   0  1.0  3.0  3.0  1.0  1.0  1.0   0    1  \n",
      "1          2   0  1.0  3.0  1.0  1.0  3.0  1.0   0    0  \n",
      "2          2   0  1.0  3.0  1.0  1.0  1.0  1.0   0    1  \n",
      "3          1   0  1.0  3.0  3.0  1.0  1.0  1.0   0    1  \n",
      "4          1   1  3.0  3.0  3.0  1.0  1.0  1.0   0    1  \n",
      "..       ...  ..  ...  ...  ...  ...  ...  ...  ..  ...  \n",
      "704        1   0  NaN  NaN  NaN  NaN  NaN  NaN   0    2  \n",
      "705        2   0  NaN  NaN  NaN  NaN  NaN  NaN   0    2  \n",
      "706        1   0  NaN  NaN  NaN  NaN  NaN  NaN   2    1  \n",
      "707        1   0  NaN  NaN  NaN  NaN  NaN  NaN   0    1  \n",
      "708        2   0  NaN  NaN  NaN  NaN  NaN  NaN   0    1  \n",
      "\n",
      "[709 rows x 27 columns]\n"
     ]
    }
   ],
   "source": [
    "# G19_公司治理評鑑等級\t\n",
    "\n",
    "def assign_G19(df_TESG, dfT):\n",
    "    \"\"\"Assigns values to the 'G19' column of df based on conditions in df_TESG['G19_YoY'].\n",
    "\n",
    "    Args:\n",
    "        df_TESG (pd.DataFrame): The DataFrame containing the 'G19_YoY' column.\n",
    "        dfT (pd.DataFrame): The DataFrame where the 'G19' column will be assigned values.\n",
    "    \"\"\"\n",
    "    \n",
    "    # Use numpy.where for conditional assignment based on multiple conditions\n",
    "    conditions = [df_TESG['G19_YoY'] > 0, \n",
    "                df_TESG['G19_YoY'] < 0,\n",
    "                (0 == df_TESG['G19_YoY']),\n",
    "                df_TESG['G19_YoY'].isna()]\n",
    "    values = np.array([2, 0.5, 1, 0])\n",
    "\n",
    "    if not dfT.empty:\n",
    "        dfT['G19'] = np.select(conditions, values, np.nan).astype(int)\n",
    "    else:\n",
    "        pass\n",
    "    return dfT\n",
    "\n",
    "dfT = assign_G19(df_TESG.dropna(subset=['industry_id']).copy(), dfT)\n",
    "print(dfT)\n"
   ]
  },
  {
   "cell_type": "code",
   "execution_count": 221,
   "metadata": {},
   "outputs": [],
   "source": [
    "dfT = dfT.merge(df[['代號', 'Q34_2']], how='outer', on='代號')\n",
    "\n",
    "df_Ltd.rename(columns = {'salary_score':'Q36'}, inplace=True)\n",
    "df['Q36'] = df_Ltd['Q36'].copy()\n",
    "dfT = dfT.merge(df[['代號', 'Q36']], how='outer', on='代號')\n",
    "\n",
    "df_Ltd.rename(columns = {'risk_management_score':'Q43'}, inplace=True)\n",
    "df['Q43'] = df_Ltd['Q43'].copy()\n",
    "dfT = dfT.merge(df[['代號', 'Q43']], how='outer', on='代號')"
   ]
  },
  {
   "cell_type": "code",
   "execution_count": 222,
   "metadata": {},
   "outputs": [],
   "source": [
    "# 請問，貴公司是否會在年度股東會至少提前一天公布議程?\n",
    "def assign_Q35_2(dfT):\n",
    "    dfT['Q35_2'] = 3 # 公發公司依法規定應於股東會開會十五日前備妥當次股東會議事手冊\n",
    "    return dfT\n",
    "\n",
    "dfT = assign_Q35_2(dfT)"
   ]
  },
  {
   "cell_type": "markdown",
   "metadata": {},
   "source": [
    "##### 試計算ESG Score"
   ]
  },
  {
   "cell_type": "markdown",
   "metadata": {},
   "source": [
    "- SASB 產業權重"
   ]
  },
  {
   "cell_type": "code",
   "execution_count": 223,
   "metadata": {},
   "outputs": [],
   "source": [
    "industry_weights = {\n",
    "    1: (0.31, 0.39, 0.30),  # id=1, 食品製造業, 食品與飲料\n",
    "    2: (0.31, 0.39, 0.30),  # id=2, 飲料製造業/菸草製造業, 食品與飲料\n",
    "    3: (0.19, 0.42, 0.39),  # id=3, 紡織業, 消費品\n",
    "    4: (0.19, 0.42, 0.39),  # id=4, 成衣及服飾品製造業, 消費品\n",
    "    5: (0.19, 0.42, 0.39),  # id=5, 皮革、毛皮及其製品製造業, 消費品\n",
    "    7: (0.35, 0.23, 0.42),  # id=7, \n",
    "    8: (0.22, 0.48, 0.30),  # id=8, 印刷及資料儲存媒體複製業, 服務\n",
    "    9: (0.39, 0.25, 0.36),  # id=9, 石油及煤製品製造業, 提煉與礦產加工\n",
    "    10: (0.30, 0.30, 0.40),  # Industry 10 weights\n",
    "    11: (0.30, 0.30, 0.40),  # id=11, 其他化學製品製造業, 資源轉化\n",
    "    12: (0.18, 0.53, 0.29),  # id=12, 藥品及醫用化學製品製造業, 醫療保健\n",
    "    13: (0.30, 0.30, 0.40),  # Industry 13 weights\n",
    "    14: (0.39, 0.25, 0.36),  # Industry 14 weights\n",
    "    15: (0.39, 0.25, 0.36),  # Industry 15 weights\n",
    "    16: (0.39, 0.25, 0.36),  # id=16, 基本金屬製造業, 提煉與礦產加工\n",
    "    17: (0.39, 0.25, 0.36),  # id=17, 金屬製品製造業, 提煉與礦產加工\n",
    "    18: (0.24, 0.38, 0.38),  # Industry 18 weights\n",
    "    19: (0.24, 0.38, 0.38),  # Industry 19 weights\n",
    "    20: (0.30, 0.30, 0.40),  # Industry 20 weights\n",
    "    21: (0.30, 0.30, 0.40),  # id=21, 機械設備製造業, 資源轉化\n",
    "    22: (0.32, 0.29, 0.39),  # id=22, 汽車及其零件製造業, 運輸\n",
    "    23: (0.32, 0.29, 0.39),  # id=23, 其他運輸工具及其零件製造業, 運輸\n",
    "    24: (0.19, 0.42, 0.39),  # id=24, 家具製造業, 消費品\n",
    "    25: (0.18, 0.53, 0.29)   # id=25, 其他製造業, 醫療保健\n",
    "}"
   ]
  },
  {
   "cell_type": "code",
   "execution_count": 224,
   "metadata": {},
   "outputs": [
    {
     "name": "stdout",
     "output_type": "stream",
     "text": [
      "       代號  industry_id LEVEL_111          E1  E9  E10  E17  Q4  Q7  Q11  ...  \\\n",
      "0    1101           14        B+           1   2    0    2   2   2    0  ...   \n",
      "1    1102           14         A           1   2    0    2   1   2    0  ...   \n",
      "2    1103           14         B           1   1    2    2   0   0    0  ...   \n",
      "3    1104           14        B+           1   0    0    2   0   0    0  ...   \n",
      "4    1108           14         B           0   0    0    2   1   1    0  ...   \n",
      "..    ...          ...       ...         ...  ..  ...  ...  ..  ..  ...  ...   \n",
      "704  9938            3        B+           0   0    0    2   0   0    0  ...   \n",
      "705  9939           15        B+           1   0    0    2   0   0    0  ...   \n",
      "706  9942           22         B -2147483648   0    0    2   0   0    0  ...   \n",
      "707  9944            3        B- -2147483648   2    0    2   0   0    0  ...   \n",
      "708  9958           16         B -2147483648   2    0    2   0   0    0  ...   \n",
      "\n",
      "     E5_topic_score S1_topic_score S2_topic_score  S3_topic_score  \\\n",
      "0               5.0            0.0            5.0             5.0   \n",
      "1               5.0            0.0            5.0             3.0   \n",
      "2               5.0            0.0            5.0             3.0   \n",
      "3               5.0            0.0            5.0             5.0   \n",
      "4               5.0            0.0            5.0             5.0   \n",
      "..              ...            ...            ...             ...   \n",
      "704             5.0            0.0            4.0             0.0   \n",
      "705             5.0            0.0            4.0             0.0   \n",
      "706             5.0            0.0            4.0             0.0   \n",
      "707             5.0            0.0            4.0             0.0   \n",
      "708             5.0            0.0            0.0             0.0   \n",
      "\n",
      "     S4_topic_score  S5_topic_score  G1_topic_score  G2_topic_score  \\\n",
      "0               3.0             3.0             5.0             4.0   \n",
      "1               3.0             5.0             5.0             0.0   \n",
      "2               3.0             3.0             5.0             4.0   \n",
      "3               3.0             3.0             5.0             4.0   \n",
      "4               3.0             3.0             5.0             4.0   \n",
      "..              ...             ...             ...             ...   \n",
      "704             0.0             1.0             5.0             5.0   \n",
      "705             0.0             2.0             5.0             5.0   \n",
      "706             4.0             1.0             5.0             4.0   \n",
      "707             0.0             1.0             5.0             4.0   \n",
      "708             0.0             2.0             5.0             4.0   \n",
      "\n",
      "     G3_topic_score  G4_topic_score  \n",
      "0               0.0             4.0  \n",
      "1               0.0             4.0  \n",
      "2               0.0             4.0  \n",
      "3               0.0             4.0  \n",
      "4               0.0             4.0  \n",
      "..              ...             ...  \n",
      "704             0.0             0.0  \n",
      "705             0.0             0.0  \n",
      "706             5.0             0.0  \n",
      "707             0.0             0.0  \n",
      "708             0.0             0.0  \n",
      "\n",
      "[709 rows x 48 columns]\n"
     ]
    }
   ],
   "source": [
    "def calculate_esg_score(df, industry_weights):\n",
    "    \"\"\"Calculates the Geometric Mean for E, S, and G groups and the final ESG score.\n",
    "\n",
    "    Args:\n",
    "        df (pd.DataFrame): The DataFrame containing the data.\n",
    "\n",
    "    Returns:\n",
    "        pd.DataFrame: The DataFrame with additional columns for E, S, G, and ESG scores.\n",
    "    \"\"\"\n",
    "\n",
    "    # Define group names and corresponding column names\n",
    "    group_names = {\n",
    "    'E': ['E1_topic_score', 'E2_topic_score', 'E3_topic_score', 'E4_topic_score', 'E5_topic_score'], \n",
    "    'S': ['S1_topic_score', 'S2_topic_score', 'S3_topic_score', 'S4_topic_score', 'S5_topic_score'], \n",
    "    'G': ['G1_topic_score', 'G2_topic_score', 'G3_topic_score', 'G4_topic_score']\n",
    "    }\n",
    "    \n",
    "    topics = {\n",
    "        'E1_topic':['E1', 'Q3', 'Q4'], \n",
    "        'E2_topic':['E9', 'E10', 'Q7'], \n",
    "        'E3_topic':['Q11', 'Q13'], \n",
    "        'E4_topic':['Q15'], \n",
    "        'E5_topic':['E17', \"Q17\"], \n",
    "        'S1_topic':['Q18', 'S21', 'Q20'], \n",
    "        'S2_topic':['S12', 'Q23'], \n",
    "        'S3_topic':['Q24', 'S2'], \n",
    "        'S4_topic':['S9', 'Q27'], \n",
    "        'S5_topic':['S2', 'esg_out', 'Q31', 'Q29'], \n",
    "        'G1_topic':['Q34_2', 'Q35_2', 'Q36'], \n",
    "        'G2_topic':['G19'], \n",
    "        'G3_topic':['G6'], \n",
    "        'G4_topic':['Q43']                \n",
    "    }\n",
    "\n",
    "    # Create empty columns for E, S, G, and ESG scores (不計算產業權重)\n",
    "    for group, cols in group_names.items():\n",
    "        df[f'{group}_score'] = np.nan\n",
    "    df['ESG_score'] = np.nan\n",
    "\n",
    "    # Iterate through each group and calculate Weighted Average with weight 2\n",
    "    # 各主題分數\n",
    "    for topic, cols in topics.items():\n",
    "        weighted_sum = np.sum(df[cols], axis=1)\n",
    "        if len(cols) == 4:\n",
    "            df[f'{topic}_score'] = np.select(\n",
    "                [weighted_sum >= 6, (weighted_sum < 6)&(weighted_sum > 4), (weighted_sum <= 4)&(weighted_sum >=3), (weighted_sum < 3)&(weighted_sum >1), (weighted_sum <= 1)&(weighted_sum > 0)],\n",
    "                [10, 8, 6, 4, 2], default=0) / 2        \n",
    "        elif len(cols) == 3:\n",
    "            df[f'{topic}_score'] = np.select(\n",
    "                [weighted_sum >= 4, (weighted_sum < 4)&(weighted_sum > 2), (weighted_sum <= 2)&(weighted_sum > 1),(weighted_sum == 1) & (weighted_sum ==0.5)],\n",
    "                [10, 8, 6, 4], default=0) / 2\n",
    "        elif len(cols) == 2:\n",
    "            df[f'{topic}_score'] = np.select(\n",
    "                [weighted_sum >= 3, (weighted_sum < 3)&(weighted_sum >= 2), (weighted_sum < 2)&(weighted_sum >= 1)],\n",
    "                [10, 8, 6], default=0) / 2\n",
    "        elif len(cols) == 1:\n",
    "            df[f'{topic}_score'] = np.select(\n",
    "                [weighted_sum == 2, weighted_sum == 1, weighted_sum == 0.5],\n",
    "                [10, 8, 6], default=0) / 2\n",
    "\n",
    "    # Calculate scores for each pillar\n",
    "    for group, cols in group_names.items():\n",
    "        weighted_sum = np.sum(df[cols], axis=1)\n",
    "        df[f'{group}_score'] = weighted_sum / (len(cols))\n",
    "        \n",
    "    industry_id = df['industry_id'].astype(int)  # Access industry ID from the row\n",
    "    weights = industry_weights.get(industry_id.iloc[0])  # Get weights for this industry (default None)\n",
    "\n",
    "    # Calculate ESG score based on 產業權重 (TESG)\n",
    "    if weights:\n",
    "        group_scores = [df[f'{group}_score'] for group in group_names.keys()]\n",
    "        df['ESG_score'] = (weights[0] * group_scores[0] + weights[1] * group_scores[1] + weights[2] * group_scores[2]) / sum(weights)\n",
    "    else:\n",
    "        # Use default weighted average if no industry weights available\n",
    "        df['ESG_score'] = (df['E_score'] + df['S_score'] + df['G_score']) / 3  \n",
    "\n",
    "    return df\n",
    "\n",
    "# Calculate ESG score\n",
    "dfT_result = calculate_esg_score(dfT.copy(), industry_weights)  # Use copy() to avoid modifying the original DataFrame\n",
    "print(dfT_result)"
   ]
  },
  {
   "cell_type": "code",
   "execution_count": 225,
   "metadata": {},
   "outputs": [
    {
     "name": "stdout",
     "output_type": "stream",
     "text": [
      "       代號  ESG_score ESG_rating\n",
      "0    1101      3.452         B+\n",
      "1    1102      3.014          B\n",
      "2    1103      2.572          C\n",
      "3    1104      2.360          C\n",
      "4    1108      2.360          C\n",
      "..    ...        ...        ...\n",
      "704  9938      1.540         C-\n",
      "705  9939      1.590         C-\n",
      "706  9942      2.100          C\n",
      "707  9944      1.684         C-\n",
      "708  9958      1.534         C-\n",
      "\n",
      "[709 rows x 3 columns]\n"
     ]
    }
   ],
   "source": [
    "def assign_esg_rating(df):\n",
    "    \"\"\"Assigns ESG ratings based on ESG score percentiles.\n",
    "\n",
    "    Args:\n",
    "        df (pd.DataFrame): The DataFrame containing the ESG scores.\n",
    "\n",
    "    Returns:\n",
    "        pd.DataFrame: The DataFrame with additional column for ESG ratings.\n",
    "    \"\"\"\n",
    "\n",
    "    # Define percentiles and corresponding ratings\n",
    "    acc_percentages = [0.0, 0.06, 0.249, 0.478, 0.721, 0.886, 0.962, 1.0]\n",
    "    ratings = ['C-', 'C', 'B-', 'B', 'B+', 'A', 'A+']\n",
    "\n",
    "    # Calculate percentiles of ESG scores\n",
    "    esg_percentiles = np.percentile(df['ESG_score'], [p * 100 for p in acc_percentages])\n",
    "\n",
    "    # Assign ratings based on percentiles\n",
    "    df['ESG_rating'] = pd.cut(df['ESG_score'], bins=esg_percentiles, labels=ratings, include_lowest=True)\n",
    "\n",
    "    return df\n",
    "\n",
    "dfT_result = assign_esg_rating(dfT_result.copy())\n",
    "print(dfT_result[['代號', 'ESG_score', 'ESG_rating']])\n"
   ]
  },
  {
   "cell_type": "markdown",
   "metadata": {},
   "source": [
    "#### 驗證Mapping的正確率"
   ]
  },
  {
   "cell_type": "code",
   "execution_count": 226,
   "metadata": {},
   "outputs": [
    {
     "name": "stdout",
     "output_type": "stream",
     "text": [
      "Percentage of matching ESG ratings: 17.91%\n"
     ]
    }
   ],
   "source": [
    "def compare_esg_ratings(df, col1='ESG_rating', col2='LEVEL_111'):\n",
    "    \"\"\"Compares ESG score ratings with ESG ratings in df_TESGscore['TESG等級'].\n",
    "\n",
    "    Returns:\n",
    "        float: Percentage of matching ratings.\n",
    "    \"\"\"\n",
    "\n",
    "    # Count the number of matching ratings\n",
    "    matching_count = (df[col1] == df[col2]).sum()\n",
    "\n",
    "    # Calculate the percentage of matching ratings\n",
    "    total_count = len(df)\n",
    "    matching_percentage = (matching_count / total_count) * 100\n",
    "\n",
    "    return matching_percentage\n",
    "\n",
    "# Example usage:\n",
    "matching_percentage = compare_esg_ratings(dfT_result, col1='ESG_rating', col2='LEVEL_111')\n",
    "print(f\"Percentage of matching ESG ratings: {matching_percentage:.2f}%\")\n"
   ]
  },
  {
   "cell_type": "code",
   "execution_count": 227,
   "metadata": {},
   "outputs": [],
   "source": [
    "dfT_result.to_csv('database/dfT_result.csv', index=False, encoding='big5')"
   ]
  },
  {
   "cell_type": "markdown",
   "metadata": {},
   "source": [
    "- 不同產業別的估計準確度"
   ]
  },
  {
   "cell_type": "code",
   "execution_count": 228,
   "metadata": {},
   "outputs": [
    {
     "name": "stdout",
     "output_type": "stream",
     "text": [
      "    industry_id          0\n",
      "0             1  29.411765\n",
      "1             2  60.000000\n",
      "2             3  13.157895\n",
      "3             4  50.000000\n",
      "4             5  14.285714\n",
      "5             7   0.000000\n",
      "6             8   0.000000\n",
      "7             9   0.000000\n",
      "8            10  10.000000\n",
      "9            11  31.250000\n",
      "10           12   0.000000\n",
      "11           13  14.285714\n",
      "12           14  25.000000\n",
      "13           15   7.692308\n",
      "14           16  18.750000\n",
      "15           17  21.052632\n",
      "16           18  17.674419\n",
      "17           19  17.142857\n",
      "18           20  19.354839\n",
      "19           21  25.000000\n",
      "20           22  25.000000\n",
      "21           23  14.285714\n",
      "22           24  25.000000\n",
      "23           25   4.166667\n"
     ]
    }
   ],
   "source": [
    "def compare_esg_ratings_by_industry(df):\n",
    "  \"\"\"Compares ESG score ratings with ESG ratings in df['LEVEL_111'] for each industry.\n",
    "\n",
    "  Args:\n",
    "      df (pd.DataFrame): The DataFrame containing 'ESG_rating' and 'LEVEL_111' columns.\n",
    "\n",
    "  Returns:\n",
    "      pd.DataFrame: A DataFrame with 'industry' and 'matching_percentage' columns.\n",
    "  \"\"\"\n",
    "\n",
    "  # Group the DataFrame by industry\n",
    "  grouped_df = df.groupby('industry_id')\n",
    "\n",
    "  # Apply the comparison function to each group and calculate matching percentage\n",
    "  results = grouped_df.apply(lambda x: compare_esg_ratings(x.copy()))  # Pass a copy to avoid modifying original\n",
    "\n",
    "  # Reset the index to include 'industry' as a column\n",
    "  results = results.reset_index()\n",
    "\n",
    "  # Rename the column with matching percentage (optional)\n",
    "  results = results.rename(columns={'ESG_rating': 'matching_percentage'})\n",
    "\n",
    "  return results\n",
    "\n",
    "# Assuming 'industry' is the column name for industry in dfT_result\n",
    "industry_results = compare_esg_ratings_by_industry(dfT_result)\n",
    "print(industry_results)"
   ]
  },
  {
   "cell_type": "markdown",
   "metadata": {},
   "source": [
    "##### 分成A,B,C三組的正確率"
   ]
  },
  {
   "cell_type": "code",
   "execution_count": 229,
   "metadata": {},
   "outputs": [
    {
     "name": "stdout",
     "output_type": "stream",
     "text": [
      "Percentage of matching ESG ratings: 50.07%\n"
     ]
    }
   ],
   "source": [
    "rating_categories = {\n",
    "  'A': ['A+', 'A'],\n",
    "  'B': ['B+', 'B', 'B-'],\n",
    "  'C': ['C', 'C-']\n",
    "}\n",
    "\n",
    "def map_rating_to_category(rating, rating_categories):\n",
    "  \"\"\"Maps an ESG rating to its corresponding category (A, B, or C) based on rating_categories.\n",
    "\n",
    "  Args:\n",
    "      rating (str): The ESG rating to be mapped.\n",
    "      rating_categories (dict): Dictionary mapping main categories (A, B, C) to sub-ratings.\n",
    "\n",
    "  Returns:\n",
    "      str: The corresponding category (A, B, or C) for the rating.\n",
    "  \"\"\"\n",
    "\n",
    "  for category, sub_ratings in rating_categories.items():\n",
    "    if rating in sub_ratings:\n",
    "      return category\n",
    "  return rating  # Return original rating if not found in categories\n",
    "\n",
    "# Assuming 'ESG_rating' is the column for ESG score in dfT\n",
    "dfT_result['Categorized_Rating_LEVEL_111'] = dfT_result['LEVEL_111'].apply(map_rating_to_category, args=(rating_categories,))\n",
    "dfT_result['Categorized_Rating_ESG'] = dfT_result['ESG_rating'].apply(map_rating_to_category, args=(rating_categories,))\n",
    "\n",
    "matching_percentage = compare_esg_ratings(dfT_result, col1='Categorized_Rating_ESG', col2='Categorized_Rating_LEVEL_111')\n",
    "print(f\"Percentage of matching ESG ratings: {matching_percentage:.2f}%\")\n"
   ]
  },
  {
   "cell_type": "markdown",
   "metadata": {},
   "source": [
    "#### 分析上市公司使用TEST後的ESG Score"
   ]
  },
  {
   "cell_type": "code",
   "execution_count": 230,
   "metadata": {},
   "outputs": [],
   "source": [
    "fileLtdscore = \"database/dfT_result.csv\"\n",
    "df_result = pd.read_csv(fileLtdscore, encoding='big5')"
   ]
  },
  {
   "cell_type": "code",
   "execution_count": 231,
   "metadata": {},
   "outputs": [
    {
     "data": {
      "image/png": "[encoded data removed]",
      "text/plain": [
       "<Figure size 576x360 with 1 Axes>"
      ]
     },
     "metadata": {},
     "output_type": "display_data"
    }
   ],
   "source": [
    "df_ESG = df_result[['ESG_score']].copy()\n",
    "df_ESG['ESG_score'].describe()\n",
    "\n",
    "# Plot density distribution of ESG score\n",
    "sns.set(style=\"whitegrid\")\n",
    "plt.figure(figsize=(8, 5))\n",
    "sns.kdeplot(df_ESG['ESG_score'], fill=True, color=\"g\")\n",
    "plt.title('Density Distribution of ESG Score')\n",
    "plt.xlabel('ESG Score')\n",
    "plt.ylabel('Density')\n",
    "plt.show()"
   ]
  },
  {
   "cell_type": "code",
   "execution_count": 236,
   "metadata": {},
   "outputs": [
    {
     "data": {
      "image/png": "[encoded data removed]",
      "text/plain": [
       "<Figure size 576x129.6 with 1 Axes>"
      ]
     },
     "metadata": {},
     "output_type": "display_data"
    }
   ],
   "source": [
    "# Set the style of the seaborn plots\n",
    "sns.set(style=\"darkgrid\")\n",
    "\n",
    "# Draw the box plot of ESG score\n",
    "plt.figure(figsize=(8, 1.8))\n",
    "sns.boxplot(x='ESG_score', data=df_ESG, palette=\"Greens\")\n",
    "plt.xticks(np.arange(0, 5.5, 0.5))\n",
    "plt.title('Box Plot of ESG Score')\n",
    "plt.xlabel('ESG Score')\n",
    "plt.show()"
   ]
  },
  {
   "cell_type": "code",
   "execution_count": 233,
   "metadata": {},
   "outputs": [
    {
     "data": {
      "text/html": [
       "<div>\n",
       "<style scoped>\n",
       "    .dataframe tbody tr th:only-of-type {\n",
       "        vertical-align: middle;\n",
       "    }\n",
       "\n",
       "    .dataframe tbody tr th {\n",
       "        vertical-align: top;\n",
       "    }\n",
       "\n",
       "    .dataframe thead th {\n",
       "        text-align: right;\n",
       "    }\n",
       "</style>\n",
       "<table border=\"1\" class=\"dataframe\">\n",
       "  <thead>\n",
       "    <tr style=\"text-align: right;\">\n",
       "      <th></th>\n",
       "      <th>ESG_score</th>\n",
       "    </tr>\n",
       "  </thead>\n",
       "  <tbody>\n",
       "    <tr>\n",
       "      <th>count</th>\n",
       "      <td>709.000000</td>\n",
       "    </tr>\n",
       "    <tr>\n",
       "      <th>mean</th>\n",
       "      <td>2.882480</td>\n",
       "    </tr>\n",
       "    <tr>\n",
       "      <th>std</th>\n",
       "      <td>0.530766</td>\n",
       "    </tr>\n",
       "    <tr>\n",
       "      <th>min</th>\n",
       "      <td>1.090000</td>\n",
       "    </tr>\n",
       "    <tr>\n",
       "      <th>25%</th>\n",
       "      <td>2.590000</td>\n",
       "    </tr>\n",
       "    <tr>\n",
       "      <th>50%</th>\n",
       "      <td>2.902000</td>\n",
       "    </tr>\n",
       "    <tr>\n",
       "      <th>75%</th>\n",
       "      <td>3.218000</td>\n",
       "    </tr>\n",
       "    <tr>\n",
       "      <th>max</th>\n",
       "      <td>4.330000</td>\n",
       "    </tr>\n",
       "  </tbody>\n",
       "</table>\n",
       "</div>"
      ],
      "text/plain": [
       "        ESG_score\n",
       "count  709.000000\n",
       "mean     2.882480\n",
       "std      0.530766\n",
       "min      1.090000\n",
       "25%      2.590000\n",
       "50%      2.902000\n",
       "75%      3.218000\n",
       "max      4.330000"
      ]
     },
     "execution_count": 233,
     "metadata": {},
     "output_type": "execute_result"
    }
   ],
   "source": [
    "df_ESG.describe()"
   ]
  }
 ],
 "metadata": {
  "kernelspec": {
   "display_name": "Python 3",
   "language": "python",
   "name": "python3"
  },
  "language_info": {
   "codemirror_mode": {
    "name": "ipython",
    "version": 3
   },
   "file_extension": ".py",
   "mimetype": "text/x-python",
   "name": "python",
   "nbconvert_exporter": "python",
   "pygments_lexer": "ipython3",
   "version": "3.9.2"
  }
 },
 "nbformat": 4,
 "nbformat_minor": 2
}
