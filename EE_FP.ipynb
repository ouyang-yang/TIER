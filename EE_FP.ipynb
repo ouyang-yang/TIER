{
 "cells": [
  {
   "cell_type": "markdown",
   "metadata": {},
   "source": [
    "#### Packages"
   ]
  },
  {
   "cell_type": "code",
   "execution_count": 208,
   "metadata": {},
   "outputs": [],
   "source": [
    "import matplotlib.pyplot as plt\n",
    "import statsmodels.api as sm\n",
    "import statsmodels.formula.api as smf\n",
    "import seaborn as sns\n",
    "import pandas as pd\n",
    "import numpy as np\n",
    "import plotly.express as px\n",
    "import plotly.graph_objects as go\n",
    "from plotly.subplots import make_subplots\n",
    "from sklearn.linear_model import LinearRegression\n",
    "from sklearn.cluster import KMeans, DBSCAN\n",
    "from sklearn.metrics import mutual_info_score\n",
    "from sklearn.preprocessing import StandardScaler\n",
    "from sklearn.neighbors import KernelDensity\n",
    "from scipy import stats\n",
    "from scipy.stats import levene, f_oneway"
   ]
  },
  {
   "cell_type": "markdown",
   "metadata": {},
   "source": [
    "#### Load File"
   ]
  },
  {
   "cell_type": "code",
   "execution_count": null,
   "metadata": {},
   "outputs": [],
   "source": [
    "diff_file = r'C:/Users/mayda/Downloads/diff.csv'\n",
    "df = pd.read_csv(diff_file)\n",
    "df.drop(columns=df.columns[0], axis=1, inplace=True)\n",
    "\n",
    "stud_data = r'C:/Users/mayda/Downloads/第三波(2005)高中職五專學生問卷資料/CSV/w3_sf_s_cpnp_lv7.0.csv'\n",
    "df_stud = pd.read_csv(stud_data)\n",
    "par_data = r\"C:/Users/mayda/Downloads/第三波(2005)高中職五專家長問卷資料/w3_sf_p_cpnp_lv7.0.csv\"\n",
    "df_par = pd.read_csv(par_data)\n",
    "future_data = r\"C:/Users/mayda/Downloads/2005年高中職五專學生核心樣本2019年調查/cp2019.csv\"\n",
    "df_future = pd.read_csv(future_data)"
   ]
  },
  {
   "cell_type": "markdown",
   "metadata": {},
   "source": [
    "##### Data Pre-processing"
   ]
  },
  {
   "cell_type": "code",
   "execution_count": 210,
   "metadata": {},
   "outputs": [
    {
     "data": {
      "text/html": [
       "<div>\n",
       "<style scoped>\n",
       "    .dataframe tbody tr th:only-of-type {\n",
       "        vertical-align: middle;\n",
       "    }\n",
       "\n",
       "    .dataframe tbody tr th {\n",
       "        vertical-align: top;\n",
       "    }\n",
       "\n",
       "    .dataframe thead th {\n",
       "        text-align: right;\n",
       "    }\n",
       "</style>\n",
       "<table border=\"1\" class=\"dataframe\">\n",
       "  <thead>\n",
       "    <tr style=\"text-align: right;\">\n",
       "      <th></th>\n",
       "      <th>stud_id</th>\n",
       "      <th>diff1</th>\n",
       "      <th>diff2</th>\n",
       "      <th>diff3</th>\n",
       "      <th>diff4</th>\n",
       "      <th>diff5</th>\n",
       "      <th>diff6</th>\n",
       "      <th>diff7</th>\n",
       "      <th>diff8</th>\n",
       "      <th>diff9</th>\n",
       "      <th>...</th>\n",
       "      <th>w3p513</th>\n",
       "      <th>w3p528</th>\n",
       "      <th>w3p531</th>\n",
       "      <th>w3p534</th>\n",
       "      <th>w3p601</th>\n",
       "      <th>w3p602</th>\n",
       "      <th>cp19v66</th>\n",
       "      <th>cp19v66_k</th>\n",
       "      <th>cp19v78_x</th>\n",
       "      <th>cp</th>\n",
       "    </tr>\n",
       "  </thead>\n",
       "  <tbody>\n",
       "    <tr>\n",
       "      <th>0</th>\n",
       "      <td>2</td>\n",
       "      <td>0.0</td>\n",
       "      <td>1.0</td>\n",
       "      <td>2.0</td>\n",
       "      <td>0.0</td>\n",
       "      <td>1.0</td>\n",
       "      <td>1.0</td>\n",
       "      <td>1.0</td>\n",
       "      <td>1.0</td>\n",
       "      <td>1.0</td>\n",
       "      <td>...</td>\n",
       "      <td>3.0</td>\n",
       "      <td></td>\n",
       "      <td></td>\n",
       "      <td></td>\n",
       "      <td>1.0</td>\n",
       "      <td>3.0</td>\n",
       "      <td>9.0</td>\n",
       "      <td></td>\n",
       "      <td>5.0</td>\n",
       "      <td>1</td>\n",
       "    </tr>\n",
       "    <tr>\n",
       "      <th>1</th>\n",
       "      <td>3</td>\n",
       "      <td>0.0</td>\n",
       "      <td>0.0</td>\n",
       "      <td>2.0</td>\n",
       "      <td>1.0</td>\n",
       "      <td>2.0</td>\n",
       "      <td>1.0</td>\n",
       "      <td>NaN</td>\n",
       "      <td>NaN</td>\n",
       "      <td>0.0</td>\n",
       "      <td>...</td>\n",
       "      <td>2.0</td>\n",
       "      <td></td>\n",
       "      <td></td>\n",
       "      <td></td>\n",
       "      <td>2.0</td>\n",
       "      <td>5.0</td>\n",
       "      <td>96.0</td>\n",
       "      <td></td>\n",
       "      <td>96.0</td>\n",
       "      <td>1</td>\n",
       "    </tr>\n",
       "    <tr>\n",
       "      <th>2</th>\n",
       "      <td>4</td>\n",
       "      <td>0.0</td>\n",
       "      <td>1.0</td>\n",
       "      <td>2.0</td>\n",
       "      <td>1.0</td>\n",
       "      <td>0.0</td>\n",
       "      <td>0.0</td>\n",
       "      <td>3.0</td>\n",
       "      <td>2.0</td>\n",
       "      <td>1.0</td>\n",
       "      <td>...</td>\n",
       "      <td>1.0</td>\n",
       "      <td></td>\n",
       "      <td></td>\n",
       "      <td></td>\n",
       "      <td>1.0</td>\n",
       "      <td>6.0</td>\n",
       "      <td>17.0</td>\n",
       "      <td></td>\n",
       "      <td>96.0</td>\n",
       "      <td>1</td>\n",
       "    </tr>\n",
       "    <tr>\n",
       "      <th>3</th>\n",
       "      <td>10</td>\n",
       "      <td>0.0</td>\n",
       "      <td>NaN</td>\n",
       "      <td>1.0</td>\n",
       "      <td>1.0</td>\n",
       "      <td>0.0</td>\n",
       "      <td>0.0</td>\n",
       "      <td>0.0</td>\n",
       "      <td>0.0</td>\n",
       "      <td>0.0</td>\n",
       "      <td>...</td>\n",
       "      <td>2.0</td>\n",
       "      <td></td>\n",
       "      <td></td>\n",
       "      <td></td>\n",
       "      <td>1.0</td>\n",
       "      <td>4.0</td>\n",
       "      <td>96.0</td>\n",
       "      <td></td>\n",
       "      <td>96.0</td>\n",
       "      <td>1</td>\n",
       "    </tr>\n",
       "    <tr>\n",
       "      <th>4</th>\n",
       "      <td>12</td>\n",
       "      <td>1.0</td>\n",
       "      <td>1.0</td>\n",
       "      <td>0.0</td>\n",
       "      <td>0.0</td>\n",
       "      <td>0.0</td>\n",
       "      <td>0.0</td>\n",
       "      <td>1.0</td>\n",
       "      <td>0.0</td>\n",
       "      <td>1.0</td>\n",
       "      <td>...</td>\n",
       "      <td>2.0</td>\n",
       "      <td></td>\n",
       "      <td></td>\n",
       "      <td></td>\n",
       "      <td>2.0</td>\n",
       "      <td>4.0</td>\n",
       "      <td>96.0</td>\n",
       "      <td></td>\n",
       "      <td>96.0</td>\n",
       "      <td>1</td>\n",
       "    </tr>\n",
       "    <tr>\n",
       "      <th>...</th>\n",
       "      <td>...</td>\n",
       "      <td>...</td>\n",
       "      <td>...</td>\n",
       "      <td>...</td>\n",
       "      <td>...</td>\n",
       "      <td>...</td>\n",
       "      <td>...</td>\n",
       "      <td>...</td>\n",
       "      <td>...</td>\n",
       "      <td>...</td>\n",
       "      <td>...</td>\n",
       "      <td>...</td>\n",
       "      <td>...</td>\n",
       "      <td>...</td>\n",
       "      <td>...</td>\n",
       "      <td>...</td>\n",
       "      <td>...</td>\n",
       "      <td>...</td>\n",
       "      <td>...</td>\n",
       "      <td>...</td>\n",
       "      <td>...</td>\n",
       "    </tr>\n",
       "    <tr>\n",
       "      <th>20131</th>\n",
       "      <td>50128</td>\n",
       "      <td>1.0</td>\n",
       "      <td>1.0</td>\n",
       "      <td>2.0</td>\n",
       "      <td>2.0</td>\n",
       "      <td>1.0</td>\n",
       "      <td>0.0</td>\n",
       "      <td>0.0</td>\n",
       "      <td>1.0</td>\n",
       "      <td>0.0</td>\n",
       "      <td>...</td>\n",
       "      <td>3.0</td>\n",
       "      <td>3</td>\n",
       "      <td>1</td>\n",
       "      <td>2</td>\n",
       "      <td>1.0</td>\n",
       "      <td>3.0</td>\n",
       "      <td>NaN</td>\n",
       "      <td>NaN</td>\n",
       "      <td>NaN</td>\n",
       "      <td>0</td>\n",
       "    </tr>\n",
       "    <tr>\n",
       "      <th>20132</th>\n",
       "      <td>50131</td>\n",
       "      <td>1.0</td>\n",
       "      <td>0.0</td>\n",
       "      <td>0.0</td>\n",
       "      <td>2.0</td>\n",
       "      <td>1.0</td>\n",
       "      <td>0.0</td>\n",
       "      <td>1.0</td>\n",
       "      <td>2.0</td>\n",
       "      <td>0.0</td>\n",
       "      <td>...</td>\n",
       "      <td>2.0</td>\n",
       "      <td>1</td>\n",
       "      <td>1</td>\n",
       "      <td>2</td>\n",
       "      <td>2.0</td>\n",
       "      <td>1.0</td>\n",
       "      <td>NaN</td>\n",
       "      <td>NaN</td>\n",
       "      <td>NaN</td>\n",
       "      <td>0</td>\n",
       "    </tr>\n",
       "    <tr>\n",
       "      <th>20133</th>\n",
       "      <td>50132</td>\n",
       "      <td>3.0</td>\n",
       "      <td>1.0</td>\n",
       "      <td>1.0</td>\n",
       "      <td>1.0</td>\n",
       "      <td>0.0</td>\n",
       "      <td>0.0</td>\n",
       "      <td>1.0</td>\n",
       "      <td>1.0</td>\n",
       "      <td>1.0</td>\n",
       "      <td>...</td>\n",
       "      <td>2.0</td>\n",
       "      <td>1</td>\n",
       "      <td>2</td>\n",
       "      <td>2</td>\n",
       "      <td>1.0</td>\n",
       "      <td>4.0</td>\n",
       "      <td>NaN</td>\n",
       "      <td>NaN</td>\n",
       "      <td>NaN</td>\n",
       "      <td>0</td>\n",
       "    </tr>\n",
       "    <tr>\n",
       "      <th>20134</th>\n",
       "      <td>50134</td>\n",
       "      <td>2.0</td>\n",
       "      <td>0.0</td>\n",
       "      <td>3.0</td>\n",
       "      <td>2.0</td>\n",
       "      <td>1.0</td>\n",
       "      <td>0.0</td>\n",
       "      <td>0.0</td>\n",
       "      <td>1.0</td>\n",
       "      <td>0.0</td>\n",
       "      <td>...</td>\n",
       "      <td>2.0</td>\n",
       "      <td>1</td>\n",
       "      <td>1</td>\n",
       "      <td>2</td>\n",
       "      <td>2.0</td>\n",
       "      <td>5.0</td>\n",
       "      <td>NaN</td>\n",
       "      <td>NaN</td>\n",
       "      <td>NaN</td>\n",
       "      <td>0</td>\n",
       "    </tr>\n",
       "    <tr>\n",
       "      <th>20135</th>\n",
       "      <td>50135</td>\n",
       "      <td>2.0</td>\n",
       "      <td>3.0</td>\n",
       "      <td>1.0</td>\n",
       "      <td>1.0</td>\n",
       "      <td>1.0</td>\n",
       "      <td>0.0</td>\n",
       "      <td>1.0</td>\n",
       "      <td>2.0</td>\n",
       "      <td>0.0</td>\n",
       "      <td>...</td>\n",
       "      <td>2.0</td>\n",
       "      <td>99</td>\n",
       "      <td>99</td>\n",
       "      <td>99</td>\n",
       "      <td>2.0</td>\n",
       "      <td>3.0</td>\n",
       "      <td>NaN</td>\n",
       "      <td>NaN</td>\n",
       "      <td>NaN</td>\n",
       "      <td>0</td>\n",
       "    </tr>\n",
       "  </tbody>\n",
       "</table>\n",
       "<p>20136 rows × 53 columns</p>\n",
       "</div>"
      ],
      "text/plain": [
       "       stud_id  diff1  diff2  diff3  diff4  diff5  diff6  diff7  diff8  diff9  \\\n",
       "0            2    0.0    1.0    2.0    0.0    1.0    1.0    1.0    1.0    1.0   \n",
       "1            3    0.0    0.0    2.0    1.0    2.0    1.0    NaN    NaN    0.0   \n",
       "2            4    0.0    1.0    2.0    1.0    0.0    0.0    3.0    2.0    1.0   \n",
       "3           10    0.0    NaN    1.0    1.0    0.0    0.0    0.0    0.0    0.0   \n",
       "4           12    1.0    1.0    0.0    0.0    0.0    0.0    1.0    0.0    1.0   \n",
       "...        ...    ...    ...    ...    ...    ...    ...    ...    ...    ...   \n",
       "20131    50128    1.0    1.0    2.0    2.0    1.0    0.0    0.0    1.0    0.0   \n",
       "20132    50131    1.0    0.0    0.0    2.0    1.0    0.0    1.0    2.0    0.0   \n",
       "20133    50132    3.0    1.0    1.0    1.0    0.0    0.0    1.0    1.0    1.0   \n",
       "20134    50134    2.0    0.0    3.0    2.0    1.0    0.0    0.0    1.0    0.0   \n",
       "20135    50135    2.0    3.0    1.0    1.0    1.0    0.0    1.0    2.0    0.0   \n",
       "\n",
       "       ...  w3p513  w3p528  w3p531  w3p534  w3p601  w3p602  cp19v66  \\\n",
       "0      ...     3.0                             1.0     3.0      9.0   \n",
       "1      ...     2.0                             2.0     5.0     96.0   \n",
       "2      ...     1.0                             1.0     6.0     17.0   \n",
       "3      ...     2.0                             1.0     4.0     96.0   \n",
       "4      ...     2.0                             2.0     4.0     96.0   \n",
       "...    ...     ...     ...     ...     ...     ...     ...      ...   \n",
       "20131  ...     3.0       3       1       2     1.0     3.0      NaN   \n",
       "20132  ...     2.0       1       1       2     2.0     1.0      NaN   \n",
       "20133  ...     2.0       1       2       2     1.0     4.0      NaN   \n",
       "20134  ...     2.0       1       1       2     2.0     5.0      NaN   \n",
       "20135  ...     2.0      99      99      99     2.0     3.0      NaN   \n",
       "\n",
       "       cp19v66_k  cp19v78_x  cp  \n",
       "0                       5.0   1  \n",
       "1                      96.0   1  \n",
       "2                      96.0   1  \n",
       "3                      96.0   1  \n",
       "4                      96.0   1  \n",
       "...          ...        ...  ..  \n",
       "20131        NaN        NaN   0  \n",
       "20132        NaN        NaN   0  \n",
       "20133        NaN        NaN   0  \n",
       "20134        NaN        NaN   0  \n",
       "20135        NaN        NaN   0  \n",
       "\n",
       "[20136 rows x 53 columns]"
      ]
     },
     "execution_count": 210,
     "metadata": {},
     "output_type": "execute_result"
    }
   ],
   "source": [
    "df = df.merge(df_stud[['stud_id', 'w3s303', 'w3s344', 'w3s478']], on='stud_id', how='outer')\n",
    "df = df.merge(df_par[['stud_id', 'w3p103', 'w3p104', 'w3p107', 'w3p108', 'w3p109', 'w3p110', \n",
    "                      'w3p205', 'w3p206', \n",
    "                      'w3p301', 'w3p302', 'w3p303', 'w3p307', 'w3p308', 'w3p312', 'w3p313', 'w3p315', \n",
    "                      'w3p502', 'w3p505', 'w3p513', 'w3p528', 'w3p531', 'w3p534', \n",
    "                      'w3p601', 'w3p602']], on='stud_id', how='outer')\n",
    "df = df.merge(df_future[['stud_id', 'cp19v66', 'cp19v66_k', 'cp19v78_x']], on='stud_id', how='outer')\n",
    "df['cp'] = [0 if x >= 30002 else 1 for x in df['stud_id']] # cp=1: 追蹤樣本\n",
    "df"
   ]
  },
  {
   "cell_type": "code",
   "execution_count": 211,
   "metadata": {},
   "outputs": [],
   "source": [
    "# # w3p602 您家裡平均每個月的總收入是多少？\n",
    "# df.loc[df['w3p602'] == 1.0, 'w3p602'] = 10000\n",
    "# df.loc[df['w3p602'] == 2.0, 'w3p602'] = 25000\n",
    "# df.loc[df['w3p602'] == 3.0, 'w3p602'] = 40000\n",
    "# df.loc[df['w3p602'] == 4.0, 'w3p602'] = 75000\n",
    "# df.loc[df['w3p602'] == 5.0, 'w3p602'] = 150000\n",
    "# df.loc[df['w3p602'] == 6.0, 'w3p602'] = 250000"
   ]
  },
  {
   "cell_type": "markdown",
   "metadata": {},
   "source": [
    "##### 變數們"
   ]
  },
  {
   "cell_type": "code",
   "execution_count": 212,
   "metadata": {},
   "outputs": [],
   "source": [
    "# 家長小孩之間的認知落差\n",
    "diff_columns = ['diff1', 'diff2', 'diff3', 'diff4', 'diff5', 'diff6', 'diff7', 'diff8', 'diff9', 'diff10', 'diff11', 'diff12']\n",
    "# 家庭背景\n",
    "# family_vars = ['w3s303', 'w3s344', 'w3p103', 'w3p104', 'w3p107', 'w3p108', 'w3p109', 'w3p110', 'w3p601', 'w3p602']\n",
    "family_vars = ['w3s344', 'w3p103', 'w3p104', 'w3p107', 'w3p602']\n",
    "all_vars = family_vars + ['diff_avg']\n",
    "\n",
    "# 家長主動程度\n",
    "act_vars = ['w3p312', 'w3p313', 'w3p502', 'w3p505'] \n",
    "happy = ['w3s478'] # 小孩快樂嗎?\n",
    "total_vars = act_vars + ['diff_avg'] + happy\n",
    "\n",
    "# 教養腳本\n",
    "blue_vars = ['w3p104', 'w3p602', 'w3p205', 'w3p206', 'w3p301', 'w3p302' ,'stud_id', 'diff_avg',\n",
    "             'w3p303', 'w3p307', 'w3p308', 'w3p315', 'w3p513', 'w3p528', 'w3p531', 'w3p534', 'w3s478']"
   ]
  },
  {
   "cell_type": "code",
   "execution_count": null,
   "metadata": {},
   "outputs": [],
   "source": [
    "m = df.cp==1\n",
    "old_df=df[m] # 追蹤樣本\n",
    "new_df=df[~m] # 新樣本\n",
    "\n",
    "# old_df = old_df.drop(old_df.columns[[13, 14, 15, 16, 17, 18, 19, 20, 21, 22]], axis=1)\n",
    "old_df['stud_id'] = old_df['stud_id'].astype(str)\n",
    "old_df['diff_avg'] = old_df[diff_columns].mean(axis=1).round(4)\n",
    "\n",
    "new_df['stud_id'] = new_df['stud_id'].astype(str)\n",
    "new_df['diff_avg'] = new_df[diff_columns].mean(axis=1).round(4)"
   ]
  },
  {
   "cell_type": "markdown",
   "metadata": {},
   "source": [
    "#### 藍佩嘉: 階級教養腳本"
   ]
  },
  {
   "cell_type": "code",
   "execution_count": 214,
   "metadata": {},
   "outputs": [
    {
     "data": {
      "application/vnd.plotly.v1+json": {
       "config": {
        "plotlyServerURL": "https://plot.ly"
       },
       "data": [
        {
         "hovertemplate": "Education Level=%{x}<br>家庭平均每個月的總收入=%{y}<br>count=%{marker.size}<extra></extra>",
         "legendgroup": "",
         "marker": {
          "color": "#636efa",
          "size": [
           631,
           985,
           1653,
           899,
           140,
           26,
           109,
           234,
           576,
           609,
           109,
           36,
           280,
           667,
           1983,
           2054,
           344,
           77,
           57,
           126,
           504,
           1092,
           415,
           65,
           31,
           36,
           156,
           546,
           433,
           97,
           2,
           4,
           19,
           80,
           123,
           25
          ],
          "sizemode": "area",
          "sizeref": 0.5705555555555556,
          "symbol": "circle"
         },
         "mode": "markers",
         "name": "",
         "orientation": "v",
         "showlegend": false,
         "type": "scatter",
         "x": [
          "國中或以下",
          "國中或以下",
          "國中或以下",
          "國中或以下",
          "國中或以下",
          "國中或以下",
          "高中",
          "高中",
          "高中",
          "高中",
          "高中",
          "高中",
          "高職",
          "高職",
          "高職",
          "高職",
          "高職",
          "高職",
          "專科或科大",
          "專科或科大",
          "專科或科大",
          "專科或科大",
          "專科或科大",
          "專科或科大",
          "一般大學",
          "一般大學",
          "一般大學",
          "一般大學",
          "一般大學",
          "一般大學",
          "研究所",
          "研究所",
          "研究所",
          "研究所",
          "研究所",
          "研究所"
         ],
         "xaxis": "x",
         "y": [
          "2萬以下",
          "2~3萬",
          "3~5萬",
          "5~10萬",
          "10~20萬",
          "20萬以上",
          "2萬以下",
          "2~3萬",
          "3~5萬",
          "5~10萬",
          "10~20萬",
          "20萬以上",
          "2萬以下",
          "2~3萬",
          "3~5萬",
          "5~10萬",
          "10~20萬",
          "20萬以上",
          "2萬以下",
          "2~3萬",
          "3~5萬",
          "5~10萬",
          "10~20萬",
          "20萬以上",
          "2萬以下",
          "2~3萬",
          "3~5萬",
          "5~10萬",
          "10~20萬",
          "20萬以上",
          "2萬以下",
          "2~3萬",
          "3~5萬",
          "5~10萬",
          "10~20萬",
          "20萬以上"
         ],
         "yaxis": "y"
        }
       ],
       "layout": {
        "legend": {
         "itemsizing": "constant",
         "tracegroupgap": 0
        },
        "template": {
         "data": {
          "bar": [
           {
            "error_x": {
             "color": "#2a3f5f"
            },
            "error_y": {
             "color": "#2a3f5f"
            },
            "marker": {
             "line": {
              "color": "white",
              "width": 0.5
             },
             "pattern": {
              "fillmode": "overlay",
              "size": 10,
              "solidity": 0.2
             }
            },
            "type": "bar"
           }
          ],
          "barpolar": [
           {
            "marker": {
             "line": {
              "color": "white",
              "width": 0.5
             },
             "pattern": {
              "fillmode": "overlay",
              "size": 10,
              "solidity": 0.2
             }
            },
            "type": "barpolar"
           }
          ],
          "carpet": [
           {
            "aaxis": {
             "endlinecolor": "#2a3f5f",
             "gridcolor": "#C8D4E3",
             "linecolor": "#C8D4E3",
             "minorgridcolor": "#C8D4E3",
             "startlinecolor": "#2a3f5f"
            },
            "baxis": {
             "endlinecolor": "#2a3f5f",
             "gridcolor": "#C8D4E3",
             "linecolor": "#C8D4E3",
             "minorgridcolor": "#C8D4E3",
             "startlinecolor": "#2a3f5f"
            },
            "type": "carpet"
           }
          ],
          "choropleth": [
           {
            "colorbar": {
             "outlinewidth": 0,
             "ticks": ""
            },
            "type": "choropleth"
           }
          ],
          "contour": [
           {
            "colorbar": {
             "outlinewidth": 0,
             "ticks": ""
            },
            "colorscale": [
             [
              0,
              "#0d0887"
             ],
             [
              0.1111111111111111,
              "#46039f"
             ],
             [
              0.2222222222222222,
              "#7201a8"
             ],
             [
              0.3333333333333333,
              "#9c179e"
             ],
             [
              0.4444444444444444,
              "#bd3786"
             ],
             [
              0.5555555555555556,
              "#d8576b"
             ],
             [
              0.6666666666666666,
              "#ed7953"
             ],
             [
              0.7777777777777778,
              "#fb9f3a"
             ],
             [
              0.8888888888888888,
              "#fdca26"
             ],
             [
              1,
              "#f0f921"
             ]
            ],
            "type": "contour"
           }
          ],
          "contourcarpet": [
           {
            "colorbar": {
             "outlinewidth": 0,
             "ticks": ""
            },
            "type": "contourcarpet"
           }
          ],
          "heatmap": [
           {
            "colorbar": {
             "outlinewidth": 0,
             "ticks": ""
            },
            "colorscale": [
             [
              0,
              "#0d0887"
             ],
             [
              0.1111111111111111,
              "#46039f"
             ],
             [
              0.2222222222222222,
              "#7201a8"
             ],
             [
              0.3333333333333333,
              "#9c179e"
             ],
             [
              0.4444444444444444,
              "#bd3786"
             ],
             [
              0.5555555555555556,
              "#d8576b"
             ],
             [
              0.6666666666666666,
              "#ed7953"
             ],
             [
              0.7777777777777778,
              "#fb9f3a"
             ],
             [
              0.8888888888888888,
              "#fdca26"
             ],
             [
              1,
              "#f0f921"
             ]
            ],
            "type": "heatmap"
           }
          ],
          "heatmapgl": [
           {
            "colorbar": {
             "outlinewidth": 0,
             "ticks": ""
            },
            "colorscale": [
             [
              0,
              "#0d0887"
             ],
             [
              0.1111111111111111,
              "#46039f"
             ],
             [
              0.2222222222222222,
              "#7201a8"
             ],
             [
              0.3333333333333333,
              "#9c179e"
             ],
             [
              0.4444444444444444,
              "#bd3786"
             ],
             [
              0.5555555555555556,
              "#d8576b"
             ],
             [
              0.6666666666666666,
              "#ed7953"
             ],
             [
              0.7777777777777778,
              "#fb9f3a"
             ],
             [
              0.8888888888888888,
              "#fdca26"
             ],
             [
              1,
              "#f0f921"
             ]
            ],
            "type": "heatmapgl"
           }
          ],
          "histogram": [
           {
            "marker": {
             "pattern": {
              "fillmode": "overlay",
              "size": 10,
              "solidity": 0.2
             }
            },
            "type": "histogram"
           }
          ],
          "histogram2d": [
           {
            "colorbar": {
             "outlinewidth": 0,
             "ticks": ""
            },
            "colorscale": [
             [
              0,
              "#0d0887"
             ],
             [
              0.1111111111111111,
              "#46039f"
             ],
             [
              0.2222222222222222,
              "#7201a8"
             ],
             [
              0.3333333333333333,
              "#9c179e"
             ],
             [
              0.4444444444444444,
              "#bd3786"
             ],
             [
              0.5555555555555556,
              "#d8576b"
             ],
             [
              0.6666666666666666,
              "#ed7953"
             ],
             [
              0.7777777777777778,
              "#fb9f3a"
             ],
             [
              0.8888888888888888,
              "#fdca26"
             ],
             [
              1,
              "#f0f921"
             ]
            ],
            "type": "histogram2d"
           }
          ],
          "histogram2dcontour": [
           {
            "colorbar": {
             "outlinewidth": 0,
             "ticks": ""
            },
            "colorscale": [
             [
              0,
              "#0d0887"
             ],
             [
              0.1111111111111111,
              "#46039f"
             ],
             [
              0.2222222222222222,
              "#7201a8"
             ],
             [
              0.3333333333333333,
              "#9c179e"
             ],
             [
              0.4444444444444444,
              "#bd3786"
             ],
             [
              0.5555555555555556,
              "#d8576b"
             ],
             [
              0.6666666666666666,
              "#ed7953"
             ],
             [
              0.7777777777777778,
              "#fb9f3a"
             ],
             [
              0.8888888888888888,
              "#fdca26"
             ],
             [
              1,
              "#f0f921"
             ]
            ],
            "type": "histogram2dcontour"
           }
          ],
          "mesh3d": [
           {
            "colorbar": {
             "outlinewidth": 0,
             "ticks": ""
            },
            "type": "mesh3d"
           }
          ],
          "parcoords": [
           {
            "line": {
             "colorbar": {
              "outlinewidth": 0,
              "ticks": ""
             }
            },
            "type": "parcoords"
           }
          ],
          "pie": [
           {
            "automargin": true,
            "type": "pie"
           }
          ],
          "scatter": [
           {
            "fillpattern": {
             "fillmode": "overlay",
             "size": 10,
             "solidity": 0.2
            },
            "type": "scatter"
           }
          ],
          "scatter3d": [
           {
            "line": {
             "colorbar": {
              "outlinewidth": 0,
              "ticks": ""
             }
            },
            "marker": {
             "colorbar": {
              "outlinewidth": 0,
              "ticks": ""
             }
            },
            "type": "scatter3d"
           }
          ],
          "scattercarpet": [
           {
            "marker": {
             "colorbar": {
              "outlinewidth": 0,
              "ticks": ""
             }
            },
            "type": "scattercarpet"
           }
          ],
          "scattergeo": [
           {
            "marker": {
             "colorbar": {
              "outlinewidth": 0,
              "ticks": ""
             }
            },
            "type": "scattergeo"
           }
          ],
          "scattergl": [
           {
            "marker": {
             "colorbar": {
              "outlinewidth": 0,
              "ticks": ""
             }
            },
            "type": "scattergl"
           }
          ],
          "scattermapbox": [
           {
            "marker": {
             "colorbar": {
              "outlinewidth": 0,
              "ticks": ""
             }
            },
            "type": "scattermapbox"
           }
          ],
          "scatterpolar": [
           {
            "marker": {
             "colorbar": {
              "outlinewidth": 0,
              "ticks": ""
             }
            },
            "type": "scatterpolar"
           }
          ],
          "scatterpolargl": [
           {
            "marker": {
             "colorbar": {
              "outlinewidth": 0,
              "ticks": ""
             }
            },
            "type": "scatterpolargl"
           }
          ],
          "scatterternary": [
           {
            "marker": {
             "colorbar": {
              "outlinewidth": 0,
              "ticks": ""
             }
            },
            "type": "scatterternary"
           }
          ],
          "surface": [
           {
            "colorbar": {
             "outlinewidth": 0,
             "ticks": ""
            },
            "colorscale": [
             [
              0,
              "#0d0887"
             ],
             [
              0.1111111111111111,
              "#46039f"
             ],
             [
              0.2222222222222222,
              "#7201a8"
             ],
             [
              0.3333333333333333,
              "#9c179e"
             ],
             [
              0.4444444444444444,
              "#bd3786"
             ],
             [
              0.5555555555555556,
              "#d8576b"
             ],
             [
              0.6666666666666666,
              "#ed7953"
             ],
             [
              0.7777777777777778,
              "#fb9f3a"
             ],
             [
              0.8888888888888888,
              "#fdca26"
             ],
             [
              1,
              "#f0f921"
             ]
            ],
            "type": "surface"
           }
          ],
          "table": [
           {
            "cells": {
             "fill": {
              "color": "#EBF0F8"
             },
             "line": {
              "color": "white"
             }
            },
            "header": {
             "fill": {
              "color": "#C8D4E3"
             },
             "line": {
              "color": "white"
             }
            },
            "type": "table"
           }
          ]
         },
         "layout": {
          "annotationdefaults": {
           "arrowcolor": "#2a3f5f",
           "arrowhead": 0,
           "arrowwidth": 1
          },
          "autotypenumbers": "strict",
          "coloraxis": {
           "colorbar": {
            "outlinewidth": 0,
            "ticks": ""
           }
          },
          "colorscale": {
           "diverging": [
            [
             0,
             "#8e0152"
            ],
            [
             0.1,
             "#c51b7d"
            ],
            [
             0.2,
             "#de77ae"
            ],
            [
             0.3,
             "#f1b6da"
            ],
            [
             0.4,
             "#fde0ef"
            ],
            [
             0.5,
             "#f7f7f7"
            ],
            [
             0.6,
             "#e6f5d0"
            ],
            [
             0.7,
             "#b8e186"
            ],
            [
             0.8,
             "#7fbc41"
            ],
            [
             0.9,
             "#4d9221"
            ],
            [
             1,
             "#276419"
            ]
           ],
           "sequential": [
            [
             0,
             "#0d0887"
            ],
            [
             0.1111111111111111,
             "#46039f"
            ],
            [
             0.2222222222222222,
             "#7201a8"
            ],
            [
             0.3333333333333333,
             "#9c179e"
            ],
            [
             0.4444444444444444,
             "#bd3786"
            ],
            [
             0.5555555555555556,
             "#d8576b"
            ],
            [
             0.6666666666666666,
             "#ed7953"
            ],
            [
             0.7777777777777778,
             "#fb9f3a"
            ],
            [
             0.8888888888888888,
             "#fdca26"
            ],
            [
             1,
             "#f0f921"
            ]
           ],
           "sequentialminus": [
            [
             0,
             "#0d0887"
            ],
            [
             0.1111111111111111,
             "#46039f"
            ],
            [
             0.2222222222222222,
             "#7201a8"
            ],
            [
             0.3333333333333333,
             "#9c179e"
            ],
            [
             0.4444444444444444,
             "#bd3786"
            ],
            [
             0.5555555555555556,
             "#d8576b"
            ],
            [
             0.6666666666666666,
             "#ed7953"
            ],
            [
             0.7777777777777778,
             "#fb9f3a"
            ],
            [
             0.8888888888888888,
             "#fdca26"
            ],
            [
             1,
             "#f0f921"
            ]
           ]
          },
          "colorway": [
           "#636efa",
           "#EF553B",
           "#00cc96",
           "#ab63fa",
           "#FFA15A",
           "#19d3f3",
           "#FF6692",
           "#B6E880",
           "#FF97FF",
           "#FECB52"
          ],
          "font": {
           "color": "#2a3f5f"
          },
          "geo": {
           "bgcolor": "white",
           "lakecolor": "white",
           "landcolor": "white",
           "showlakes": true,
           "showland": true,
           "subunitcolor": "#C8D4E3"
          },
          "hoverlabel": {
           "align": "left"
          },
          "hovermode": "closest",
          "mapbox": {
           "style": "light"
          },
          "paper_bgcolor": "white",
          "plot_bgcolor": "white",
          "polar": {
           "angularaxis": {
            "gridcolor": "#EBF0F8",
            "linecolor": "#EBF0F8",
            "ticks": ""
           },
           "bgcolor": "white",
           "radialaxis": {
            "gridcolor": "#EBF0F8",
            "linecolor": "#EBF0F8",
            "ticks": ""
           }
          },
          "scene": {
           "xaxis": {
            "backgroundcolor": "white",
            "gridcolor": "#DFE8F3",
            "gridwidth": 2,
            "linecolor": "#EBF0F8",
            "showbackground": true,
            "ticks": "",
            "zerolinecolor": "#EBF0F8"
           },
           "yaxis": {
            "backgroundcolor": "white",
            "gridcolor": "#DFE8F3",
            "gridwidth": 2,
            "linecolor": "#EBF0F8",
            "showbackground": true,
            "ticks": "",
            "zerolinecolor": "#EBF0F8"
           },
           "zaxis": {
            "backgroundcolor": "white",
            "gridcolor": "#DFE8F3",
            "gridwidth": 2,
            "linecolor": "#EBF0F8",
            "showbackground": true,
            "ticks": "",
            "zerolinecolor": "#EBF0F8"
           }
          },
          "shapedefaults": {
           "line": {
            "color": "#2a3f5f"
           }
          },
          "ternary": {
           "aaxis": {
            "gridcolor": "#DFE8F3",
            "linecolor": "#A2B1C6",
            "ticks": ""
           },
           "baxis": {
            "gridcolor": "#DFE8F3",
            "linecolor": "#A2B1C6",
            "ticks": ""
           },
           "bgcolor": "white",
           "caxis": {
            "gridcolor": "#DFE8F3",
            "linecolor": "#A2B1C6",
            "ticks": ""
           }
          },
          "title": {
           "x": 0.05
          },
          "xaxis": {
           "automargin": true,
           "gridcolor": "#EBF0F8",
           "linecolor": "#EBF0F8",
           "ticks": "",
           "title": {
            "standoff": 15
           },
           "zerolinecolor": "#EBF0F8",
           "zerolinewidth": 2
          },
          "yaxis": {
           "automargin": true,
           "gridcolor": "#EBF0F8",
           "linecolor": "#EBF0F8",
           "ticks": "",
           "title": {
            "standoff": 15
           },
           "zerolinecolor": "#EBF0F8",
           "zerolinewidth": 2
          }
         }
        },
        "title": {
         "text": "Scatter Plot of Education Level vs Income Level by stud_id"
        },
        "xaxis": {
         "anchor": "y",
         "domain": [
          0,
          1
         ],
         "title": {
          "text": "Education Level"
         }
        },
        "yaxis": {
         "anchor": "x",
         "domain": [
          0,
          1
         ],
         "title": {
          "text": "家庭平均每個月的總收入"
         }
        }
       }
      }
     },
     "metadata": {},
     "output_type": "display_data"
    }
   ],
   "source": [
    "df_blue = new_df[blue_vars].copy()\n",
    "\n",
    "education_level_mapping = {1: '國中或以下', 2: '高中', 3: '高職', 4: '專科或科大', 5: '一般大學', 6: '研究所'}\n",
    "income_level_mapping = {1: '2萬以下', 2: '2~3萬', 3: '3~5萬', 4: '5~10萬', 5: '10~20萬', 6: '20萬以上'}\n",
    "df_blue['w3p104_label'] = df_blue['w3p104'].map(education_level_mapping)\n",
    "df_blue['w3p602_label'] = df_blue['w3p602'].map(income_level_mapping)\n",
    "\n",
    "# Convert the columns to categorical data types with the correct order\n",
    "education_order = ['國中或以下', '高中', '高職', '專科或科大', '一般大學', '研究所']\n",
    "income_order = ['2萬以下', '2~3萬', '3~5萬', '5~10萬', '10~20萬', '20萬以上']\n",
    "\n",
    "df_blue['w3p104_label'] = pd.Categorical(df_blue['w3p104_label'], categories=education_order, ordered=True)\n",
    "df_blue['w3p602_label'] = pd.Categorical(df_blue['w3p602_label'], categories=income_order, ordered=True)\n",
    "\n",
    "# Aggregate the data to count occurrences of each combination\n",
    "agg_df = df_blue.groupby(['w3p104_label', 'w3p602_label']).size().reset_index(name='count')\n",
    "\n",
    "# Plot using Plotly Express\n",
    "fig = px.scatter(\n",
    "    agg_df,\n",
    "    x='w3p104_label',\n",
    "    y='w3p602_label',\n",
    "    size='count',\n",
    "    size_max=60,\n",
    "    title='Scatter Plot of Education Level vs Income Level by stud_id',\n",
    "    labels={'w3p104_label': 'Education Level', 'w3p602_label': '家庭平均每個月的總收入'},\n",
    "    template='plotly_white'\n",
    ")\n",
    "\n",
    "# Show the plot\n",
    "fig.show()"
   ]
  },
  {
   "cell_type": "markdown",
   "metadata": {},
   "source": [
    "##### 四個組別顯形!"
   ]
  },
  {
   "cell_type": "code",
   "execution_count": 215,
   "metadata": {},
   "outputs": [
    {
     "name": "stdout",
     "output_type": "stream",
     "text": [
      "Low Edu Low Income      7118\n",
      "Low Edu High Income     4388\n",
      "High Edu High Income    2908\n",
      "High Edu Low Income      939\n",
      "Other                    522\n",
      "Name: family_type, dtype: int64\n"
     ]
    }
   ],
   "source": [
    "# Define family types based on education and income levels\n",
    "def classify_family_type(row):\n",
    "    if row['w3p104'] >= 4 and row['w3p602'] >= 4:\n",
    "        return 'High Edu High Income'\n",
    "    elif row['w3p104'] >= 4 and row['w3p602'] < 4:\n",
    "        return 'High Edu Low Income'\n",
    "    elif row['w3p104'] < 4 and row['w3p602'] < 4:\n",
    "        return 'Low Edu Low Income'\n",
    "    elif row['w3p104'] < 4 and row['w3p602'] >= 4:\n",
    "        return 'Low Edu High Income'\n",
    "    else:\n",
    "        return 'Other'\n",
    "\n",
    "# Apply the classification\n",
    "df_blue['family_type'] = df_blue.apply(classify_family_type, axis=1)\n",
    "print(df_blue['family_type'].value_counts())\n",
    "df_blue_cleaned = df_blue.dropna(subset=blue_vars + ['family_type'])"
   ]
  },
  {
   "cell_type": "code",
   "execution_count": 216,
   "metadata": {},
   "outputs": [
    {
     "name": "stdout",
     "output_type": "stream",
     "text": [
      "           F-value  P-value\n",
      "w3p104    977.3867   0.0000\n",
      "w3p602    218.6297   0.0000\n",
      "w3p205     89.9449   0.0000\n",
      "w3p531     33.2500   0.0000\n",
      "w3p301     27.0581   0.0000\n",
      "w3p302     25.6279   0.0000\n",
      "w3p206     14.0315   0.0000\n",
      "w3p534     13.2901   0.0000\n",
      "w3p528      8.2129   0.0000\n",
      "w3p308      7.2708   0.0001\n",
      "w3p303      6.5280   0.0002\n",
      "w3p307      4.2465   0.0052\n",
      "diff_avg    1.5970   0.1878\n",
      "w3s478      1.3011   0.2722\n",
      "w3p513      1.1198   0.3395\n",
      "w3p315      0.7520   0.5210\n",
      "stud_id     0.7149   0.5430\n"
     ]
    }
   ],
   "source": [
    "anova_results = {}\n",
    "for var in blue_vars:\n",
    "    grouped_data = [group[var].dropna() for name, group in df_blue_cleaned.groupby('family_type')]\n",
    "    f_val, p_val = f_oneway(*grouped_data)\n",
    "    anova_results[var] = {'F-value': f_val, 'P-value': p_val}\n",
    "\n",
    "# Display the results\n",
    "anova_df = pd.DataFrame(anova_results).T\n",
    "anova_df = anova_df.sort_values(by='P-value')\n",
    "print(anova_df.round(4))"
   ]
  },
  {
   "cell_type": "code",
   "execution_count": 217,
   "metadata": {},
   "outputs": [],
   "source": [
    "# cram_level_mapping = {1: '沒有補習', 2: '1千元以下', 3: '1~2千元', 4: '2~3千元', 5: '3~4千元', 6: '4千元以上'}\n",
    "# df_blue['w3p205_label'] = df_blue['w3p205'].map(cram_level_mapping)\n",
    "# cram_order = ['沒有補習', '1千元以下', '1~2千元', '2~3千元', '3~4千元', '4千元以上']\n",
    "# df_blue['w3p205_label'] = pd.Categorical(df_blue['w3p205_label'], categories=cram_order, ordered=True)\n",
    "cram_level_mapping = {1: '沒有補習', 2: '有補習', 3: '有補習', 4: '有補習', 5: '有補習', 6: '有補習'}\n",
    "df_blue['w3p205_label'] = df_blue['w3p205'].map(cram_level_mapping)\n",
    "cram_order = ['沒有補習', '有補習']\n",
    "df_blue['w3p205_label'] = pd.Categorical(df_blue['w3p205_label'], categories=cram_order, ordered=True)\n",
    "\n",
    "art_level_mapping = {1: '沒有才藝班', 2: '有才藝班', 3: '有才藝班', 4: '有才藝班', 5: '有才藝班', 6: '有才藝班'}\n",
    "df_blue['w3p206_label'] = df_blue['w3p206'].map(art_level_mapping)\n",
    "art_order = ['沒有才藝班', '有才藝班']\n",
    "df_blue['w3p206_label'] = pd.Categorical(df_blue['w3p206_label'], categories=art_order, ordered=True)\n",
    "\n",
    "happy_level_mapping = {1: '非常快樂', 2: '還算快樂', 3: '不太快樂', 4: '非常不快樂'}\n",
    "df_blue['w3s478_label'] = df_blue['w3s478'].map(happy_level_mapping)\n",
    "happy_order = ['非常不快樂', '不太快樂', '還算快樂', '非常快樂']\n",
    "df_blue['w3s478_label'] = pd.Categorical(df_blue['w3s478_label'], categories=happy_order, ordered=True)"
   ]
  },
  {
   "cell_type": "code",
   "execution_count": 218,
   "metadata": {},
   "outputs": [
    {
     "data": {
      "application/vnd.plotly.v1+json": {
       "config": {
        "plotlyServerURL": "https://plot.ly"
       },
       "data": [
        {
         "hovertemplate": "w3p206_label=沒有才藝班<br>家長教育程度=%{x}<br>家庭總收入(每月平均)=%{y}<br>count=%{marker.size}<extra></extra>",
         "legendgroup": "沒有才藝班",
         "marker": {
          "color": "#636efa",
          "size": [
           592,
           913,
           1537,
           814,
           123,
           22,
           91,
           209,
           502,
           527,
           88,
           29,
           251,
           603,
           1790,
           1754,
           292,
           59,
           48,
           112,
           439,
           897,
           326,
           46,
           26,
           29,
           138,
           435,
           345,
           71,
           1,
           4,
           15,
           62,
           87,
           19
          ],
          "sizemode": "area",
          "sizeref": 0.49722222222222223,
          "symbol": "circle"
         },
         "mode": "markers",
         "name": "沒有才藝班",
         "orientation": "v",
         "showlegend": true,
         "type": "scatter",
         "x": [
          "國中或以下",
          "國中或以下",
          "國中或以下",
          "國中或以下",
          "國中或以下",
          "國中或以下",
          "高中",
          "高中",
          "高中",
          "高中",
          "高中",
          "高中",
          "高職",
          "高職",
          "高職",
          "高職",
          "高職",
          "高職",
          "專科或科大",
          "專科或科大",
          "專科或科大",
          "專科或科大",
          "專科或科大",
          "專科或科大",
          "一般大學",
          "一般大學",
          "一般大學",
          "一般大學",
          "一般大學",
          "一般大學",
          "研究所",
          "研究所",
          "研究所",
          "研究所",
          "研究所",
          "研究所"
         ],
         "xaxis": "x",
         "y": [
          "2萬以下",
          "2~3萬",
          "3~5萬",
          "5~10萬",
          "10~20萬",
          "20萬以上",
          "2萬以下",
          "2~3萬",
          "3~5萬",
          "5~10萬",
          "10~20萬",
          "20萬以上",
          "2萬以下",
          "2~3萬",
          "3~5萬",
          "5~10萬",
          "10~20萬",
          "20萬以上",
          "2萬以下",
          "2~3萬",
          "3~5萬",
          "5~10萬",
          "10~20萬",
          "20萬以上",
          "2萬以下",
          "2~3萬",
          "3~5萬",
          "5~10萬",
          "10~20萬",
          "20萬以上",
          "2萬以下",
          "2~3萬",
          "3~5萬",
          "5~10萬",
          "10~20萬",
          "20萬以上"
         ],
         "yaxis": "y"
        },
        {
         "hovertemplate": "w3p206_label=有才藝班<br>家長教育程度=%{x}<br>家庭總收入(每月平均)=%{y}<br>count=%{marker.size}<extra></extra>",
         "legendgroup": "有才藝班",
         "marker": {
          "color": "#EF553B",
          "size": [
           38,
           71,
           116,
           84,
           17,
           4,
           18,
           25,
           73,
           82,
           21,
           7,
           27,
           64,
           192,
           298,
           52,
           18,
           9,
           14,
           63,
           193,
           89,
           19,
           5,
           7,
           18,
           111,
           88,
           26,
           1,
           0,
           4,
           18,
           36,
           6
          ],
          "sizemode": "area",
          "sizeref": 0.49722222222222223,
          "symbol": "circle"
         },
         "mode": "markers",
         "name": "有才藝班",
         "orientation": "v",
         "showlegend": true,
         "type": "scatter",
         "x": [
          "國中或以下",
          "國中或以下",
          "國中或以下",
          "國中或以下",
          "國中或以下",
          "國中或以下",
          "高中",
          "高中",
          "高中",
          "高中",
          "高中",
          "高中",
          "高職",
          "高職",
          "高職",
          "高職",
          "高職",
          "高職",
          "專科或科大",
          "專科或科大",
          "專科或科大",
          "專科或科大",
          "專科或科大",
          "專科或科大",
          "一般大學",
          "一般大學",
          "一般大學",
          "一般大學",
          "一般大學",
          "一般大學",
          "研究所",
          "研究所",
          "研究所",
          "研究所",
          "研究所",
          "研究所"
         ],
         "xaxis": "x",
         "y": [
          "2萬以下",
          "2~3萬",
          "3~5萬",
          "5~10萬",
          "10~20萬",
          "20萬以上",
          "2萬以下",
          "2~3萬",
          "3~5萬",
          "5~10萬",
          "10~20萬",
          "20萬以上",
          "2萬以下",
          "2~3萬",
          "3~5萬",
          "5~10萬",
          "10~20萬",
          "20萬以上",
          "2萬以下",
          "2~3萬",
          "3~5萬",
          "5~10萬",
          "10~20萬",
          "20萬以上",
          "2萬以下",
          "2~3萬",
          "3~5萬",
          "5~10萬",
          "10~20萬",
          "20萬以上",
          "2萬以下",
          "2~3萬",
          "3~5萬",
          "5~10萬",
          "10~20萬",
          "20萬以上"
         ],
         "yaxis": "y"
        }
       ],
       "layout": {
        "legend": {
         "itemsizing": "constant",
         "title": {
          "text": "w3p206_label"
         },
         "tracegroupgap": 0
        },
        "template": {
         "data": {
          "bar": [
           {
            "error_x": {
             "color": "#2a3f5f"
            },
            "error_y": {
             "color": "#2a3f5f"
            },
            "marker": {
             "line": {
              "color": "white",
              "width": 0.5
             },
             "pattern": {
              "fillmode": "overlay",
              "size": 10,
              "solidity": 0.2
             }
            },
            "type": "bar"
           }
          ],
          "barpolar": [
           {
            "marker": {
             "line": {
              "color": "white",
              "width": 0.5
             },
             "pattern": {
              "fillmode": "overlay",
              "size": 10,
              "solidity": 0.2
             }
            },
            "type": "barpolar"
           }
          ],
          "carpet": [
           {
            "aaxis": {
             "endlinecolor": "#2a3f5f",
             "gridcolor": "#C8D4E3",
             "linecolor": "#C8D4E3",
             "minorgridcolor": "#C8D4E3",
             "startlinecolor": "#2a3f5f"
            },
            "baxis": {
             "endlinecolor": "#2a3f5f",
             "gridcolor": "#C8D4E3",
             "linecolor": "#C8D4E3",
             "minorgridcolor": "#C8D4E3",
             "startlinecolor": "#2a3f5f"
            },
            "type": "carpet"
           }
          ],
          "choropleth": [
           {
            "colorbar": {
             "outlinewidth": 0,
             "ticks": ""
            },
            "type": "choropleth"
           }
          ],
          "contour": [
           {
            "colorbar": {
             "outlinewidth": 0,
             "ticks": ""
            },
            "colorscale": [
             [
              0,
              "#0d0887"
             ],
             [
              0.1111111111111111,
              "#46039f"
             ],
             [
              0.2222222222222222,
              "#7201a8"
             ],
             [
              0.3333333333333333,
              "#9c179e"
             ],
             [
              0.4444444444444444,
              "#bd3786"
             ],
             [
              0.5555555555555556,
              "#d8576b"
             ],
             [
              0.6666666666666666,
              "#ed7953"
             ],
             [
              0.7777777777777778,
              "#fb9f3a"
             ],
             [
              0.8888888888888888,
              "#fdca26"
             ],
             [
              1,
              "#f0f921"
             ]
            ],
            "type": "contour"
           }
          ],
          "contourcarpet": [
           {
            "colorbar": {
             "outlinewidth": 0,
             "ticks": ""
            },
            "type": "contourcarpet"
           }
          ],
          "heatmap": [
           {
            "colorbar": {
             "outlinewidth": 0,
             "ticks": ""
            },
            "colorscale": [
             [
              0,
              "#0d0887"
             ],
             [
              0.1111111111111111,
              "#46039f"
             ],
             [
              0.2222222222222222,
              "#7201a8"
             ],
             [
              0.3333333333333333,
              "#9c179e"
             ],
             [
              0.4444444444444444,
              "#bd3786"
             ],
             [
              0.5555555555555556,
              "#d8576b"
             ],
             [
              0.6666666666666666,
              "#ed7953"
             ],
             [
              0.7777777777777778,
              "#fb9f3a"
             ],
             [
              0.8888888888888888,
              "#fdca26"
             ],
             [
              1,
              "#f0f921"
             ]
            ],
            "type": "heatmap"
           }
          ],
          "heatmapgl": [
           {
            "colorbar": {
             "outlinewidth": 0,
             "ticks": ""
            },
            "colorscale": [
             [
              0,
              "#0d0887"
             ],
             [
              0.1111111111111111,
              "#46039f"
             ],
             [
              0.2222222222222222,
              "#7201a8"
             ],
             [
              0.3333333333333333,
              "#9c179e"
             ],
             [
              0.4444444444444444,
              "#bd3786"
             ],
             [
              0.5555555555555556,
              "#d8576b"
             ],
             [
              0.6666666666666666,
              "#ed7953"
             ],
             [
              0.7777777777777778,
              "#fb9f3a"
             ],
             [
              0.8888888888888888,
              "#fdca26"
             ],
             [
              1,
              "#f0f921"
             ]
            ],
            "type": "heatmapgl"
           }
          ],
          "histogram": [
           {
            "marker": {
             "pattern": {
              "fillmode": "overlay",
              "size": 10,
              "solidity": 0.2
             }
            },
            "type": "histogram"
           }
          ],
          "histogram2d": [
           {
            "colorbar": {
             "outlinewidth": 0,
             "ticks": ""
            },
            "colorscale": [
             [
              0,
              "#0d0887"
             ],
             [
              0.1111111111111111,
              "#46039f"
             ],
             [
              0.2222222222222222,
              "#7201a8"
             ],
             [
              0.3333333333333333,
              "#9c179e"
             ],
             [
              0.4444444444444444,
              "#bd3786"
             ],
             [
              0.5555555555555556,
              "#d8576b"
             ],
             [
              0.6666666666666666,
              "#ed7953"
             ],
             [
              0.7777777777777778,
              "#fb9f3a"
             ],
             [
              0.8888888888888888,
              "#fdca26"
             ],
             [
              1,
              "#f0f921"
             ]
            ],
            "type": "histogram2d"
           }
          ],
          "histogram2dcontour": [
           {
            "colorbar": {
             "outlinewidth": 0,
             "ticks": ""
            },
            "colorscale": [
             [
              0,
              "#0d0887"
             ],
             [
              0.1111111111111111,
              "#46039f"
             ],
             [
              0.2222222222222222,
              "#7201a8"
             ],
             [
              0.3333333333333333,
              "#9c179e"
             ],
             [
              0.4444444444444444,
              "#bd3786"
             ],
             [
              0.5555555555555556,
              "#d8576b"
             ],
             [
              0.6666666666666666,
              "#ed7953"
             ],
             [
              0.7777777777777778,
              "#fb9f3a"
             ],
             [
              0.8888888888888888,
              "#fdca26"
             ],
             [
              1,
              "#f0f921"
             ]
            ],
            "type": "histogram2dcontour"
           }
          ],
          "mesh3d": [
           {
            "colorbar": {
             "outlinewidth": 0,
             "ticks": ""
            },
            "type": "mesh3d"
           }
          ],
          "parcoords": [
           {
            "line": {
             "colorbar": {
              "outlinewidth": 0,
              "ticks": ""
             }
            },
            "type": "parcoords"
           }
          ],
          "pie": [
           {
            "automargin": true,
            "type": "pie"
           }
          ],
          "scatter": [
           {
            "fillpattern": {
             "fillmode": "overlay",
             "size": 10,
             "solidity": 0.2
            },
            "type": "scatter"
           }
          ],
          "scatter3d": [
           {
            "line": {
             "colorbar": {
              "outlinewidth": 0,
              "ticks": ""
             }
            },
            "marker": {
             "colorbar": {
              "outlinewidth": 0,
              "ticks": ""
             }
            },
            "type": "scatter3d"
           }
          ],
          "scattercarpet": [
           {
            "marker": {
             "colorbar": {
              "outlinewidth": 0,
              "ticks": ""
             }
            },
            "type": "scattercarpet"
           }
          ],
          "scattergeo": [
           {
            "marker": {
             "colorbar": {
              "outlinewidth": 0,
              "ticks": ""
             }
            },
            "type": "scattergeo"
           }
          ],
          "scattergl": [
           {
            "marker": {
             "colorbar": {
              "outlinewidth": 0,
              "ticks": ""
             }
            },
            "type": "scattergl"
           }
          ],
          "scattermapbox": [
           {
            "marker": {
             "colorbar": {
              "outlinewidth": 0,
              "ticks": ""
             }
            },
            "type": "scattermapbox"
           }
          ],
          "scatterpolar": [
           {
            "marker": {
             "colorbar": {
              "outlinewidth": 0,
              "ticks": ""
             }
            },
            "type": "scatterpolar"
           }
          ],
          "scatterpolargl": [
           {
            "marker": {
             "colorbar": {
              "outlinewidth": 0,
              "ticks": ""
             }
            },
            "type": "scatterpolargl"
           }
          ],
          "scatterternary": [
           {
            "marker": {
             "colorbar": {
              "outlinewidth": 0,
              "ticks": ""
             }
            },
            "type": "scatterternary"
           }
          ],
          "surface": [
           {
            "colorbar": {
             "outlinewidth": 0,
             "ticks": ""
            },
            "colorscale": [
             [
              0,
              "#0d0887"
             ],
             [
              0.1111111111111111,
              "#46039f"
             ],
             [
              0.2222222222222222,
              "#7201a8"
             ],
             [
              0.3333333333333333,
              "#9c179e"
             ],
             [
              0.4444444444444444,
              "#bd3786"
             ],
             [
              0.5555555555555556,
              "#d8576b"
             ],
             [
              0.6666666666666666,
              "#ed7953"
             ],
             [
              0.7777777777777778,
              "#fb9f3a"
             ],
             [
              0.8888888888888888,
              "#fdca26"
             ],
             [
              1,
              "#f0f921"
             ]
            ],
            "type": "surface"
           }
          ],
          "table": [
           {
            "cells": {
             "fill": {
              "color": "#EBF0F8"
             },
             "line": {
              "color": "white"
             }
            },
            "header": {
             "fill": {
              "color": "#C8D4E3"
             },
             "line": {
              "color": "white"
             }
            },
            "type": "table"
           }
          ]
         },
         "layout": {
          "annotationdefaults": {
           "arrowcolor": "#2a3f5f",
           "arrowhead": 0,
           "arrowwidth": 1
          },
          "autotypenumbers": "strict",
          "coloraxis": {
           "colorbar": {
            "outlinewidth": 0,
            "ticks": ""
           }
          },
          "colorscale": {
           "diverging": [
            [
             0,
             "#8e0152"
            ],
            [
             0.1,
             "#c51b7d"
            ],
            [
             0.2,
             "#de77ae"
            ],
            [
             0.3,
             "#f1b6da"
            ],
            [
             0.4,
             "#fde0ef"
            ],
            [
             0.5,
             "#f7f7f7"
            ],
            [
             0.6,
             "#e6f5d0"
            ],
            [
             0.7,
             "#b8e186"
            ],
            [
             0.8,
             "#7fbc41"
            ],
            [
             0.9,
             "#4d9221"
            ],
            [
             1,
             "#276419"
            ]
           ],
           "sequential": [
            [
             0,
             "#0d0887"
            ],
            [
             0.1111111111111111,
             "#46039f"
            ],
            [
             0.2222222222222222,
             "#7201a8"
            ],
            [
             0.3333333333333333,
             "#9c179e"
            ],
            [
             0.4444444444444444,
             "#bd3786"
            ],
            [
             0.5555555555555556,
             "#d8576b"
            ],
            [
             0.6666666666666666,
             "#ed7953"
            ],
            [
             0.7777777777777778,
             "#fb9f3a"
            ],
            [
             0.8888888888888888,
             "#fdca26"
            ],
            [
             1,
             "#f0f921"
            ]
           ],
           "sequentialminus": [
            [
             0,
             "#0d0887"
            ],
            [
             0.1111111111111111,
             "#46039f"
            ],
            [
             0.2222222222222222,
             "#7201a8"
            ],
            [
             0.3333333333333333,
             "#9c179e"
            ],
            [
             0.4444444444444444,
             "#bd3786"
            ],
            [
             0.5555555555555556,
             "#d8576b"
            ],
            [
             0.6666666666666666,
             "#ed7953"
            ],
            [
             0.7777777777777778,
             "#fb9f3a"
            ],
            [
             0.8888888888888888,
             "#fdca26"
            ],
            [
             1,
             "#f0f921"
            ]
           ]
          },
          "colorway": [
           "#636efa",
           "#EF553B",
           "#00cc96",
           "#ab63fa",
           "#FFA15A",
           "#19d3f3",
           "#FF6692",
           "#B6E880",
           "#FF97FF",
           "#FECB52"
          ],
          "font": {
           "color": "#2a3f5f"
          },
          "geo": {
           "bgcolor": "white",
           "lakecolor": "white",
           "landcolor": "white",
           "showlakes": true,
           "showland": true,
           "subunitcolor": "#C8D4E3"
          },
          "hoverlabel": {
           "align": "left"
          },
          "hovermode": "closest",
          "mapbox": {
           "style": "light"
          },
          "paper_bgcolor": "white",
          "plot_bgcolor": "white",
          "polar": {
           "angularaxis": {
            "gridcolor": "#EBF0F8",
            "linecolor": "#EBF0F8",
            "ticks": ""
           },
           "bgcolor": "white",
           "radialaxis": {
            "gridcolor": "#EBF0F8",
            "linecolor": "#EBF0F8",
            "ticks": ""
           }
          },
          "scene": {
           "xaxis": {
            "backgroundcolor": "white",
            "gridcolor": "#DFE8F3",
            "gridwidth": 2,
            "linecolor": "#EBF0F8",
            "showbackground": true,
            "ticks": "",
            "zerolinecolor": "#EBF0F8"
           },
           "yaxis": {
            "backgroundcolor": "white",
            "gridcolor": "#DFE8F3",
            "gridwidth": 2,
            "linecolor": "#EBF0F8",
            "showbackground": true,
            "ticks": "",
            "zerolinecolor": "#EBF0F8"
           },
           "zaxis": {
            "backgroundcolor": "white",
            "gridcolor": "#DFE8F3",
            "gridwidth": 2,
            "linecolor": "#EBF0F8",
            "showbackground": true,
            "ticks": "",
            "zerolinecolor": "#EBF0F8"
           }
          },
          "shapedefaults": {
           "line": {
            "color": "#2a3f5f"
           }
          },
          "ternary": {
           "aaxis": {
            "gridcolor": "#DFE8F3",
            "linecolor": "#A2B1C6",
            "ticks": ""
           },
           "baxis": {
            "gridcolor": "#DFE8F3",
            "linecolor": "#A2B1C6",
            "ticks": ""
           },
           "bgcolor": "white",
           "caxis": {
            "gridcolor": "#DFE8F3",
            "linecolor": "#A2B1C6",
            "ticks": ""
           }
          },
          "title": {
           "x": 0.05
          },
          "xaxis": {
           "automargin": true,
           "gridcolor": "#EBF0F8",
           "linecolor": "#EBF0F8",
           "ticks": "",
           "title": {
            "standoff": 15
           },
           "zerolinecolor": "#EBF0F8",
           "zerolinewidth": 2
          },
          "yaxis": {
           "automargin": true,
           "gridcolor": "#EBF0F8",
           "linecolor": "#EBF0F8",
           "ticks": "",
           "title": {
            "standoff": 15
           },
           "zerolinecolor": "#EBF0F8",
           "zerolinewidth": 2
          }
         }
        },
        "title": {
         "text": "Scatter Plot of Education Level vs Income Level by stud_id"
        },
        "xaxis": {
         "anchor": "y",
         "domain": [
          0,
          1
         ],
         "title": {
          "text": "家長教育程度"
         }
        },
        "yaxis": {
         "anchor": "x",
         "domain": [
          0,
          1
         ],
         "title": {
          "text": "家庭總收入(每月平均)"
         }
        }
       }
      }
     },
     "metadata": {},
     "output_type": "display_data"
    }
   ],
   "source": [
    "# Aggregate the data to count occurrences of each combination\n",
    "agg_df = df_blue.groupby(['w3p104_label', 'w3p602_label', 'w3p206_label']).size().reset_index(name='count')\n",
    "\n",
    "# Plot using Plotly Express\n",
    "fig = px.scatter(\n",
    "    agg_df,\n",
    "    x='w3p104_label',\n",
    "    y='w3p602_label',\n",
    "    size='count',\n",
    "    color='w3p206_label',\n",
    "    size_max=60,\n",
    "    title='Scatter Plot of Education Level vs Income Level by stud_id',\n",
    "    labels={'w3p104_label': '家長教育程度', 'w3p602_label': '家庭總收入(每月平均)', 'w3p205_label': '才藝班'},\n",
    "    template='plotly_white'\n",
    ")\n",
    "\n",
    "# Show the plot\n",
    "fig.show()"
   ]
  },
  {
   "cell_type": "code",
   "execution_count": 219,
   "metadata": {},
   "outputs": [
    {
     "data": {
      "application/vnd.plotly.v1+json": {
       "config": {
        "plotlyServerURL": "https://plot.ly"
       },
       "data": [
        {
         "hovertemplate": "快樂程度(自評)=非常不快樂<br>家長教育程度=%{x}<br>家庭總收入(每月平均)=%{y}<br>count=%{marker.size}<extra></extra>",
         "legendgroup": "非常不快樂",
         "marker": {
          "color": "#636efa",
          "size": [
           17,
           29,
           22,
           27,
           3,
           0,
           7,
           7,
           21,
           14,
           2,
           2,
           15,
           18,
           42,
           31,
           11,
           1,
           2,
           5,
           9,
           27,
           9,
           0,
           1,
           0,
           2,
           15,
           7,
           7,
           0,
           0,
           1,
           2,
           2,
           0
          ],
          "sizemode": "area",
          "sizeref": 0.3672222222222222,
          "symbol": "circle"
         },
         "mode": "markers",
         "name": "非常不快樂",
         "orientation": "v",
         "showlegend": true,
         "type": "scatter",
         "x": [
          "國中或以下",
          "國中或以下",
          "國中或以下",
          "國中或以下",
          "國中或以下",
          "國中或以下",
          "高中",
          "高中",
          "高中",
          "高中",
          "高中",
          "高中",
          "高職",
          "高職",
          "高職",
          "高職",
          "高職",
          "高職",
          "專科或科大",
          "專科或科大",
          "專科或科大",
          "專科或科大",
          "專科或科大",
          "專科或科大",
          "一般大學",
          "一般大學",
          "一般大學",
          "一般大學",
          "一般大學",
          "一般大學",
          "研究所",
          "研究所",
          "研究所",
          "研究所",
          "研究所",
          "研究所"
         ],
         "xaxis": "x",
         "y": [
          "2萬以下",
          "2~3萬",
          "3~5萬",
          "5~10萬",
          "10~20萬",
          "20萬以上",
          "2萬以下",
          "2~3萬",
          "3~5萬",
          "5~10萬",
          "10~20萬",
          "20萬以上",
          "2萬以下",
          "2~3萬",
          "3~5萬",
          "5~10萬",
          "10~20萬",
          "20萬以上",
          "2萬以下",
          "2~3萬",
          "3~5萬",
          "5~10萬",
          "10~20萬",
          "20萬以上",
          "2萬以下",
          "2~3萬",
          "3~5萬",
          "5~10萬",
          "10~20萬",
          "20萬以上",
          "2萬以下",
          "2~3萬",
          "3~5萬",
          "5~10萬",
          "10~20萬",
          "20萬以上"
         ],
         "yaxis": "y"
        },
        {
         "hovertemplate": "快樂程度(自評)=不太快樂<br>家長教育程度=%{x}<br>家庭總收入(每月平均)=%{y}<br>count=%{marker.size}<extra></extra>",
         "legendgroup": "不太快樂",
         "marker": {
          "color": "#EF553B",
          "size": [
           64,
           116,
           173,
           89,
           12,
           3,
           10,
           23,
           66,
           77,
           16,
           4,
           35,
           82,
           214,
           246,
           30,
           11,
           6,
           24,
           63,
           111,
           53,
           7,
           2,
           7,
           14,
           63,
           47,
           8,
           0,
           1,
           0,
           9,
           15,
           2
          ],
          "sizemode": "area",
          "sizeref": 0.3672222222222222,
          "symbol": "circle"
         },
         "mode": "markers",
         "name": "不太快樂",
         "orientation": "v",
         "showlegend": true,
         "type": "scatter",
         "x": [
          "國中或以下",
          "國中或以下",
          "國中或以下",
          "國中或以下",
          "國中或以下",
          "國中或以下",
          "高中",
          "高中",
          "高中",
          "高中",
          "高中",
          "高中",
          "高職",
          "高職",
          "高職",
          "高職",
          "高職",
          "高職",
          "專科或科大",
          "專科或科大",
          "專科或科大",
          "專科或科大",
          "專科或科大",
          "專科或科大",
          "一般大學",
          "一般大學",
          "一般大學",
          "一般大學",
          "一般大學",
          "一般大學",
          "研究所",
          "研究所",
          "研究所",
          "研究所",
          "研究所",
          "研究所"
         ],
         "xaxis": "x",
         "y": [
          "2萬以下",
          "2~3萬",
          "3~5萬",
          "5~10萬",
          "10~20萬",
          "20萬以上",
          "2萬以下",
          "2~3萬",
          "3~5萬",
          "5~10萬",
          "10~20萬",
          "20萬以上",
          "2萬以下",
          "2~3萬",
          "3~5萬",
          "5~10萬",
          "10~20萬",
          "20萬以上",
          "2萬以下",
          "2~3萬",
          "3~5萬",
          "5~10萬",
          "10~20萬",
          "20萬以上",
          "2萬以下",
          "2~3萬",
          "3~5萬",
          "5~10萬",
          "10~20萬",
          "20萬以上",
          "2萬以下",
          "2~3萬",
          "3~5萬",
          "5~10萬",
          "10~20萬",
          "20萬以上"
         ],
         "yaxis": "y"
        },
        {
         "hovertemplate": "快樂程度(自評)=還算快樂<br>家長教育程度=%{x}<br>家庭總收入(每月平均)=%{y}<br>count=%{marker.size}<extra></extra>",
         "legendgroup": "還算快樂",
         "marker": {
          "color": "#00cc96",
          "size": [
           408,
           669,
           1122,
           587,
           89,
           15,
           70,
           145,
           363,
           385,
           76,
           22,
           163,
           428,
           1304,
           1322,
           221,
           50,
           33,
           74,
           319,
           735,
           276,
           42,
           13,
           21,
           104,
           364,
           287,
           62,
           0,
           3,
           16,
           54,
           81,
           13
          ],
          "sizemode": "area",
          "sizeref": 0.3672222222222222,
          "symbol": "circle"
         },
         "mode": "markers",
         "name": "還算快樂",
         "orientation": "v",
         "showlegend": true,
         "type": "scatter",
         "x": [
          "國中或以下",
          "國中或以下",
          "國中或以下",
          "國中或以下",
          "國中或以下",
          "國中或以下",
          "高中",
          "高中",
          "高中",
          "高中",
          "高中",
          "高中",
          "高職",
          "高職",
          "高職",
          "高職",
          "高職",
          "高職",
          "專科或科大",
          "專科或科大",
          "專科或科大",
          "專科或科大",
          "專科或科大",
          "專科或科大",
          "一般大學",
          "一般大學",
          "一般大學",
          "一般大學",
          "一般大學",
          "一般大學",
          "研究所",
          "研究所",
          "研究所",
          "研究所",
          "研究所",
          "研究所"
         ],
         "xaxis": "x",
         "y": [
          "2萬以下",
          "2~3萬",
          "3~5萬",
          "5~10萬",
          "10~20萬",
          "20萬以上",
          "2萬以下",
          "2~3萬",
          "3~5萬",
          "5~10萬",
          "10~20萬",
          "20萬以上",
          "2萬以下",
          "2~3萬",
          "3~5萬",
          "5~10萬",
          "10~20萬",
          "20萬以上",
          "2萬以下",
          "2~3萬",
          "3~5萬",
          "5~10萬",
          "10~20萬",
          "20萬以上",
          "2萬以下",
          "2~3萬",
          "3~5萬",
          "5~10萬",
          "10~20萬",
          "20萬以上",
          "2萬以下",
          "2~3萬",
          "3~5萬",
          "5~10萬",
          "10~20萬",
          "20萬以上"
         ],
         "yaxis": "y"
        },
        {
         "hovertemplate": "快樂程度(自評)=非常快樂<br>家長教育程度=%{x}<br>家庭總收入(每月平均)=%{y}<br>count=%{marker.size}<extra></extra>",
         "legendgroup": "非常快樂",
         "marker": {
          "color": "#ab63fa",
          "size": [
           129,
           161,
           320,
           177,
           33,
           6,
           19,
           52,
           114,
           119,
           13,
           7,
           61,
           126,
           378,
           416,
           75,
           14,
           14,
           18,
           105,
           198,
           68,
           13,
           12,
           7,
           33,
           91,
           77,
           19,
           2,
           0,
           2,
           14,
           24,
           8
          ],
          "sizemode": "area",
          "sizeref": 0.3672222222222222,
          "symbol": "circle"
         },
         "mode": "markers",
         "name": "非常快樂",
         "orientation": "v",
         "showlegend": true,
         "type": "scatter",
         "x": [
          "國中或以下",
          "國中或以下",
          "國中或以下",
          "國中或以下",
          "國中或以下",
          "國中或以下",
          "高中",
          "高中",
          "高中",
          "高中",
          "高中",
          "高中",
          "高職",
          "高職",
          "高職",
          "高職",
          "高職",
          "高職",
          "專科或科大",
          "專科或科大",
          "專科或科大",
          "專科或科大",
          "專科或科大",
          "專科或科大",
          "一般大學",
          "一般大學",
          "一般大學",
          "一般大學",
          "一般大學",
          "一般大學",
          "研究所",
          "研究所",
          "研究所",
          "研究所",
          "研究所",
          "研究所"
         ],
         "xaxis": "x",
         "y": [
          "2萬以下",
          "2~3萬",
          "3~5萬",
          "5~10萬",
          "10~20萬",
          "20萬以上",
          "2萬以下",
          "2~3萬",
          "3~5萬",
          "5~10萬",
          "10~20萬",
          "20萬以上",
          "2萬以下",
          "2~3萬",
          "3~5萬",
          "5~10萬",
          "10~20萬",
          "20萬以上",
          "2萬以下",
          "2~3萬",
          "3~5萬",
          "5~10萬",
          "10~20萬",
          "20萬以上",
          "2萬以下",
          "2~3萬",
          "3~5萬",
          "5~10萬",
          "10~20萬",
          "20萬以上",
          "2萬以下",
          "2~3萬",
          "3~5萬",
          "5~10萬",
          "10~20萬",
          "20萬以上"
         ],
         "yaxis": "y"
        }
       ],
       "layout": {
        "legend": {
         "itemsizing": "constant",
         "title": {
          "text": "快樂程度(自評)"
         },
         "tracegroupgap": 0
        },
        "template": {
         "data": {
          "bar": [
           {
            "error_x": {
             "color": "#2a3f5f"
            },
            "error_y": {
             "color": "#2a3f5f"
            },
            "marker": {
             "line": {
              "color": "white",
              "width": 0.5
             },
             "pattern": {
              "fillmode": "overlay",
              "size": 10,
              "solidity": 0.2
             }
            },
            "type": "bar"
           }
          ],
          "barpolar": [
           {
            "marker": {
             "line": {
              "color": "white",
              "width": 0.5
             },
             "pattern": {
              "fillmode": "overlay",
              "size": 10,
              "solidity": 0.2
             }
            },
            "type": "barpolar"
           }
          ],
          "carpet": [
           {
            "aaxis": {
             "endlinecolor": "#2a3f5f",
             "gridcolor": "#C8D4E3",
             "linecolor": "#C8D4E3",
             "minorgridcolor": "#C8D4E3",
             "startlinecolor": "#2a3f5f"
            },
            "baxis": {
             "endlinecolor": "#2a3f5f",
             "gridcolor": "#C8D4E3",
             "linecolor": "#C8D4E3",
             "minorgridcolor": "#C8D4E3",
             "startlinecolor": "#2a3f5f"
            },
            "type": "carpet"
           }
          ],
          "choropleth": [
           {
            "colorbar": {
             "outlinewidth": 0,
             "ticks": ""
            },
            "type": "choropleth"
           }
          ],
          "contour": [
           {
            "colorbar": {
             "outlinewidth": 0,
             "ticks": ""
            },
            "colorscale": [
             [
              0,
              "#0d0887"
             ],
             [
              0.1111111111111111,
              "#46039f"
             ],
             [
              0.2222222222222222,
              "#7201a8"
             ],
             [
              0.3333333333333333,
              "#9c179e"
             ],
             [
              0.4444444444444444,
              "#bd3786"
             ],
             [
              0.5555555555555556,
              "#d8576b"
             ],
             [
              0.6666666666666666,
              "#ed7953"
             ],
             [
              0.7777777777777778,
              "#fb9f3a"
             ],
             [
              0.8888888888888888,
              "#fdca26"
             ],
             [
              1,
              "#f0f921"
             ]
            ],
            "type": "contour"
           }
          ],
          "contourcarpet": [
           {
            "colorbar": {
             "outlinewidth": 0,
             "ticks": ""
            },
            "type": "contourcarpet"
           }
          ],
          "heatmap": [
           {
            "colorbar": {
             "outlinewidth": 0,
             "ticks": ""
            },
            "colorscale": [
             [
              0,
              "#0d0887"
             ],
             [
              0.1111111111111111,
              "#46039f"
             ],
             [
              0.2222222222222222,
              "#7201a8"
             ],
             [
              0.3333333333333333,
              "#9c179e"
             ],
             [
              0.4444444444444444,
              "#bd3786"
             ],
             [
              0.5555555555555556,
              "#d8576b"
             ],
             [
              0.6666666666666666,
              "#ed7953"
             ],
             [
              0.7777777777777778,
              "#fb9f3a"
             ],
             [
              0.8888888888888888,
              "#fdca26"
             ],
             [
              1,
              "#f0f921"
             ]
            ],
            "type": "heatmap"
           }
          ],
          "heatmapgl": [
           {
            "colorbar": {
             "outlinewidth": 0,
             "ticks": ""
            },
            "colorscale": [
             [
              0,
              "#0d0887"
             ],
             [
              0.1111111111111111,
              "#46039f"
             ],
             [
              0.2222222222222222,
              "#7201a8"
             ],
             [
              0.3333333333333333,
              "#9c179e"
             ],
             [
              0.4444444444444444,
              "#bd3786"
             ],
             [
              0.5555555555555556,
              "#d8576b"
             ],
             [
              0.6666666666666666,
              "#ed7953"
             ],
             [
              0.7777777777777778,
              "#fb9f3a"
             ],
             [
              0.8888888888888888,
              "#fdca26"
             ],
             [
              1,
              "#f0f921"
             ]
            ],
            "type": "heatmapgl"
           }
          ],
          "histogram": [
           {
            "marker": {
             "pattern": {
              "fillmode": "overlay",
              "size": 10,
              "solidity": 0.2
             }
            },
            "type": "histogram"
           }
          ],
          "histogram2d": [
           {
            "colorbar": {
             "outlinewidth": 0,
             "ticks": ""
            },
            "colorscale": [
             [
              0,
              "#0d0887"
             ],
             [
              0.1111111111111111,
              "#46039f"
             ],
             [
              0.2222222222222222,
              "#7201a8"
             ],
             [
              0.3333333333333333,
              "#9c179e"
             ],
             [
              0.4444444444444444,
              "#bd3786"
             ],
             [
              0.5555555555555556,
              "#d8576b"
             ],
             [
              0.6666666666666666,
              "#ed7953"
             ],
             [
              0.7777777777777778,
              "#fb9f3a"
             ],
             [
              0.8888888888888888,
              "#fdca26"
             ],
             [
              1,
              "#f0f921"
             ]
            ],
            "type": "histogram2d"
           }
          ],
          "histogram2dcontour": [
           {
            "colorbar": {
             "outlinewidth": 0,
             "ticks": ""
            },
            "colorscale": [
             [
              0,
              "#0d0887"
             ],
             [
              0.1111111111111111,
              "#46039f"
             ],
             [
              0.2222222222222222,
              "#7201a8"
             ],
             [
              0.3333333333333333,
              "#9c179e"
             ],
             [
              0.4444444444444444,
              "#bd3786"
             ],
             [
              0.5555555555555556,
              "#d8576b"
             ],
             [
              0.6666666666666666,
              "#ed7953"
             ],
             [
              0.7777777777777778,
              "#fb9f3a"
             ],
             [
              0.8888888888888888,
              "#fdca26"
             ],
             [
              1,
              "#f0f921"
             ]
            ],
            "type": "histogram2dcontour"
           }
          ],
          "mesh3d": [
           {
            "colorbar": {
             "outlinewidth": 0,
             "ticks": ""
            },
            "type": "mesh3d"
           }
          ],
          "parcoords": [
           {
            "line": {
             "colorbar": {
              "outlinewidth": 0,
              "ticks": ""
             }
            },
            "type": "parcoords"
           }
          ],
          "pie": [
           {
            "automargin": true,
            "type": "pie"
           }
          ],
          "scatter": [
           {
            "fillpattern": {
             "fillmode": "overlay",
             "size": 10,
             "solidity": 0.2
            },
            "type": "scatter"
           }
          ],
          "scatter3d": [
           {
            "line": {
             "colorbar": {
              "outlinewidth": 0,
              "ticks": ""
             }
            },
            "marker": {
             "colorbar": {
              "outlinewidth": 0,
              "ticks": ""
             }
            },
            "type": "scatter3d"
           }
          ],
          "scattercarpet": [
           {
            "marker": {
             "colorbar": {
              "outlinewidth": 0,
              "ticks": ""
             }
            },
            "type": "scattercarpet"
           }
          ],
          "scattergeo": [
           {
            "marker": {
             "colorbar": {
              "outlinewidth": 0,
              "ticks": ""
             }
            },
            "type": "scattergeo"
           }
          ],
          "scattergl": [
           {
            "marker": {
             "colorbar": {
              "outlinewidth": 0,
              "ticks": ""
             }
            },
            "type": "scattergl"
           }
          ],
          "scattermapbox": [
           {
            "marker": {
             "colorbar": {
              "outlinewidth": 0,
              "ticks": ""
             }
            },
            "type": "scattermapbox"
           }
          ],
          "scatterpolar": [
           {
            "marker": {
             "colorbar": {
              "outlinewidth": 0,
              "ticks": ""
             }
            },
            "type": "scatterpolar"
           }
          ],
          "scatterpolargl": [
           {
            "marker": {
             "colorbar": {
              "outlinewidth": 0,
              "ticks": ""
             }
            },
            "type": "scatterpolargl"
           }
          ],
          "scatterternary": [
           {
            "marker": {
             "colorbar": {
              "outlinewidth": 0,
              "ticks": ""
             }
            },
            "type": "scatterternary"
           }
          ],
          "surface": [
           {
            "colorbar": {
             "outlinewidth": 0,
             "ticks": ""
            },
            "colorscale": [
             [
              0,
              "#0d0887"
             ],
             [
              0.1111111111111111,
              "#46039f"
             ],
             [
              0.2222222222222222,
              "#7201a8"
             ],
             [
              0.3333333333333333,
              "#9c179e"
             ],
             [
              0.4444444444444444,
              "#bd3786"
             ],
             [
              0.5555555555555556,
              "#d8576b"
             ],
             [
              0.6666666666666666,
              "#ed7953"
             ],
             [
              0.7777777777777778,
              "#fb9f3a"
             ],
             [
              0.8888888888888888,
              "#fdca26"
             ],
             [
              1,
              "#f0f921"
             ]
            ],
            "type": "surface"
           }
          ],
          "table": [
           {
            "cells": {
             "fill": {
              "color": "#EBF0F8"
             },
             "line": {
              "color": "white"
             }
            },
            "header": {
             "fill": {
              "color": "#C8D4E3"
             },
             "line": {
              "color": "white"
             }
            },
            "type": "table"
           }
          ]
         },
         "layout": {
          "annotationdefaults": {
           "arrowcolor": "#2a3f5f",
           "arrowhead": 0,
           "arrowwidth": 1
          },
          "autotypenumbers": "strict",
          "coloraxis": {
           "colorbar": {
            "outlinewidth": 0,
            "ticks": ""
           }
          },
          "colorscale": {
           "diverging": [
            [
             0,
             "#8e0152"
            ],
            [
             0.1,
             "#c51b7d"
            ],
            [
             0.2,
             "#de77ae"
            ],
            [
             0.3,
             "#f1b6da"
            ],
            [
             0.4,
             "#fde0ef"
            ],
            [
             0.5,
             "#f7f7f7"
            ],
            [
             0.6,
             "#e6f5d0"
            ],
            [
             0.7,
             "#b8e186"
            ],
            [
             0.8,
             "#7fbc41"
            ],
            [
             0.9,
             "#4d9221"
            ],
            [
             1,
             "#276419"
            ]
           ],
           "sequential": [
            [
             0,
             "#0d0887"
            ],
            [
             0.1111111111111111,
             "#46039f"
            ],
            [
             0.2222222222222222,
             "#7201a8"
            ],
            [
             0.3333333333333333,
             "#9c179e"
            ],
            [
             0.4444444444444444,
             "#bd3786"
            ],
            [
             0.5555555555555556,
             "#d8576b"
            ],
            [
             0.6666666666666666,
             "#ed7953"
            ],
            [
             0.7777777777777778,
             "#fb9f3a"
            ],
            [
             0.8888888888888888,
             "#fdca26"
            ],
            [
             1,
             "#f0f921"
            ]
           ],
           "sequentialminus": [
            [
             0,
             "#0d0887"
            ],
            [
             0.1111111111111111,
             "#46039f"
            ],
            [
             0.2222222222222222,
             "#7201a8"
            ],
            [
             0.3333333333333333,
             "#9c179e"
            ],
            [
             0.4444444444444444,
             "#bd3786"
            ],
            [
             0.5555555555555556,
             "#d8576b"
            ],
            [
             0.6666666666666666,
             "#ed7953"
            ],
            [
             0.7777777777777778,
             "#fb9f3a"
            ],
            [
             0.8888888888888888,
             "#fdca26"
            ],
            [
             1,
             "#f0f921"
            ]
           ]
          },
          "colorway": [
           "#636efa",
           "#EF553B",
           "#00cc96",
           "#ab63fa",
           "#FFA15A",
           "#19d3f3",
           "#FF6692",
           "#B6E880",
           "#FF97FF",
           "#FECB52"
          ],
          "font": {
           "color": "#2a3f5f"
          },
          "geo": {
           "bgcolor": "white",
           "lakecolor": "white",
           "landcolor": "white",
           "showlakes": true,
           "showland": true,
           "subunitcolor": "#C8D4E3"
          },
          "hoverlabel": {
           "align": "left"
          },
          "hovermode": "closest",
          "mapbox": {
           "style": "light"
          },
          "paper_bgcolor": "white",
          "plot_bgcolor": "white",
          "polar": {
           "angularaxis": {
            "gridcolor": "#EBF0F8",
            "linecolor": "#EBF0F8",
            "ticks": ""
           },
           "bgcolor": "white",
           "radialaxis": {
            "gridcolor": "#EBF0F8",
            "linecolor": "#EBF0F8",
            "ticks": ""
           }
          },
          "scene": {
           "xaxis": {
            "backgroundcolor": "white",
            "gridcolor": "#DFE8F3",
            "gridwidth": 2,
            "linecolor": "#EBF0F8",
            "showbackground": true,
            "ticks": "",
            "zerolinecolor": "#EBF0F8"
           },
           "yaxis": {
            "backgroundcolor": "white",
            "gridcolor": "#DFE8F3",
            "gridwidth": 2,
            "linecolor": "#EBF0F8",
            "showbackground": true,
            "ticks": "",
            "zerolinecolor": "#EBF0F8"
           },
           "zaxis": {
            "backgroundcolor": "white",
            "gridcolor": "#DFE8F3",
            "gridwidth": 2,
            "linecolor": "#EBF0F8",
            "showbackground": true,
            "ticks": "",
            "zerolinecolor": "#EBF0F8"
           }
          },
          "shapedefaults": {
           "line": {
            "color": "#2a3f5f"
           }
          },
          "ternary": {
           "aaxis": {
            "gridcolor": "#DFE8F3",
            "linecolor": "#A2B1C6",
            "ticks": ""
           },
           "baxis": {
            "gridcolor": "#DFE8F3",
            "linecolor": "#A2B1C6",
            "ticks": ""
           },
           "bgcolor": "white",
           "caxis": {
            "gridcolor": "#DFE8F3",
            "linecolor": "#A2B1C6",
            "ticks": ""
           }
          },
          "title": {
           "x": 0.05
          },
          "xaxis": {
           "automargin": true,
           "gridcolor": "#EBF0F8",
           "linecolor": "#EBF0F8",
           "ticks": "",
           "title": {
            "standoff": 15
           },
           "zerolinecolor": "#EBF0F8",
           "zerolinewidth": 2
          },
          "yaxis": {
           "automargin": true,
           "gridcolor": "#EBF0F8",
           "linecolor": "#EBF0F8",
           "ticks": "",
           "title": {
            "standoff": 15
           },
           "zerolinecolor": "#EBF0F8",
           "zerolinewidth": 2
          }
         }
        },
        "title": {
         "text": "Scatter Plot of Education Level vs Income Level by stud_id"
        },
        "xaxis": {
         "anchor": "y",
         "domain": [
          0,
          1
         ],
         "title": {
          "text": "家長教育程度"
         }
        },
        "yaxis": {
         "anchor": "x",
         "domain": [
          0,
          1
         ],
         "title": {
          "text": "家庭總收入(每月平均)"
         }
        }
       }
      }
     },
     "metadata": {},
     "output_type": "display_data"
    }
   ],
   "source": [
    "# Aggregate the data to count occurrences of each combination\n",
    "agg_df = df_blue.groupby(['w3p104_label', 'w3p602_label', 'w3s478_label']).size().reset_index(name='count')\n",
    "\n",
    "# Plot using Plotly Express\n",
    "fig = px.scatter(\n",
    "    agg_df,\n",
    "    x='w3p104_label',\n",
    "    y='w3p602_label',\n",
    "    size='count',\n",
    "    color='w3s478_label',\n",
    "    size_max=60,\n",
    "    title='Scatter Plot of Education Level vs Income Level by stud_id',\n",
    "    labels={'w3p104_label': '家長教育程度', 'w3p602_label': '家庭總收入(每月平均)', 'w3s478_label': '快樂程度(自評)'},\n",
    "    template='plotly_white'\n",
    ")\n",
    "\n",
    "# Show the plot\n",
    "fig.show()"
   ]
  },
  {
   "cell_type": "code",
   "execution_count": 220,
   "metadata": {},
   "outputs": [
    {
     "data": {
      "application/vnd.plotly.v1+json": {
       "config": {
        "plotlyServerURL": "https://plot.ly"
       },
       "data": [
        {
         "hovertemplate": "親子間認知程度=認知落差小<br>Education Level=%{x}<br>家庭總收入(每月平均)=%{y}<br>count=%{marker.size}<extra></extra>",
         "legendgroup": "認知落差小",
         "marker": {
          "color": "rgb(76,114,176)",
          "size": [
           156,
           234,
           348,
           220,
           36,
           4,
           17,
           47,
           107,
           128,
           21,
           10,
           63,
           161,
           433,
           441,
           70,
           13,
           11,
           30,
           101,
           234,
           77,
           14,
           8,
           11,
           32,
           106,
           83,
           21,
           1,
           0,
           3,
           15,
           21,
           5
          ],
          "sizemode": "area",
          "sizeref": 0.3522222222222222,
          "symbol": "circle"
         },
         "mode": "markers",
         "name": "認知落差小",
         "orientation": "v",
         "showlegend": true,
         "type": "scatter",
         "x": [
          "國中或以下",
          "國中或以下",
          "國中或以下",
          "國中或以下",
          "國中或以下",
          "國中或以下",
          "高中",
          "高中",
          "高中",
          "高中",
          "高中",
          "高中",
          "高職",
          "高職",
          "高職",
          "高職",
          "高職",
          "高職",
          "專科或科大",
          "專科或科大",
          "專科或科大",
          "專科或科大",
          "專科或科大",
          "專科或科大",
          "一般大學",
          "一般大學",
          "一般大學",
          "一般大學",
          "一般大學",
          "一般大學",
          "研究所",
          "研究所",
          "研究所",
          "研究所",
          "研究所",
          "研究所"
         ],
         "xaxis": "x",
         "y": [
          "2萬以下",
          "2~3萬",
          "3~5萬",
          "5~10萬",
          "10~20萬",
          "20萬以上",
          "2萬以下",
          "2~3萬",
          "3~5萬",
          "5~10萬",
          "10~20萬",
          "20萬以上",
          "2萬以下",
          "2~3萬",
          "3~5萬",
          "5~10萬",
          "10~20萬",
          "20萬以上",
          "2萬以下",
          "2~3萬",
          "3~5萬",
          "5~10萬",
          "10~20萬",
          "20萬以上",
          "2萬以下",
          "2~3萬",
          "3~5萬",
          "5~10萬",
          "10~20萬",
          "20萬以上",
          "2萬以下",
          "2~3萬",
          "3~5萬",
          "5~10萬",
          "10~20萬",
          "20萬以上"
         ],
         "yaxis": "y"
        },
        {
         "hovertemplate": "親子間認知程度=普通<br>Education Level=%{x}<br>家庭總收入(每月平均)=%{y}<br>count=%{marker.size}<extra></extra>",
         "legendgroup": "普通",
         "marker": {
          "color": "rgb(221,132,82)",
          "size": [
           335,
           540,
           1041,
           494,
           77,
           16,
           59,
           139,
           352,
           373,
           64,
           17,
           152,
           371,
           1191,
           1268,
           210,
           49,
           32,
           74,
           304,
           678,
           260,
           40,
           13,
           19,
           94,
           338,
           271,
           57,
           0,
           2,
           12,
           54,
           83,
           16
          ],
          "sizemode": "area",
          "sizeref": 0.3522222222222222,
          "symbol": "circle"
         },
         "mode": "markers",
         "name": "普通",
         "orientation": "v",
         "showlegend": true,
         "type": "scatter",
         "x": [
          "國中或以下",
          "國中或以下",
          "國中或以下",
          "國中或以下",
          "國中或以下",
          "國中或以下",
          "高中",
          "高中",
          "高中",
          "高中",
          "高中",
          "高中",
          "高職",
          "高職",
          "高職",
          "高職",
          "高職",
          "高職",
          "專科或科大",
          "專科或科大",
          "專科或科大",
          "專科或科大",
          "專科或科大",
          "專科或科大",
          "一般大學",
          "一般大學",
          "一般大學",
          "一般大學",
          "一般大學",
          "一般大學",
          "研究所",
          "研究所",
          "研究所",
          "研究所",
          "研究所",
          "研究所"
         ],
         "xaxis": "x",
         "y": [
          "2萬以下",
          "2~3萬",
          "3~5萬",
          "5~10萬",
          "10~20萬",
          "20萬以上",
          "2萬以下",
          "2~3萬",
          "3~5萬",
          "5~10萬",
          "10~20萬",
          "20萬以上",
          "2萬以下",
          "2~3萬",
          "3~5萬",
          "5~10萬",
          "10~20萬",
          "20萬以上",
          "2萬以下",
          "2~3萬",
          "3~5萬",
          "5~10萬",
          "10~20萬",
          "20萬以上",
          "2萬以下",
          "2~3萬",
          "3~5萬",
          "5~10萬",
          "10~20萬",
          "20萬以上",
          "2萬以下",
          "2~3萬",
          "3~5萬",
          "5~10萬",
          "10~20萬",
          "20萬以上"
         ],
         "yaxis": "y"
        },
        {
         "hovertemplate": "親子間認知程度=認知落差大<br>Education Level=%{x}<br>家庭總收入(每月平均)=%{y}<br>count=%{marker.size}<extra></extra>",
         "legendgroup": "認知落差大",
         "marker": {
          "color": "rgb(85,168,104)",
          "size": [
           140,
           211,
           264,
           185,
           27,
           6,
           33,
           48,
           117,
           108,
           24,
           9,
           65,
           135,
           359,
           345,
           64,
           15,
           14,
           22,
           99,
           180,
           78,
           11,
           10,
           6,
           30,
           102,
           79,
           19,
           1,
           2,
           4,
           11,
           19,
           4
          ],
          "sizemode": "area",
          "sizeref": 0.3522222222222222,
          "symbol": "circle"
         },
         "mode": "markers",
         "name": "認知落差大",
         "orientation": "v",
         "showlegend": true,
         "type": "scatter",
         "x": [
          "國中或以下",
          "國中或以下",
          "國中或以下",
          "國中或以下",
          "國中或以下",
          "國中或以下",
          "高中",
          "高中",
          "高中",
          "高中",
          "高中",
          "高中",
          "高職",
          "高職",
          "高職",
          "高職",
          "高職",
          "高職",
          "專科或科大",
          "專科或科大",
          "專科或科大",
          "專科或科大",
          "專科或科大",
          "專科或科大",
          "一般大學",
          "一般大學",
          "一般大學",
          "一般大學",
          "一般大學",
          "一般大學",
          "研究所",
          "研究所",
          "研究所",
          "研究所",
          "研究所",
          "研究所"
         ],
         "xaxis": "x",
         "y": [
          "2萬以下",
          "2~3萬",
          "3~5萬",
          "5~10萬",
          "10~20萬",
          "20萬以上",
          "2萬以下",
          "2~3萬",
          "3~5萬",
          "5~10萬",
          "10~20萬",
          "20萬以上",
          "2萬以下",
          "2~3萬",
          "3~5萬",
          "5~10萬",
          "10~20萬",
          "20萬以上",
          "2萬以下",
          "2~3萬",
          "3~5萬",
          "5~10萬",
          "10~20萬",
          "20萬以上",
          "2萬以下",
          "2~3萬",
          "3~5萬",
          "5~10萬",
          "10~20萬",
          "20萬以上",
          "2萬以下",
          "2~3萬",
          "3~5萬",
          "5~10萬",
          "10~20萬",
          "20萬以上"
         ],
         "yaxis": "y"
        }
       ],
       "layout": {
        "legend": {
         "itemsizing": "constant",
         "title": {
          "text": "親子間認知程度"
         },
         "tracegroupgap": 0
        },
        "template": {
         "data": {
          "bar": [
           {
            "error_x": {
             "color": "rgb(36,36,36)"
            },
            "error_y": {
             "color": "rgb(36,36,36)"
            },
            "marker": {
             "line": {
              "color": "rgb(234,234,242)",
              "width": 0.5
             },
             "pattern": {
              "fillmode": "overlay",
              "size": 10,
              "solidity": 0.2
             }
            },
            "type": "bar"
           }
          ],
          "barpolar": [
           {
            "marker": {
             "line": {
              "color": "rgb(234,234,242)",
              "width": 0.5
             },
             "pattern": {
              "fillmode": "overlay",
              "size": 10,
              "solidity": 0.2
             }
            },
            "type": "barpolar"
           }
          ],
          "carpet": [
           {
            "aaxis": {
             "endlinecolor": "rgb(36,36,36)",
             "gridcolor": "white",
             "linecolor": "white",
             "minorgridcolor": "white",
             "startlinecolor": "rgb(36,36,36)"
            },
            "baxis": {
             "endlinecolor": "rgb(36,36,36)",
             "gridcolor": "white",
             "linecolor": "white",
             "minorgridcolor": "white",
             "startlinecolor": "rgb(36,36,36)"
            },
            "type": "carpet"
           }
          ],
          "choropleth": [
           {
            "colorbar": {
             "outlinewidth": 0,
             "tickcolor": "rgb(36,36,36)",
             "ticklen": 8,
             "ticks": "outside",
             "tickwidth": 2
            },
            "type": "choropleth"
           }
          ],
          "contour": [
           {
            "colorbar": {
             "outlinewidth": 0,
             "tickcolor": "rgb(36,36,36)",
             "ticklen": 8,
             "ticks": "outside",
             "tickwidth": 2
            },
            "colorscale": [
             [
              0,
              "rgb(2,4,25)"
             ],
             [
              0.06274509803921569,
              "rgb(24,15,41)"
             ],
             [
              0.12549019607843137,
              "rgb(47,23,57)"
             ],
             [
              0.18823529411764706,
              "rgb(71,28,72)"
             ],
             [
              0.25098039215686274,
              "rgb(97,30,82)"
             ],
             [
              0.3137254901960784,
              "rgb(123,30,89)"
             ],
             [
              0.3764705882352941,
              "rgb(150,27,91)"
             ],
             [
              0.4392156862745098,
              "rgb(177,22,88)"
             ],
             [
              0.5019607843137255,
              "rgb(203,26,79)"
             ],
             [
              0.5647058823529412,
              "rgb(223,47,67)"
             ],
             [
              0.6274509803921569,
              "rgb(236,76,61)"
             ],
             [
              0.6901960784313725,
              "rgb(242,107,73)"
             ],
             [
              0.7529411764705882,
              "rgb(244,135,95)"
             ],
             [
              0.8156862745098039,
              "rgb(245,162,122)"
             ],
             [
              0.8784313725490196,
              "rgb(246,188,153)"
             ],
             [
              0.9411764705882353,
              "rgb(247,212,187)"
             ],
             [
              1,
              "rgb(250,234,220)"
             ]
            ],
            "type": "contour"
           }
          ],
          "contourcarpet": [
           {
            "colorbar": {
             "outlinewidth": 0,
             "tickcolor": "rgb(36,36,36)",
             "ticklen": 8,
             "ticks": "outside",
             "tickwidth": 2
            },
            "type": "contourcarpet"
           }
          ],
          "heatmap": [
           {
            "colorbar": {
             "outlinewidth": 0,
             "tickcolor": "rgb(36,36,36)",
             "ticklen": 8,
             "ticks": "outside",
             "tickwidth": 2
            },
            "colorscale": [
             [
              0,
              "rgb(2,4,25)"
             ],
             [
              0.06274509803921569,
              "rgb(24,15,41)"
             ],
             [
              0.12549019607843137,
              "rgb(47,23,57)"
             ],
             [
              0.18823529411764706,
              "rgb(71,28,72)"
             ],
             [
              0.25098039215686274,
              "rgb(97,30,82)"
             ],
             [
              0.3137254901960784,
              "rgb(123,30,89)"
             ],
             [
              0.3764705882352941,
              "rgb(150,27,91)"
             ],
             [
              0.4392156862745098,
              "rgb(177,22,88)"
             ],
             [
              0.5019607843137255,
              "rgb(203,26,79)"
             ],
             [
              0.5647058823529412,
              "rgb(223,47,67)"
             ],
             [
              0.6274509803921569,
              "rgb(236,76,61)"
             ],
             [
              0.6901960784313725,
              "rgb(242,107,73)"
             ],
             [
              0.7529411764705882,
              "rgb(244,135,95)"
             ],
             [
              0.8156862745098039,
              "rgb(245,162,122)"
             ],
             [
              0.8784313725490196,
              "rgb(246,188,153)"
             ],
             [
              0.9411764705882353,
              "rgb(247,212,187)"
             ],
             [
              1,
              "rgb(250,234,220)"
             ]
            ],
            "type": "heatmap"
           }
          ],
          "heatmapgl": [
           {
            "colorbar": {
             "outlinewidth": 0,
             "tickcolor": "rgb(36,36,36)",
             "ticklen": 8,
             "ticks": "outside",
             "tickwidth": 2
            },
            "colorscale": [
             [
              0,
              "rgb(2,4,25)"
             ],
             [
              0.06274509803921569,
              "rgb(24,15,41)"
             ],
             [
              0.12549019607843137,
              "rgb(47,23,57)"
             ],
             [
              0.18823529411764706,
              "rgb(71,28,72)"
             ],
             [
              0.25098039215686274,
              "rgb(97,30,82)"
             ],
             [
              0.3137254901960784,
              "rgb(123,30,89)"
             ],
             [
              0.3764705882352941,
              "rgb(150,27,91)"
             ],
             [
              0.4392156862745098,
              "rgb(177,22,88)"
             ],
             [
              0.5019607843137255,
              "rgb(203,26,79)"
             ],
             [
              0.5647058823529412,
              "rgb(223,47,67)"
             ],
             [
              0.6274509803921569,
              "rgb(236,76,61)"
             ],
             [
              0.6901960784313725,
              "rgb(242,107,73)"
             ],
             [
              0.7529411764705882,
              "rgb(244,135,95)"
             ],
             [
              0.8156862745098039,
              "rgb(245,162,122)"
             ],
             [
              0.8784313725490196,
              "rgb(246,188,153)"
             ],
             [
              0.9411764705882353,
              "rgb(247,212,187)"
             ],
             [
              1,
              "rgb(250,234,220)"
             ]
            ],
            "type": "heatmapgl"
           }
          ],
          "histogram": [
           {
            "marker": {
             "pattern": {
              "fillmode": "overlay",
              "size": 10,
              "solidity": 0.2
             }
            },
            "type": "histogram"
           }
          ],
          "histogram2d": [
           {
            "colorbar": {
             "outlinewidth": 0,
             "tickcolor": "rgb(36,36,36)",
             "ticklen": 8,
             "ticks": "outside",
             "tickwidth": 2
            },
            "colorscale": [
             [
              0,
              "rgb(2,4,25)"
             ],
             [
              0.06274509803921569,
              "rgb(24,15,41)"
             ],
             [
              0.12549019607843137,
              "rgb(47,23,57)"
             ],
             [
              0.18823529411764706,
              "rgb(71,28,72)"
             ],
             [
              0.25098039215686274,
              "rgb(97,30,82)"
             ],
             [
              0.3137254901960784,
              "rgb(123,30,89)"
             ],
             [
              0.3764705882352941,
              "rgb(150,27,91)"
             ],
             [
              0.4392156862745098,
              "rgb(177,22,88)"
             ],
             [
              0.5019607843137255,
              "rgb(203,26,79)"
             ],
             [
              0.5647058823529412,
              "rgb(223,47,67)"
             ],
             [
              0.6274509803921569,
              "rgb(236,76,61)"
             ],
             [
              0.6901960784313725,
              "rgb(242,107,73)"
             ],
             [
              0.7529411764705882,
              "rgb(244,135,95)"
             ],
             [
              0.8156862745098039,
              "rgb(245,162,122)"
             ],
             [
              0.8784313725490196,
              "rgb(246,188,153)"
             ],
             [
              0.9411764705882353,
              "rgb(247,212,187)"
             ],
             [
              1,
              "rgb(250,234,220)"
             ]
            ],
            "type": "histogram2d"
           }
          ],
          "histogram2dcontour": [
           {
            "colorbar": {
             "outlinewidth": 0,
             "tickcolor": "rgb(36,36,36)",
             "ticklen": 8,
             "ticks": "outside",
             "tickwidth": 2
            },
            "colorscale": [
             [
              0,
              "rgb(2,4,25)"
             ],
             [
              0.06274509803921569,
              "rgb(24,15,41)"
             ],
             [
              0.12549019607843137,
              "rgb(47,23,57)"
             ],
             [
              0.18823529411764706,
              "rgb(71,28,72)"
             ],
             [
              0.25098039215686274,
              "rgb(97,30,82)"
             ],
             [
              0.3137254901960784,
              "rgb(123,30,89)"
             ],
             [
              0.3764705882352941,
              "rgb(150,27,91)"
             ],
             [
              0.4392156862745098,
              "rgb(177,22,88)"
             ],
             [
              0.5019607843137255,
              "rgb(203,26,79)"
             ],
             [
              0.5647058823529412,
              "rgb(223,47,67)"
             ],
             [
              0.6274509803921569,
              "rgb(236,76,61)"
             ],
             [
              0.6901960784313725,
              "rgb(242,107,73)"
             ],
             [
              0.7529411764705882,
              "rgb(244,135,95)"
             ],
             [
              0.8156862745098039,
              "rgb(245,162,122)"
             ],
             [
              0.8784313725490196,
              "rgb(246,188,153)"
             ],
             [
              0.9411764705882353,
              "rgb(247,212,187)"
             ],
             [
              1,
              "rgb(250,234,220)"
             ]
            ],
            "type": "histogram2dcontour"
           }
          ],
          "mesh3d": [
           {
            "colorbar": {
             "outlinewidth": 0,
             "tickcolor": "rgb(36,36,36)",
             "ticklen": 8,
             "ticks": "outside",
             "tickwidth": 2
            },
            "type": "mesh3d"
           }
          ],
          "parcoords": [
           {
            "line": {
             "colorbar": {
              "outlinewidth": 0,
              "tickcolor": "rgb(36,36,36)",
              "ticklen": 8,
              "ticks": "outside",
              "tickwidth": 2
             }
            },
            "type": "parcoords"
           }
          ],
          "pie": [
           {
            "automargin": true,
            "type": "pie"
           }
          ],
          "scatter": [
           {
            "fillpattern": {
             "fillmode": "overlay",
             "size": 10,
             "solidity": 0.2
            },
            "type": "scatter"
           }
          ],
          "scatter3d": [
           {
            "line": {
             "colorbar": {
              "outlinewidth": 0,
              "tickcolor": "rgb(36,36,36)",
              "ticklen": 8,
              "ticks": "outside",
              "tickwidth": 2
             }
            },
            "marker": {
             "colorbar": {
              "outlinewidth": 0,
              "tickcolor": "rgb(36,36,36)",
              "ticklen": 8,
              "ticks": "outside",
              "tickwidth": 2
             }
            },
            "type": "scatter3d"
           }
          ],
          "scattercarpet": [
           {
            "marker": {
             "colorbar": {
              "outlinewidth": 0,
              "tickcolor": "rgb(36,36,36)",
              "ticklen": 8,
              "ticks": "outside",
              "tickwidth": 2
             }
            },
            "type": "scattercarpet"
           }
          ],
          "scattergeo": [
           {
            "marker": {
             "colorbar": {
              "outlinewidth": 0,
              "tickcolor": "rgb(36,36,36)",
              "ticklen": 8,
              "ticks": "outside",
              "tickwidth": 2
             }
            },
            "type": "scattergeo"
           }
          ],
          "scattergl": [
           {
            "marker": {
             "colorbar": {
              "outlinewidth": 0,
              "tickcolor": "rgb(36,36,36)",
              "ticklen": 8,
              "ticks": "outside",
              "tickwidth": 2
             }
            },
            "type": "scattergl"
           }
          ],
          "scattermapbox": [
           {
            "marker": {
             "colorbar": {
              "outlinewidth": 0,
              "tickcolor": "rgb(36,36,36)",
              "ticklen": 8,
              "ticks": "outside",
              "tickwidth": 2
             }
            },
            "type": "scattermapbox"
           }
          ],
          "scatterpolar": [
           {
            "marker": {
             "colorbar": {
              "outlinewidth": 0,
              "tickcolor": "rgb(36,36,36)",
              "ticklen": 8,
              "ticks": "outside",
              "tickwidth": 2
             }
            },
            "type": "scatterpolar"
           }
          ],
          "scatterpolargl": [
           {
            "marker": {
             "colorbar": {
              "outlinewidth": 0,
              "tickcolor": "rgb(36,36,36)",
              "ticklen": 8,
              "ticks": "outside",
              "tickwidth": 2
             }
            },
            "type": "scatterpolargl"
           }
          ],
          "scatterternary": [
           {
            "marker": {
             "colorbar": {
              "outlinewidth": 0,
              "tickcolor": "rgb(36,36,36)",
              "ticklen": 8,
              "ticks": "outside",
              "tickwidth": 2
             }
            },
            "type": "scatterternary"
           }
          ],
          "surface": [
           {
            "colorbar": {
             "outlinewidth": 0,
             "tickcolor": "rgb(36,36,36)",
             "ticklen": 8,
             "ticks": "outside",
             "tickwidth": 2
            },
            "colorscale": [
             [
              0,
              "rgb(2,4,25)"
             ],
             [
              0.06274509803921569,
              "rgb(24,15,41)"
             ],
             [
              0.12549019607843137,
              "rgb(47,23,57)"
             ],
             [
              0.18823529411764706,
              "rgb(71,28,72)"
             ],
             [
              0.25098039215686274,
              "rgb(97,30,82)"
             ],
             [
              0.3137254901960784,
              "rgb(123,30,89)"
             ],
             [
              0.3764705882352941,
              "rgb(150,27,91)"
             ],
             [
              0.4392156862745098,
              "rgb(177,22,88)"
             ],
             [
              0.5019607843137255,
              "rgb(203,26,79)"
             ],
             [
              0.5647058823529412,
              "rgb(223,47,67)"
             ],
             [
              0.6274509803921569,
              "rgb(236,76,61)"
             ],
             [
              0.6901960784313725,
              "rgb(242,107,73)"
             ],
             [
              0.7529411764705882,
              "rgb(244,135,95)"
             ],
             [
              0.8156862745098039,
              "rgb(245,162,122)"
             ],
             [
              0.8784313725490196,
              "rgb(246,188,153)"
             ],
             [
              0.9411764705882353,
              "rgb(247,212,187)"
             ],
             [
              1,
              "rgb(250,234,220)"
             ]
            ],
            "type": "surface"
           }
          ],
          "table": [
           {
            "cells": {
             "fill": {
              "color": "rgb(231,231,240)"
             },
             "line": {
              "color": "white"
             }
            },
            "header": {
             "fill": {
              "color": "rgb(183,183,191)"
             },
             "line": {
              "color": "white"
             }
            },
            "type": "table"
           }
          ]
         },
         "layout": {
          "annotationdefaults": {
           "arrowcolor": "rgb(67,103,167)"
          },
          "autotypenumbers": "strict",
          "coloraxis": {
           "colorbar": {
            "outlinewidth": 0,
            "tickcolor": "rgb(36,36,36)",
            "ticklen": 8,
            "ticks": "outside",
            "tickwidth": 2
           }
          },
          "colorscale": {
           "sequential": [
            [
             0,
             "rgb(2,4,25)"
            ],
            [
             0.06274509803921569,
             "rgb(24,15,41)"
            ],
            [
             0.12549019607843137,
             "rgb(47,23,57)"
            ],
            [
             0.18823529411764706,
             "rgb(71,28,72)"
            ],
            [
             0.25098039215686274,
             "rgb(97,30,82)"
            ],
            [
             0.3137254901960784,
             "rgb(123,30,89)"
            ],
            [
             0.3764705882352941,
             "rgb(150,27,91)"
            ],
            [
             0.4392156862745098,
             "rgb(177,22,88)"
            ],
            [
             0.5019607843137255,
             "rgb(203,26,79)"
            ],
            [
             0.5647058823529412,
             "rgb(223,47,67)"
            ],
            [
             0.6274509803921569,
             "rgb(236,76,61)"
            ],
            [
             0.6901960784313725,
             "rgb(242,107,73)"
            ],
            [
             0.7529411764705882,
             "rgb(244,135,95)"
            ],
            [
             0.8156862745098039,
             "rgb(245,162,122)"
            ],
            [
             0.8784313725490196,
             "rgb(246,188,153)"
            ],
            [
             0.9411764705882353,
             "rgb(247,212,187)"
            ],
            [
             1,
             "rgb(250,234,220)"
            ]
           ],
           "sequentialminus": [
            [
             0,
             "rgb(2,4,25)"
            ],
            [
             0.06274509803921569,
             "rgb(24,15,41)"
            ],
            [
             0.12549019607843137,
             "rgb(47,23,57)"
            ],
            [
             0.18823529411764706,
             "rgb(71,28,72)"
            ],
            [
             0.25098039215686274,
             "rgb(97,30,82)"
            ],
            [
             0.3137254901960784,
             "rgb(123,30,89)"
            ],
            [
             0.3764705882352941,
             "rgb(150,27,91)"
            ],
            [
             0.4392156862745098,
             "rgb(177,22,88)"
            ],
            [
             0.5019607843137255,
             "rgb(203,26,79)"
            ],
            [
             0.5647058823529412,
             "rgb(223,47,67)"
            ],
            [
             0.6274509803921569,
             "rgb(236,76,61)"
            ],
            [
             0.6901960784313725,
             "rgb(242,107,73)"
            ],
            [
             0.7529411764705882,
             "rgb(244,135,95)"
            ],
            [
             0.8156862745098039,
             "rgb(245,162,122)"
            ],
            [
             0.8784313725490196,
             "rgb(246,188,153)"
            ],
            [
             0.9411764705882353,
             "rgb(247,212,187)"
            ],
            [
             1,
             "rgb(250,234,220)"
            ]
           ]
          },
          "colorway": [
           "rgb(76,114,176)",
           "rgb(221,132,82)",
           "rgb(85,168,104)",
           "rgb(196,78,82)",
           "rgb(129,114,179)",
           "rgb(147,120,96)",
           "rgb(218,139,195)",
           "rgb(140,140,140)",
           "rgb(204,185,116)",
           "rgb(100,181,205)"
          ],
          "font": {
           "color": "rgb(36,36,36)"
          },
          "geo": {
           "bgcolor": "white",
           "lakecolor": "white",
           "landcolor": "rgb(234,234,242)",
           "showlakes": true,
           "showland": true,
           "subunitcolor": "white"
          },
          "hoverlabel": {
           "align": "left"
          },
          "hovermode": "closest",
          "paper_bgcolor": "white",
          "plot_bgcolor": "rgb(234,234,242)",
          "polar": {
           "angularaxis": {
            "gridcolor": "white",
            "linecolor": "white",
            "showgrid": true,
            "ticks": ""
           },
           "bgcolor": "rgb(234,234,242)",
           "radialaxis": {
            "gridcolor": "white",
            "linecolor": "white",
            "showgrid": true,
            "ticks": ""
           }
          },
          "scene": {
           "xaxis": {
            "backgroundcolor": "rgb(234,234,242)",
            "gridcolor": "white",
            "gridwidth": 2,
            "linecolor": "white",
            "showbackground": true,
            "showgrid": true,
            "ticks": "",
            "zerolinecolor": "white"
           },
           "yaxis": {
            "backgroundcolor": "rgb(234,234,242)",
            "gridcolor": "white",
            "gridwidth": 2,
            "linecolor": "white",
            "showbackground": true,
            "showgrid": true,
            "ticks": "",
            "zerolinecolor": "white"
           },
           "zaxis": {
            "backgroundcolor": "rgb(234,234,242)",
            "gridcolor": "white",
            "gridwidth": 2,
            "linecolor": "white",
            "showbackground": true,
            "showgrid": true,
            "ticks": "",
            "zerolinecolor": "white"
           }
          },
          "shapedefaults": {
           "fillcolor": "rgb(67,103,167)",
           "line": {
            "width": 0
           },
           "opacity": 0.5
          },
          "ternary": {
           "aaxis": {
            "gridcolor": "white",
            "linecolor": "white",
            "showgrid": true,
            "ticks": ""
           },
           "baxis": {
            "gridcolor": "white",
            "linecolor": "white",
            "showgrid": true,
            "ticks": ""
           },
           "bgcolor": "rgb(234,234,242)",
           "caxis": {
            "gridcolor": "white",
            "linecolor": "white",
            "showgrid": true,
            "ticks": ""
           }
          },
          "xaxis": {
           "automargin": true,
           "gridcolor": "white",
           "linecolor": "white",
           "showgrid": true,
           "ticks": "",
           "title": {
            "standoff": 15
           },
           "zerolinecolor": "white"
          },
          "yaxis": {
           "automargin": true,
           "gridcolor": "white",
           "linecolor": "white",
           "showgrid": true,
           "ticks": "",
           "title": {
            "standoff": 15
           },
           "zerolinecolor": "white"
          }
         }
        },
        "title": {
         "text": "Scatter Plot of Education Level vs Income Level by Knowledge Level"
        },
        "xaxis": {
         "anchor": "y",
         "domain": [
          0,
          1
         ],
         "title": {
          "text": "Education Level"
         }
        },
        "yaxis": {
         "anchor": "x",
         "domain": [
          0,
          1
         ],
         "title": {
          "text": "家庭總收入(每月平均)"
         }
        }
       }
      }
     },
     "metadata": {},
     "output_type": "display_data"
    }
   ],
   "source": [
    "df_blue['w3p104_label'] = df_blue['w3p104'].map(education_level_mapping)\n",
    "df_blue['w3p602_label'] = df_blue['w3p602'].map(income_level_mapping)    \n",
    "df_blue['w3p104_label'] = pd.Categorical(df_blue['w3p104_label'], categories=education_order, ordered=True)\n",
    "df_blue['w3p602_label'] = pd.Categorical(df_blue['w3p602_label'], categories=income_order, ordered=True)\n",
    "\n",
    "# Get the total number of students\n",
    "total_students = df_blue['stud_id'].nunique()\n",
    "\n",
    "percentile_20 = df_blue['diff_avg'].quantile(0.2)\n",
    "percentile_80 = df_blue['diff_avg'].quantile(0.8)\n",
    "def map_know_level(diff_avg):\n",
    "  if diff_avg <= percentile_20:\n",
    "    return 1\n",
    "  elif diff_avg > percentile_80:\n",
    "    return 3\n",
    "  else:\n",
    "    return 2\n",
    "df_blue['know_level'] = df_blue['diff_avg'].apply(map_know_level)\n",
    "\n",
    "know_level_mapping = {1: '認知落差小', 2: '普通', 3: '認知落差大'}\n",
    "df_blue['know_level_label'] = df_blue['know_level'].map(know_level_mapping)\n",
    "know_order = ['認知落差小', '普通', '認知落差大']\n",
    "df_blue['know_level_label'] = pd.Categorical(df_blue['know_level_label'], categories=know_order, ordered=True)\n",
    "\n",
    "# Aggregate the data to count occurrences of each combination\n",
    "agg_df = df_blue.groupby(['w3p104_label', 'w3p602_label', 'know_level_label']).size().reset_index(name='count')\n",
    "\n",
    "# Plot using Plotly Express\n",
    "fig = px.scatter(\n",
    "    agg_df,\n",
    "    x='w3p104_label',\n",
    "    y='w3p602_label',\n",
    "    size='count',\n",
    "    color='know_level_label',\n",
    "    size_max=60,\n",
    "    title='Scatter Plot of Education Level vs Income Level by Knowledge Level',\n",
    "    labels={'w3p104_label': 'Education Level', 'w3p602_label': '家庭總收入(每月平均)', 'know_level_label': '親子間認知程度'},\n",
    "    template='seaborn'\n",
    ")\n",
    "\n",
    "# Show the plot\n",
    "fig.show()"
   ]
  },
  {
   "cell_type": "code",
   "execution_count": 221,
   "metadata": {},
   "outputs": [
    {
     "data": {
      "application/vnd.plotly.v1+json": {
       "config": {
        "plotlyServerURL": "https://plot.ly"
       },
       "data": [
        {
         "hovertemplate": "親子間認知程度=認知落差小<br>快樂程度(自評)=%{x}<br>家庭總收入(每月平均)=%{y}<br>count=%{marker.size}<extra></extra>",
         "legendgroup": "認知落差小",
         "marker": {
          "color": "rgb(76,114,176)",
          "size": [
           3,
           4,
           2,
           2,
           0,
           0,
           7,
           17,
           35,
           44,
           8,
           4,
           160,
           337,
           714,
           792,
           220,
           42,
           82,
           118,
           255,
           291,
           72,
           19
          ],
          "sizemode": "area",
          "sizeref": 0.5988888888888889,
          "symbol": "circle"
         },
         "mode": "markers",
         "name": "認知落差小",
         "orientation": "v",
         "showlegend": true,
         "type": "scatter",
         "x": [
          "非常不快樂",
          "非常不快樂",
          "非常不快樂",
          "非常不快樂",
          "非常不快樂",
          "非常不快樂",
          "不太快樂",
          "不太快樂",
          "不太快樂",
          "不太快樂",
          "不太快樂",
          "不太快樂",
          "還算快樂",
          "還算快樂",
          "還算快樂",
          "還算快樂",
          "還算快樂",
          "還算快樂",
          "非常快樂",
          "非常快樂",
          "非常快樂",
          "非常快樂",
          "非常快樂",
          "非常快樂"
         ],
         "xaxis": "x",
         "y": [
          "2萬以下",
          "2~3萬",
          "3~5萬",
          "5~10萬",
          "10~20萬",
          "20萬以上",
          "2萬以下",
          "2~3萬",
          "3~5萬",
          "5~10萬",
          "10~20萬",
          "20萬以上",
          "2萬以下",
          "2~3萬",
          "3~5萬",
          "5~10萬",
          "10~20萬",
          "20萬以上",
          "2萬以下",
          "2~3萬",
          "3~5萬",
          "5~10萬",
          "10~20萬",
          "20萬以上"
         ],
         "yaxis": "y"
        },
        {
         "hovertemplate": "親子間認知程度=普通<br>快樂程度(自評)=%{x}<br>家庭總收入(每月平均)=%{y}<br>count=%{marker.size}<extra></extra>",
         "legendgroup": "普通",
         "marker": {
          "color": "rgb(221,132,82)",
          "size": [
           16,
           15,
           45,
           35,
           15,
           3,
           54,
           142,
           323,
           371,
           107,
           15,
           387,
           785,
           2043,
           2156,
           642,
           134,
           119,
           186,
           536,
           585,
           180,
           38
          ],
          "sizemode": "area",
          "sizeref": 0.5988888888888889,
          "symbol": "circle"
         },
         "mode": "markers",
         "name": "普通",
         "orientation": "v",
         "showlegend": true,
         "type": "scatter",
         "x": [
          "非常不快樂",
          "非常不快樂",
          "非常不快樂",
          "非常不快樂",
          "非常不快樂",
          "非常不快樂",
          "不太快樂",
          "不太快樂",
          "不太快樂",
          "不太快樂",
          "不太快樂",
          "不太快樂",
          "還算快樂",
          "還算快樂",
          "還算快樂",
          "還算快樂",
          "還算快樂",
          "還算快樂",
          "非常快樂",
          "非常快樂",
          "非常快樂",
          "非常快樂",
          "非常快樂",
          "非常快樂"
         ],
         "xaxis": "x",
         "y": [
          "2萬以下",
          "2~3萬",
          "3~5萬",
          "5~10萬",
          "10~20萬",
          "20萬以上",
          "2萬以下",
          "2~3萬",
          "3~5萬",
          "5~10萬",
          "10~20萬",
          "20萬以上",
          "2萬以下",
          "2~3萬",
          "3~5萬",
          "5~10萬",
          "10~20萬",
          "20萬以上",
          "2萬以下",
          "2~3萬",
          "3~5萬",
          "5~10萬",
          "10~20萬",
          "20萬以上"
         ],
         "yaxis": "y"
        },
        {
         "hovertemplate": "親子間認知程度=認知落差大<br>快樂程度(自評)=%{x}<br>家庭總收入(每月平均)=%{y}<br>count=%{marker.size}<extra></extra>",
         "legendgroup": "認知落差大",
         "marker": {
          "color": "rgb(85,168,104)",
          "size": [
           23,
           40,
           50,
           79,
           19,
           7,
           56,
           94,
           172,
           180,
           58,
           16,
           140,
           218,
           473,
           502,
           168,
           28,
           37,
           60,
           161,
           140,
           39,
           10
          ],
          "sizemode": "area",
          "sizeref": 0.5988888888888889,
          "symbol": "circle"
         },
         "mode": "markers",
         "name": "認知落差大",
         "orientation": "v",
         "showlegend": true,
         "type": "scatter",
         "x": [
          "非常不快樂",
          "非常不快樂",
          "非常不快樂",
          "非常不快樂",
          "非常不快樂",
          "非常不快樂",
          "不太快樂",
          "不太快樂",
          "不太快樂",
          "不太快樂",
          "不太快樂",
          "不太快樂",
          "還算快樂",
          "還算快樂",
          "還算快樂",
          "還算快樂",
          "還算快樂",
          "還算快樂",
          "非常快樂",
          "非常快樂",
          "非常快樂",
          "非常快樂",
          "非常快樂",
          "非常快樂"
         ],
         "xaxis": "x",
         "y": [
          "2萬以下",
          "2~3萬",
          "3~5萬",
          "5~10萬",
          "10~20萬",
          "20萬以上",
          "2萬以下",
          "2~3萬",
          "3~5萬",
          "5~10萬",
          "10~20萬",
          "20萬以上",
          "2萬以下",
          "2~3萬",
          "3~5萬",
          "5~10萬",
          "10~20萬",
          "20萬以上",
          "2萬以下",
          "2~3萬",
          "3~5萬",
          "5~10萬",
          "10~20萬",
          "20萬以上"
         ],
         "yaxis": "y"
        }
       ],
       "layout": {
        "legend": {
         "itemsizing": "constant",
         "title": {
          "text": "親子間認知程度"
         },
         "tracegroupgap": 0
        },
        "template": {
         "data": {
          "bar": [
           {
            "error_x": {
             "color": "rgb(36,36,36)"
            },
            "error_y": {
             "color": "rgb(36,36,36)"
            },
            "marker": {
             "line": {
              "color": "rgb(234,234,242)",
              "width": 0.5
             },
             "pattern": {
              "fillmode": "overlay",
              "size": 10,
              "solidity": 0.2
             }
            },
            "type": "bar"
           }
          ],
          "barpolar": [
           {
            "marker": {
             "line": {
              "color": "rgb(234,234,242)",
              "width": 0.5
             },
             "pattern": {
              "fillmode": "overlay",
              "size": 10,
              "solidity": 0.2
             }
            },
            "type": "barpolar"
           }
          ],
          "carpet": [
           {
            "aaxis": {
             "endlinecolor": "rgb(36,36,36)",
             "gridcolor": "white",
             "linecolor": "white",
             "minorgridcolor": "white",
             "startlinecolor": "rgb(36,36,36)"
            },
            "baxis": {
             "endlinecolor": "rgb(36,36,36)",
             "gridcolor": "white",
             "linecolor": "white",
             "minorgridcolor": "white",
             "startlinecolor": "rgb(36,36,36)"
            },
            "type": "carpet"
           }
          ],
          "choropleth": [
           {
            "colorbar": {
             "outlinewidth": 0,
             "tickcolor": "rgb(36,36,36)",
             "ticklen": 8,
             "ticks": "outside",
             "tickwidth": 2
            },
            "type": "choropleth"
           }
          ],
          "contour": [
           {
            "colorbar": {
             "outlinewidth": 0,
             "tickcolor": "rgb(36,36,36)",
             "ticklen": 8,
             "ticks": "outside",
             "tickwidth": 2
            },
            "colorscale": [
             [
              0,
              "rgb(2,4,25)"
             ],
             [
              0.06274509803921569,
              "rgb(24,15,41)"
             ],
             [
              0.12549019607843137,
              "rgb(47,23,57)"
             ],
             [
              0.18823529411764706,
              "rgb(71,28,72)"
             ],
             [
              0.25098039215686274,
              "rgb(97,30,82)"
             ],
             [
              0.3137254901960784,
              "rgb(123,30,89)"
             ],
             [
              0.3764705882352941,
              "rgb(150,27,91)"
             ],
             [
              0.4392156862745098,
              "rgb(177,22,88)"
             ],
             [
              0.5019607843137255,
              "rgb(203,26,79)"
             ],
             [
              0.5647058823529412,
              "rgb(223,47,67)"
             ],
             [
              0.6274509803921569,
              "rgb(236,76,61)"
             ],
             [
              0.6901960784313725,
              "rgb(242,107,73)"
             ],
             [
              0.7529411764705882,
              "rgb(244,135,95)"
             ],
             [
              0.8156862745098039,
              "rgb(245,162,122)"
             ],
             [
              0.8784313725490196,
              "rgb(246,188,153)"
             ],
             [
              0.9411764705882353,
              "rgb(247,212,187)"
             ],
             [
              1,
              "rgb(250,234,220)"
             ]
            ],
            "type": "contour"
           }
          ],
          "contourcarpet": [
           {
            "colorbar": {
             "outlinewidth": 0,
             "tickcolor": "rgb(36,36,36)",
             "ticklen": 8,
             "ticks": "outside",
             "tickwidth": 2
            },
            "type": "contourcarpet"
           }
          ],
          "heatmap": [
           {
            "colorbar": {
             "outlinewidth": 0,
             "tickcolor": "rgb(36,36,36)",
             "ticklen": 8,
             "ticks": "outside",
             "tickwidth": 2
            },
            "colorscale": [
             [
              0,
              "rgb(2,4,25)"
             ],
             [
              0.06274509803921569,
              "rgb(24,15,41)"
             ],
             [
              0.12549019607843137,
              "rgb(47,23,57)"
             ],
             [
              0.18823529411764706,
              "rgb(71,28,72)"
             ],
             [
              0.25098039215686274,
              "rgb(97,30,82)"
             ],
             [
              0.3137254901960784,
              "rgb(123,30,89)"
             ],
             [
              0.3764705882352941,
              "rgb(150,27,91)"
             ],
             [
              0.4392156862745098,
              "rgb(177,22,88)"
             ],
             [
              0.5019607843137255,
              "rgb(203,26,79)"
             ],
             [
              0.5647058823529412,
              "rgb(223,47,67)"
             ],
             [
              0.6274509803921569,
              "rgb(236,76,61)"
             ],
             [
              0.6901960784313725,
              "rgb(242,107,73)"
             ],
             [
              0.7529411764705882,
              "rgb(244,135,95)"
             ],
             [
              0.8156862745098039,
              "rgb(245,162,122)"
             ],
             [
              0.8784313725490196,
              "rgb(246,188,153)"
             ],
             [
              0.9411764705882353,
              "rgb(247,212,187)"
             ],
             [
              1,
              "rgb(250,234,220)"
             ]
            ],
            "type": "heatmap"
           }
          ],
          "heatmapgl": [
           {
            "colorbar": {
             "outlinewidth": 0,
             "tickcolor": "rgb(36,36,36)",
             "ticklen": 8,
             "ticks": "outside",
             "tickwidth": 2
            },
            "colorscale": [
             [
              0,
              "rgb(2,4,25)"
             ],
             [
              0.06274509803921569,
              "rgb(24,15,41)"
             ],
             [
              0.12549019607843137,
              "rgb(47,23,57)"
             ],
             [
              0.18823529411764706,
              "rgb(71,28,72)"
             ],
             [
              0.25098039215686274,
              "rgb(97,30,82)"
             ],
             [
              0.3137254901960784,
              "rgb(123,30,89)"
             ],
             [
              0.3764705882352941,
              "rgb(150,27,91)"
             ],
             [
              0.4392156862745098,
              "rgb(177,22,88)"
             ],
             [
              0.5019607843137255,
              "rgb(203,26,79)"
             ],
             [
              0.5647058823529412,
              "rgb(223,47,67)"
             ],
             [
              0.6274509803921569,
              "rgb(236,76,61)"
             ],
             [
              0.6901960784313725,
              "rgb(242,107,73)"
             ],
             [
              0.7529411764705882,
              "rgb(244,135,95)"
             ],
             [
              0.8156862745098039,
              "rgb(245,162,122)"
             ],
             [
              0.8784313725490196,
              "rgb(246,188,153)"
             ],
             [
              0.9411764705882353,
              "rgb(247,212,187)"
             ],
             [
              1,
              "rgb(250,234,220)"
             ]
            ],
            "type": "heatmapgl"
           }
          ],
          "histogram": [
           {
            "marker": {
             "pattern": {
              "fillmode": "overlay",
              "size": 10,
              "solidity": 0.2
             }
            },
            "type": "histogram"
           }
          ],
          "histogram2d": [
           {
            "colorbar": {
             "outlinewidth": 0,
             "tickcolor": "rgb(36,36,36)",
             "ticklen": 8,
             "ticks": "outside",
             "tickwidth": 2
            },
            "colorscale": [
             [
              0,
              "rgb(2,4,25)"
             ],
             [
              0.06274509803921569,
              "rgb(24,15,41)"
             ],
             [
              0.12549019607843137,
              "rgb(47,23,57)"
             ],
             [
              0.18823529411764706,
              "rgb(71,28,72)"
             ],
             [
              0.25098039215686274,
              "rgb(97,30,82)"
             ],
             [
              0.3137254901960784,
              "rgb(123,30,89)"
             ],
             [
              0.3764705882352941,
              "rgb(150,27,91)"
             ],
             [
              0.4392156862745098,
              "rgb(177,22,88)"
             ],
             [
              0.5019607843137255,
              "rgb(203,26,79)"
             ],
             [
              0.5647058823529412,
              "rgb(223,47,67)"
             ],
             [
              0.6274509803921569,
              "rgb(236,76,61)"
             ],
             [
              0.6901960784313725,
              "rgb(242,107,73)"
             ],
             [
              0.7529411764705882,
              "rgb(244,135,95)"
             ],
             [
              0.8156862745098039,
              "rgb(245,162,122)"
             ],
             [
              0.8784313725490196,
              "rgb(246,188,153)"
             ],
             [
              0.9411764705882353,
              "rgb(247,212,187)"
             ],
             [
              1,
              "rgb(250,234,220)"
             ]
            ],
            "type": "histogram2d"
           }
          ],
          "histogram2dcontour": [
           {
            "colorbar": {
             "outlinewidth": 0,
             "tickcolor": "rgb(36,36,36)",
             "ticklen": 8,
             "ticks": "outside",
             "tickwidth": 2
            },
            "colorscale": [
             [
              0,
              "rgb(2,4,25)"
             ],
             [
              0.06274509803921569,
              "rgb(24,15,41)"
             ],
             [
              0.12549019607843137,
              "rgb(47,23,57)"
             ],
             [
              0.18823529411764706,
              "rgb(71,28,72)"
             ],
             [
              0.25098039215686274,
              "rgb(97,30,82)"
             ],
             [
              0.3137254901960784,
              "rgb(123,30,89)"
             ],
             [
              0.3764705882352941,
              "rgb(150,27,91)"
             ],
             [
              0.4392156862745098,
              "rgb(177,22,88)"
             ],
             [
              0.5019607843137255,
              "rgb(203,26,79)"
             ],
             [
              0.5647058823529412,
              "rgb(223,47,67)"
             ],
             [
              0.6274509803921569,
              "rgb(236,76,61)"
             ],
             [
              0.6901960784313725,
              "rgb(242,107,73)"
             ],
             [
              0.7529411764705882,
              "rgb(244,135,95)"
             ],
             [
              0.8156862745098039,
              "rgb(245,162,122)"
             ],
             [
              0.8784313725490196,
              "rgb(246,188,153)"
             ],
             [
              0.9411764705882353,
              "rgb(247,212,187)"
             ],
             [
              1,
              "rgb(250,234,220)"
             ]
            ],
            "type": "histogram2dcontour"
           }
          ],
          "mesh3d": [
           {
            "colorbar": {
             "outlinewidth": 0,
             "tickcolor": "rgb(36,36,36)",
             "ticklen": 8,
             "ticks": "outside",
             "tickwidth": 2
            },
            "type": "mesh3d"
           }
          ],
          "parcoords": [
           {
            "line": {
             "colorbar": {
              "outlinewidth": 0,
              "tickcolor": "rgb(36,36,36)",
              "ticklen": 8,
              "ticks": "outside",
              "tickwidth": 2
             }
            },
            "type": "parcoords"
           }
          ],
          "pie": [
           {
            "automargin": true,
            "type": "pie"
           }
          ],
          "scatter": [
           {
            "fillpattern": {
             "fillmode": "overlay",
             "size": 10,
             "solidity": 0.2
            },
            "type": "scatter"
           }
          ],
          "scatter3d": [
           {
            "line": {
             "colorbar": {
              "outlinewidth": 0,
              "tickcolor": "rgb(36,36,36)",
              "ticklen": 8,
              "ticks": "outside",
              "tickwidth": 2
             }
            },
            "marker": {
             "colorbar": {
              "outlinewidth": 0,
              "tickcolor": "rgb(36,36,36)",
              "ticklen": 8,
              "ticks": "outside",
              "tickwidth": 2
             }
            },
            "type": "scatter3d"
           }
          ],
          "scattercarpet": [
           {
            "marker": {
             "colorbar": {
              "outlinewidth": 0,
              "tickcolor": "rgb(36,36,36)",
              "ticklen": 8,
              "ticks": "outside",
              "tickwidth": 2
             }
            },
            "type": "scattercarpet"
           }
          ],
          "scattergeo": [
           {
            "marker": {
             "colorbar": {
              "outlinewidth": 0,
              "tickcolor": "rgb(36,36,36)",
              "ticklen": 8,
              "ticks": "outside",
              "tickwidth": 2
             }
            },
            "type": "scattergeo"
           }
          ],
          "scattergl": [
           {
            "marker": {
             "colorbar": {
              "outlinewidth": 0,
              "tickcolor": "rgb(36,36,36)",
              "ticklen": 8,
              "ticks": "outside",
              "tickwidth": 2
             }
            },
            "type": "scattergl"
           }
          ],
          "scattermapbox": [
           {
            "marker": {
             "colorbar": {
              "outlinewidth": 0,
              "tickcolor": "rgb(36,36,36)",
              "ticklen": 8,
              "ticks": "outside",
              "tickwidth": 2
             }
            },
            "type": "scattermapbox"
           }
          ],
          "scatterpolar": [
           {
            "marker": {
             "colorbar": {
              "outlinewidth": 0,
              "tickcolor": "rgb(36,36,36)",
              "ticklen": 8,
              "ticks": "outside",
              "tickwidth": 2
             }
            },
            "type": "scatterpolar"
           }
          ],
          "scatterpolargl": [
           {
            "marker": {
             "colorbar": {
              "outlinewidth": 0,
              "tickcolor": "rgb(36,36,36)",
              "ticklen": 8,
              "ticks": "outside",
              "tickwidth": 2
             }
            },
            "type": "scatterpolargl"
           }
          ],
          "scatterternary": [
           {
            "marker": {
             "colorbar": {
              "outlinewidth": 0,
              "tickcolor": "rgb(36,36,36)",
              "ticklen": 8,
              "ticks": "outside",
              "tickwidth": 2
             }
            },
            "type": "scatterternary"
           }
          ],
          "surface": [
           {
            "colorbar": {
             "outlinewidth": 0,
             "tickcolor": "rgb(36,36,36)",
             "ticklen": 8,
             "ticks": "outside",
             "tickwidth": 2
            },
            "colorscale": [
             [
              0,
              "rgb(2,4,25)"
             ],
             [
              0.06274509803921569,
              "rgb(24,15,41)"
             ],
             [
              0.12549019607843137,
              "rgb(47,23,57)"
             ],
             [
              0.18823529411764706,
              "rgb(71,28,72)"
             ],
             [
              0.25098039215686274,
              "rgb(97,30,82)"
             ],
             [
              0.3137254901960784,
              "rgb(123,30,89)"
             ],
             [
              0.3764705882352941,
              "rgb(150,27,91)"
             ],
             [
              0.4392156862745098,
              "rgb(177,22,88)"
             ],
             [
              0.5019607843137255,
              "rgb(203,26,79)"
             ],
             [
              0.5647058823529412,
              "rgb(223,47,67)"
             ],
             [
              0.6274509803921569,
              "rgb(236,76,61)"
             ],
             [
              0.6901960784313725,
              "rgb(242,107,73)"
             ],
             [
              0.7529411764705882,
              "rgb(244,135,95)"
             ],
             [
              0.8156862745098039,
              "rgb(245,162,122)"
             ],
             [
              0.8784313725490196,
              "rgb(246,188,153)"
             ],
             [
              0.9411764705882353,
              "rgb(247,212,187)"
             ],
             [
              1,
              "rgb(250,234,220)"
             ]
            ],
            "type": "surface"
           }
          ],
          "table": [
           {
            "cells": {
             "fill": {
              "color": "rgb(231,231,240)"
             },
             "line": {
              "color": "white"
             }
            },
            "header": {
             "fill": {
              "color": "rgb(183,183,191)"
             },
             "line": {
              "color": "white"
             }
            },
            "type": "table"
           }
          ]
         },
         "layout": {
          "annotationdefaults": {
           "arrowcolor": "rgb(67,103,167)"
          },
          "autotypenumbers": "strict",
          "coloraxis": {
           "colorbar": {
            "outlinewidth": 0,
            "tickcolor": "rgb(36,36,36)",
            "ticklen": 8,
            "ticks": "outside",
            "tickwidth": 2
           }
          },
          "colorscale": {
           "sequential": [
            [
             0,
             "rgb(2,4,25)"
            ],
            [
             0.06274509803921569,
             "rgb(24,15,41)"
            ],
            [
             0.12549019607843137,
             "rgb(47,23,57)"
            ],
            [
             0.18823529411764706,
             "rgb(71,28,72)"
            ],
            [
             0.25098039215686274,
             "rgb(97,30,82)"
            ],
            [
             0.3137254901960784,
             "rgb(123,30,89)"
            ],
            [
             0.3764705882352941,
             "rgb(150,27,91)"
            ],
            [
             0.4392156862745098,
             "rgb(177,22,88)"
            ],
            [
             0.5019607843137255,
             "rgb(203,26,79)"
            ],
            [
             0.5647058823529412,
             "rgb(223,47,67)"
            ],
            [
             0.6274509803921569,
             "rgb(236,76,61)"
            ],
            [
             0.6901960784313725,
             "rgb(242,107,73)"
            ],
            [
             0.7529411764705882,
             "rgb(244,135,95)"
            ],
            [
             0.8156862745098039,
             "rgb(245,162,122)"
            ],
            [
             0.8784313725490196,
             "rgb(246,188,153)"
            ],
            [
             0.9411764705882353,
             "rgb(247,212,187)"
            ],
            [
             1,
             "rgb(250,234,220)"
            ]
           ],
           "sequentialminus": [
            [
             0,
             "rgb(2,4,25)"
            ],
            [
             0.06274509803921569,
             "rgb(24,15,41)"
            ],
            [
             0.12549019607843137,
             "rgb(47,23,57)"
            ],
            [
             0.18823529411764706,
             "rgb(71,28,72)"
            ],
            [
             0.25098039215686274,
             "rgb(97,30,82)"
            ],
            [
             0.3137254901960784,
             "rgb(123,30,89)"
            ],
            [
             0.3764705882352941,
             "rgb(150,27,91)"
            ],
            [
             0.4392156862745098,
             "rgb(177,22,88)"
            ],
            [
             0.5019607843137255,
             "rgb(203,26,79)"
            ],
            [
             0.5647058823529412,
             "rgb(223,47,67)"
            ],
            [
             0.6274509803921569,
             "rgb(236,76,61)"
            ],
            [
             0.6901960784313725,
             "rgb(242,107,73)"
            ],
            [
             0.7529411764705882,
             "rgb(244,135,95)"
            ],
            [
             0.8156862745098039,
             "rgb(245,162,122)"
            ],
            [
             0.8784313725490196,
             "rgb(246,188,153)"
            ],
            [
             0.9411764705882353,
             "rgb(247,212,187)"
            ],
            [
             1,
             "rgb(250,234,220)"
            ]
           ]
          },
          "colorway": [
           "rgb(76,114,176)",
           "rgb(221,132,82)",
           "rgb(85,168,104)",
           "rgb(196,78,82)",
           "rgb(129,114,179)",
           "rgb(147,120,96)",
           "rgb(218,139,195)",
           "rgb(140,140,140)",
           "rgb(204,185,116)",
           "rgb(100,181,205)"
          ],
          "font": {
           "color": "rgb(36,36,36)"
          },
          "geo": {
           "bgcolor": "white",
           "lakecolor": "white",
           "landcolor": "rgb(234,234,242)",
           "showlakes": true,
           "showland": true,
           "subunitcolor": "white"
          },
          "hoverlabel": {
           "align": "left"
          },
          "hovermode": "closest",
          "paper_bgcolor": "white",
          "plot_bgcolor": "rgb(234,234,242)",
          "polar": {
           "angularaxis": {
            "gridcolor": "white",
            "linecolor": "white",
            "showgrid": true,
            "ticks": ""
           },
           "bgcolor": "rgb(234,234,242)",
           "radialaxis": {
            "gridcolor": "white",
            "linecolor": "white",
            "showgrid": true,
            "ticks": ""
           }
          },
          "scene": {
           "xaxis": {
            "backgroundcolor": "rgb(234,234,242)",
            "gridcolor": "white",
            "gridwidth": 2,
            "linecolor": "white",
            "showbackground": true,
            "showgrid": true,
            "ticks": "",
            "zerolinecolor": "white"
           },
           "yaxis": {
            "backgroundcolor": "rgb(234,234,242)",
            "gridcolor": "white",
            "gridwidth": 2,
            "linecolor": "white",
            "showbackground": true,
            "showgrid": true,
            "ticks": "",
            "zerolinecolor": "white"
           },
           "zaxis": {
            "backgroundcolor": "rgb(234,234,242)",
            "gridcolor": "white",
            "gridwidth": 2,
            "linecolor": "white",
            "showbackground": true,
            "showgrid": true,
            "ticks": "",
            "zerolinecolor": "white"
           }
          },
          "shapedefaults": {
           "fillcolor": "rgb(67,103,167)",
           "line": {
            "width": 0
           },
           "opacity": 0.5
          },
          "ternary": {
           "aaxis": {
            "gridcolor": "white",
            "linecolor": "white",
            "showgrid": true,
            "ticks": ""
           },
           "baxis": {
            "gridcolor": "white",
            "linecolor": "white",
            "showgrid": true,
            "ticks": ""
           },
           "bgcolor": "rgb(234,234,242)",
           "caxis": {
            "gridcolor": "white",
            "linecolor": "white",
            "showgrid": true,
            "ticks": ""
           }
          },
          "xaxis": {
           "automargin": true,
           "gridcolor": "white",
           "linecolor": "white",
           "showgrid": true,
           "ticks": "",
           "title": {
            "standoff": 15
           },
           "zerolinecolor": "white"
          },
          "yaxis": {
           "automargin": true,
           "gridcolor": "white",
           "linecolor": "white",
           "showgrid": true,
           "ticks": "",
           "title": {
            "standoff": 15
           },
           "zerolinecolor": "white"
          }
         }
        },
        "title": {
         "text": "Scatter Plot of 快樂程度(自評) vs 家庭總收入(每月平均) by 親子間認知程度"
        },
        "xaxis": {
         "anchor": "y",
         "domain": [
          0,
          1
         ],
         "title": {
          "text": "快樂程度(自評)"
         }
        },
        "yaxis": {
         "anchor": "x",
         "domain": [
          0,
          1
         ],
         "title": {
          "text": "家庭總收入(每月平均)"
         }
        }
       }
      }
     },
     "metadata": {},
     "output_type": "display_data"
    }
   ],
   "source": [
    "# Aggregate the data to count occurrences of each combination\n",
    "agg_df = df_blue.groupby(['w3s478_label', 'w3p602_label', 'know_level_label']).size().reset_index(name='count')\n",
    "\n",
    "# Plot using Plotly Express\n",
    "fig = px.scatter(\n",
    "    agg_df,\n",
    "    x='w3s478_label',\n",
    "    y='w3p602_label',\n",
    "    size='count',\n",
    "    color='know_level_label',\n",
    "    size_max=60,\n",
    "    title='Scatter Plot of 快樂程度(自評) vs 家庭總收入(每月平均) by 親子間認知程度',\n",
    "    labels={'w3s478_label': '快樂程度(自評)', 'w3p602_label': '家庭總收入(每月平均)', 'know_level_label': '親子間認知程度'},\n",
    "    template='seaborn'\n",
    ")\n",
    "\n",
    "# Show the plot\n",
    "fig.show()"
   ]
  },
  {
   "cell_type": "markdown",
   "metadata": {},
   "source": [
    "#### 主動的家長"
   ]
  },
  {
   "cell_type": "code",
   "execution_count": 222,
   "metadata": {},
   "outputs": [
    {
     "data": {
      "image/png": "[encoded data removed]",
      "text/plain": [
       "<Figure size 576x432 with 2 Axes>"
      ]
     },
     "metadata": {},
     "output_type": "display_data"
    }
   ],
   "source": [
    "correlation_matrix = old_df[total_vars].corr()\n",
    "\n",
    "# Plotting the heatmap\n",
    "plt.figure(figsize=(8, 6))\n",
    "sns.heatmap(correlation_matrix, annot=True, cmap='coolwarm', fmt=\".2f\", linewidths=0.5)\n",
    "plt.title('Correlation Heatmap between Variables and score')\n",
    "plt.show()"
   ]
  },
  {
   "cell_type": "markdown",
   "metadata": {},
   "source": [
    "#### 依照互相認知分數分群"
   ]
  },
  {
   "cell_type": "code",
   "execution_count": 223,
   "metadata": {},
   "outputs": [
    {
     "data": {
      "image/png": "[encoded data removed]",
      "text/plain": [
       "<Figure size 432x288 with 1 Axes>"
      ]
     },
     "metadata": {},
     "output_type": "display_data"
    }
   ],
   "source": [
    "# Plot density distribution of ESG score\n",
    "sns.set(style=\"whitegrid\")\n",
    "plt.figure(figsize=(6, 4))\n",
    "sns.kdeplot(old_df['diff_avg'], fill=True, color=\"b\")\n",
    "plt.title('Density Distribution of Conscious Difference')\n",
    "plt.xlabel('Average of Difference')\n",
    "plt.ylabel('Density')\n",
    "plt.show()"
   ]
  },
  {
   "cell_type": "code",
   "execution_count": null,
   "metadata": {},
   "outputs": [],
   "source": [
    "quantile_20 = old_df['diff_avg'].quantile(0.20)\n",
    "quantile_80 = old_df['diff_avg'].quantile(0.80)\n",
    "\n",
    "# Create the 'knowwell' and 'knowpoor' columns\n",
    "old_df['knowwell'] = (old_df['diff_avg'] <= quantile_20).astype(int)\n",
    "old_df['knowpoor'] = (old_df['diff_avg'] >= quantile_80).astype(int)"
   ]
  },
  {
   "cell_type": "markdown",
   "metadata": {},
   "source": [
    "##### 很了解子女"
   ]
  },
  {
   "cell_type": "code",
   "execution_count": 225,
   "metadata": {},
   "outputs": [],
   "source": [
    "w = old_df.knowwell==1\n",
    "df_well = old_df[w]"
   ]
  },
  {
   "cell_type": "code",
   "execution_count": 226,
   "metadata": {},
   "outputs": [
    {
     "name": "stdout",
     "output_type": "stream",
     "text": [
      "           w3s344      w3p103      w3p104      w3p107      w3p602    diff_avg\n",
      "count  879.000000  879.000000  879.000000  879.000000  879.000000  879.000000\n",
      "mean     4.230944    1.224118    2.646189    1.502844    3.771331    0.341294\n",
      "std     14.480767    0.673995    1.354552    0.671366    6.533167    0.095494\n",
      "min      1.000000    1.000000    1.000000    1.000000    1.000000    0.000000\n",
      "25%      1.000000    1.000000    1.000000    1.000000    3.000000    0.272700\n",
      "50%      2.000000    1.000000    3.000000    1.000000    3.000000    0.333300\n",
      "75%      2.000000    1.000000    3.000000    2.000000    4.000000    0.416700\n",
      "max     99.000000    5.000000    6.000000    4.000000   99.000000    0.454500\n"
     ]
    }
   ],
   "source": [
    "stat_summary = df_well[all_vars].describe()\n",
    "print(stat_summary)"
   ]
  },
  {
   "cell_type": "code",
   "execution_count": 227,
   "metadata": {},
   "outputs": [
    {
     "data": {
      "image/png": "[encoded data removed]",
      "text/plain": [
       "<Figure size 720x576 with 2 Axes>"
      ]
     },
     "metadata": {},
     "output_type": "display_data"
    }
   ],
   "source": [
    "correlation_matrix = old_df[all_vars].corr()\n",
    "\n",
    "# Plotting the heatmap\n",
    "plt.figure(figsize=(10, 8))\n",
    "sns.heatmap(correlation_matrix, annot=True, cmap='coolwarm', fmt=\".2f\", linewidths=0.5)\n",
    "plt.title('Correlation Heatmap between Variables and score')\n",
    "plt.show()"
   ]
  },
  {
   "cell_type": "code",
   "execution_count": 228,
   "metadata": {},
   "outputs": [
    {
     "name": "stdout",
     "output_type": "stream",
     "text": [
      "                            OLS Regression Results                            \n",
      "==============================================================================\n",
      "Dep. Variable:               diff_avg   R-squared:                       0.005\n",
      "Model:                            OLS   Adj. R-squared:                  0.003\n",
      "Method:                 Least Squares   F-statistic:                     3.783\n",
      "Date:                Mon, 20 May 2024   Prob (F-statistic):            0.00203\n",
      "Time:                        17:25:39   Log-Likelihood:                -2216.6\n",
      "No. Observations:                4170   AIC:                             4445.\n",
      "Df Residuals:                    4164   BIC:                             4483.\n",
      "Df Model:                           5                                         \n",
      "Covariance Type:            nonrobust                                         \n",
      "==============================================================================\n",
      "                 coef    std err          t      P>|t|      [0.025      0.975]\n",
      "------------------------------------------------------------------------------\n",
      "Intercept      0.7493      0.010     74.331      0.000       0.730       0.769\n",
      "w3s344         0.0003      0.000      0.667      0.505      -0.001       0.001\n",
      "w3p103        -0.0064      0.007     -0.905      0.366      -0.020       0.007\n",
      "w3p104        -0.0016      0.002     -0.643      0.520      -0.006       0.003\n",
      "w3p107         0.0147      0.007      2.063      0.039       0.001       0.029\n",
      "w3p602         0.0026      0.001      3.306      0.001       0.001       0.004\n",
      "==============================================================================\n",
      "Omnibus:                     1789.806   Durbin-Watson:                   1.961\n",
      "Prob(Omnibus):                  0.000   Jarque-Bera (JB):            12104.669\n",
      "Skew:                           1.915   Prob(JB):                         0.00\n",
      "Kurtosis:                      10.416   Cond. No.                         24.5\n",
      "==============================================================================\n",
      "\n",
      "Notes:\n",
      "[1] Standard Errors assume that the covariance matrix of the errors is correctly specified.\n"
     ]
    }
   ],
   "source": [
    "# Define the dependent variable\n",
    "dependent_var = 'diff_avg'\n",
    "\n",
    "# Create the formula for the regression model\n",
    "formula = f\"{dependent_var} ~ \" + \" + \".join(family_vars)\n",
    "\n",
    "# Fit the regression model\n",
    "model = smf.ols(formula=formula, data=old_df).fit()\n",
    "\n",
    "# Print the summary of the regression analysis\n",
    "print(model.summary())"
   ]
  },
  {
   "cell_type": "markdown",
   "metadata": {},
   "source": [
    "##### 認知程度和未來發展(薪水)"
   ]
  },
  {
   "cell_type": "code",
   "execution_count": null,
   "metadata": {},
   "outputs": [],
   "source": [
    "salary_mapping = {1: 0, 2: 5000, 3: 12500, 4: 17500, 5: 22500, \n",
    "                  6: 27500, 7: 32500, 8: 37500, 9: 42500, 10: 47500, \n",
    "                  11: 52500, 12: 57500, 13: 62500, 14: 67500, 15: 72500, \n",
    "                  16: 77500, 17: 82500, 18: 87500, 19: 92500, 20: 97500}\n",
    "\n",
    "old_df['cp19v66_k'] = old_df['cp19v66'].apply(lambda x: salary_mapping.get(x, np.nan))\n",
    "nan_count = old_df['cp19v66_k'].isna().sum() # 2480\n",
    "not_nan_count = (~old_df['cp19v66_k'].isna()).sum() #1781"
   ]
  },
  {
   "cell_type": "code",
   "execution_count": 236,
   "metadata": {},
   "outputs": [
    {
     "name": "stdout",
     "output_type": "stream",
     "text": [
      "Correlation coefficient between 'cp19v66_k' and 'diff_avg': 0.025273610261366732\n"
     ]
    }
   ],
   "source": [
    "if pd.api.types.is_numeric_dtype(old_df['cp19v66_k']) and pd.api.types.is_numeric_dtype(old_df['diff_avg']):\n",
    "  # Calculate Pearson correlation coefficient\n",
    "  correlation = old_df['cp19v66_k'].corr(old_df['diff_avg'])\n",
    "  print(\"Correlation coefficient between 'cp19v66_k' and 'diff_avg':\", correlation)\n"
   ]
  }
 ],
 "metadata": {
  "kernelspec": {
   "display_name": "Python 3",
   "language": "python",
   "name": "python3"
  },
  "language_info": {
   "codemirror_mode": {
    "name": "ipython",
    "version": 3
   },
   "file_extension": ".py",
   "mimetype": "text/x-python",
   "name": "python",
   "nbconvert_exporter": "python",
   "pygments_lexer": "ipython3",
   "version": "3.9.2"
  }
 },
 "nbformat": 4,
 "nbformat_minor": 2
}
